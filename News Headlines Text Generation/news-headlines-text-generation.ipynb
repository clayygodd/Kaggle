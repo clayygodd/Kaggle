{
 "cells": [
  {
   "cell_type": "markdown",
   "id": "62c7706d",
   "metadata": {
    "papermill": {
     "duration": 0.00805,
     "end_time": "2022-12-22T04:10:50.289968",
     "exception": false,
     "start_time": "2022-12-22T04:10:50.281918",
     "status": "completed"
    },
    "tags": []
   },
   "source": [
    "# **News Headlines Text Generation**\n",
    "\n",
    "In this notebook, we made a text generation model to generate news headline using data  published in New York Times in Jan-May 2017 to Jan-April 2018. <br> more info for the dataset: https://www.kaggle.com/datasets/aashita/nyt-comments\n",
    "\n",
    "Workflow:\n",
    "1. Tokenize the headlines and convert them into n_gram sequences.\n",
    "2. Apply padding to the sequences to equal the length.\n",
    "3. Split the sequences into features and labels.\n",
    "4. Build a bidirectional lstm model.\n",
    "5. Generate some headlines using the trained model."
   ]
  },
  {
   "cell_type": "markdown",
   "id": "20329d43",
   "metadata": {
    "papermill": {
     "duration": 0.006192,
     "end_time": "2022-12-22T04:10:50.302911",
     "exception": false,
     "start_time": "2022-12-22T04:10:50.296719",
     "status": "completed"
    },
    "tags": []
   },
   "source": [
    "# **Imports**"
   ]
  },
  {
   "cell_type": "code",
   "execution_count": 1,
   "id": "b017cb6c",
   "metadata": {
    "execution": {
     "iopub.execute_input": "2022-12-22T04:10:50.318307Z",
     "iopub.status.busy": "2022-12-22T04:10:50.317504Z",
     "iopub.status.idle": "2022-12-22T04:10:56.624380Z",
     "shell.execute_reply": "2022-12-22T04:10:56.623282Z"
    },
    "papermill": {
     "duration": 6.317721,
     "end_time": "2022-12-22T04:10:56.627119",
     "exception": false,
     "start_time": "2022-12-22T04:10:50.309398",
     "status": "completed"
    },
    "tags": []
   },
   "outputs": [],
   "source": [
    "import string, os\n",
    "import pandas as pd\n",
    "import numpy as np \n",
    "import matplotlib.pyplot as plt\n",
    "\n",
    "from tensorflow.keras.models import Sequential\n",
    "from tensorflow.keras.utils import to_categorical \n",
    "from tensorflow.keras.preprocessing.text import Tokenizer\n",
    "from tensorflow.keras.preprocessing.sequence import pad_sequences\n",
    "from tensorflow.keras.layers import Embedding, LSTM, Dense, Bidirectional"
   ]
  },
  {
   "cell_type": "markdown",
   "id": "475185bc",
   "metadata": {
    "papermill": {
     "duration": 0.00657,
     "end_time": "2022-12-22T04:10:56.640334",
     "exception": false,
     "start_time": "2022-12-22T04:10:56.633764",
     "status": "completed"
    },
    "tags": []
   },
   "source": [
    "# **Data Review**"
   ]
  },
  {
   "cell_type": "code",
   "execution_count": 2,
   "id": "e082877c",
   "metadata": {
    "execution": {
     "iopub.execute_input": "2022-12-22T04:10:56.655488Z",
     "iopub.status.busy": "2022-12-22T04:10:56.654778Z",
     "iopub.status.idle": "2022-12-22T04:10:56.706156Z",
     "shell.execute_reply": "2022-12-22T04:10:56.704976Z"
    },
    "papermill": {
     "duration": 0.062419,
     "end_time": "2022-12-22T04:10:56.709300",
     "exception": false,
     "start_time": "2022-12-22T04:10:56.646881",
     "status": "completed"
    },
    "tags": []
   },
   "outputs": [
    {
     "name": "stdout",
     "output_type": "stream",
     "text": [
      "There are 829 headlines.\n",
      "Some examples: \n",
      " N.F.L. vs. Politics Has Been Battle All Season Long\n",
      "Voice. Vice. Veracity.\n",
      "A Stand-Up’s Downward Slide\n",
      "New York Today: A Groundhog Has Her Day\n",
      "A Swimmer’s Communion With the Ocean\n",
      "Trail Activity\n",
      "Super Bowl\n",
      "Trump’s Mexican Shakedown\n",
      "Pence’s Presidential Pet\n",
      "Fruit of a Poison Tree\n"
     ]
    }
   ],
   "source": [
    "data_dir = '../input/nyt-comments/'\n",
    "\n",
    "all_headlines = []\n",
    "for filename in os.listdir(data_dir):\n",
    "    if 'Articles' in filename:\n",
    "        article_df = pd.read_csv(data_dir + filename)\n",
    "        all_headlines.extend(list(article_df.headline.values))\n",
    "        break\n",
    "\n",
    "all_headlines = [h for h in all_headlines if h != \"Unknown\"]\n",
    "\n",
    "linebreak = \"\\n\"\n",
    "\n",
    "print(f'There are {len(all_headlines)} headlines.')\n",
    "print(f'Some examples: \\n {linebreak.join(all_headlines[:10])}')"
   ]
  },
  {
   "cell_type": "markdown",
   "id": "ac7e7390",
   "metadata": {
    "papermill": {
     "duration": 0.006333,
     "end_time": "2022-12-22T04:10:56.722148",
     "exception": false,
     "start_time": "2022-12-22T04:10:56.715815",
     "status": "completed"
    },
    "tags": []
   },
   "source": [
    "# **Data Processing**"
   ]
  },
  {
   "cell_type": "markdown",
   "id": "f1e433b4",
   "metadata": {
    "papermill": {
     "duration": 0.006238,
     "end_time": "2022-12-22T04:10:56.734887",
     "exception": false,
     "start_time": "2022-12-22T04:10:56.728649",
     "status": "completed"
    },
    "tags": []
   },
   "source": [
    "**Data cleaning**"
   ]
  },
  {
   "cell_type": "code",
   "execution_count": 3,
   "id": "e6b7f0ca",
   "metadata": {
    "execution": {
     "iopub.execute_input": "2022-12-22T04:10:56.751414Z",
     "iopub.status.busy": "2022-12-22T04:10:56.750711Z",
     "iopub.status.idle": "2022-12-22T04:10:56.766957Z",
     "shell.execute_reply": "2022-12-22T04:10:56.765821Z"
    },
    "papermill": {
     "duration": 0.026448,
     "end_time": "2022-12-22T04:10:56.769306",
     "exception": false,
     "start_time": "2022-12-22T04:10:56.742858",
     "status": "completed"
    },
    "tags": []
   },
   "outputs": [
    {
     "data": {
      "text/plain": [
       "['nfl vs politics has been battle all season long',\n",
       " 'voice vice veracity',\n",
       " 'a standup’s downward slide',\n",
       " 'new york today a groundhog has her day',\n",
       " 'a swimmer’s communion with the ocean',\n",
       " 'trail activity',\n",
       " 'super bowl',\n",
       " 'trump’s mexican shakedown',\n",
       " 'pence’s presidential pet',\n",
       " 'fruit of a poison tree']"
      ]
     },
     "execution_count": 3,
     "metadata": {},
     "output_type": "execute_result"
    }
   ],
   "source": [
    "# remove punctuation and lower the texts\n",
    "def clean_text(txt):\n",
    "    txt = \"\".join(v for v in txt if v not in string.punctuation).lower()\n",
    "    #txt = txt.encode(\"utf8\").decode(\"ascii\",'ignore')\n",
    "    return txt \n",
    "\n",
    "corpus = [clean_text(x) for x in all_headlines]\n",
    "corpus[:10]"
   ]
  },
  {
   "cell_type": "markdown",
   "id": "e630ebd7",
   "metadata": {
    "papermill": {
     "duration": 0.00634,
     "end_time": "2022-12-22T04:10:56.782256",
     "exception": false,
     "start_time": "2022-12-22T04:10:56.775916",
     "status": "completed"
    },
    "tags": []
   },
   "source": [
    "**Tokenize and get n_gram_sequences**"
   ]
  },
  {
   "cell_type": "code",
   "execution_count": 4,
   "id": "09713089",
   "metadata": {
    "execution": {
     "iopub.execute_input": "2022-12-22T04:10:56.797513Z",
     "iopub.status.busy": "2022-12-22T04:10:56.796826Z",
     "iopub.status.idle": "2022-12-22T04:10:56.819097Z",
     "shell.execute_reply": "2022-12-22T04:10:56.818224Z"
    },
    "papermill": {
     "duration": 0.03282,
     "end_time": "2022-12-22T04:10:56.821580",
     "exception": false,
     "start_time": "2022-12-22T04:10:56.788760",
     "status": "completed"
    },
    "tags": []
   },
   "outputs": [],
   "source": [
    "# tokenizing the text\n",
    "\n",
    "tokenizer = Tokenizer()\n",
    "tokenizer.fit_on_texts(corpus)\n",
    "total_words = len(tokenizer.word_index) + 1"
   ]
  },
  {
   "cell_type": "code",
   "execution_count": 5,
   "id": "c67800dc",
   "metadata": {
    "execution": {
     "iopub.execute_input": "2022-12-22T04:10:56.837161Z",
     "iopub.status.busy": "2022-12-22T04:10:56.836494Z",
     "iopub.status.idle": "2022-12-22T04:10:56.842757Z",
     "shell.execute_reply": "2022-12-22T04:10:56.841965Z"
    },
    "papermill": {
     "duration": 0.016567,
     "end_time": "2022-12-22T04:10:56.844912",
     "exception": false,
     "start_time": "2022-12-22T04:10:56.828345",
     "status": "completed"
    },
    "tags": []
   },
   "outputs": [],
   "source": [
    "# generate a list of n-gram sequences\n",
    "\n",
    "def n_gram_seqs(corpus, tokenizer):\n",
    "    input_sequences = []\n",
    "    \n",
    "    for line in corpus:\n",
    "        counter = 1\n",
    "        sequences = tokenizer.texts_to_sequences([line])[0]\n",
    "        while counter < len(sequences):\n",
    "            input_sequences.append(sequences[:counter+1])\n",
    "            counter += 1\n",
    "    \n",
    "    return input_sequences"
   ]
  },
  {
   "cell_type": "code",
   "execution_count": 6,
   "id": "63666847",
   "metadata": {
    "execution": {
     "iopub.execute_input": "2022-12-22T04:10:56.860737Z",
     "iopub.status.busy": "2022-12-22T04:10:56.860036Z",
     "iopub.status.idle": "2022-12-22T04:10:56.869662Z",
     "shell.execute_reply": "2022-12-22T04:10:56.868064Z"
    },
    "papermill": {
     "duration": 0.020346,
     "end_time": "2022-12-22T04:10:56.871918",
     "exception": false,
     "start_time": "2022-12-22T04:10:56.851572",
     "status": "completed"
    },
    "tags": []
   },
   "outputs": [
    {
     "name": "stdout",
     "output_type": "stream",
     "text": [
      "n_gram sequences for first example look like this:\n",
      "\n"
     ]
    },
    {
     "data": {
      "text/plain": [
       "[[649, 115],\n",
       " [649, 115, 90],\n",
       " [649, 115, 90, 73],\n",
       " [649, 115, 90, 73, 650],\n",
       " [649, 115, 90, 73, 650, 651],\n",
       " [649, 115, 90, 73, 650, 651, 63],\n",
       " [649, 115, 90, 73, 650, 651, 63, 27],\n",
       " [649, 115, 90, 73, 650, 651, 63, 27, 208]]"
      ]
     },
     "execution_count": 6,
     "metadata": {},
     "output_type": "execute_result"
    }
   ],
   "source": [
    "first_example_sequence = n_gram_seqs([corpus[0]], tokenizer)\n",
    "\n",
    "print(\"n_gram sequences for first example look like this:\\n\")\n",
    "first_example_sequence"
   ]
  },
  {
   "cell_type": "code",
   "execution_count": 7,
   "id": "a88a778b",
   "metadata": {
    "execution": {
     "iopub.execute_input": "2022-12-22T04:10:56.888081Z",
     "iopub.status.busy": "2022-12-22T04:10:56.887408Z",
     "iopub.status.idle": "2022-12-22T04:10:56.909966Z",
     "shell.execute_reply": "2022-12-22T04:10:56.908791Z"
    },
    "papermill": {
     "duration": 0.033615,
     "end_time": "2022-12-22T04:10:56.912369",
     "exception": false,
     "start_time": "2022-12-22T04:10:56.878754",
     "status": "completed"
    },
    "tags": []
   },
   "outputs": [
    {
     "name": "stdout",
     "output_type": "stream",
     "text": [
      "n_grams of input_sequences have length: 4554\n",
      "maximum length of sequences is: 18\n"
     ]
    }
   ],
   "source": [
    "# apply the n_gram_seqs transformation to the whole corpus\n",
    "input_sequences = n_gram_seqs(corpus, tokenizer)\n",
    "\n",
    "# save max length \n",
    "max_sequence_len = max([len(x) for x in input_sequences])\n",
    "\n",
    "print(f\"n_grams of input_sequences have length: {len(input_sequences)}\")\n",
    "print(f\"maximum length of sequences is: {max_sequence_len}\")"
   ]
  },
  {
   "cell_type": "markdown",
   "id": "a7ca4ff4",
   "metadata": {
    "papermill": {
     "duration": 0.006563,
     "end_time": "2022-12-22T04:10:56.925833",
     "exception": false,
     "start_time": "2022-12-22T04:10:56.919270",
     "status": "completed"
    },
    "tags": []
   },
   "source": [
    "**Add padding to the sequences to even the length**"
   ]
  },
  {
   "cell_type": "code",
   "execution_count": 8,
   "id": "bf48fd9a",
   "metadata": {
    "execution": {
     "iopub.execute_input": "2022-12-22T04:10:56.941828Z",
     "iopub.status.busy": "2022-12-22T04:10:56.941193Z",
     "iopub.status.idle": "2022-12-22T04:10:56.947501Z",
     "shell.execute_reply": "2022-12-22T04:10:56.946558Z"
    },
    "papermill": {
     "duration": 0.016918,
     "end_time": "2022-12-22T04:10:56.949705",
     "exception": false,
     "start_time": "2022-12-22T04:10:56.932787",
     "status": "completed"
    },
    "tags": []
   },
   "outputs": [],
   "source": [
    "# pad tokenized sequences to the same length\n",
    "def pad_seqs(input_sequences, maxlen):\n",
    "    \n",
    "    padded_sequences = pad_sequences(input_sequences, maxlen=maxlen+1)\n",
    "    \n",
    "    return padded_sequences\n"
   ]
  },
  {
   "cell_type": "code",
   "execution_count": 9,
   "id": "31d2dab6",
   "metadata": {
    "execution": {
     "iopub.execute_input": "2022-12-22T04:10:56.965265Z",
     "iopub.status.busy": "2022-12-22T04:10:56.964850Z",
     "iopub.status.idle": "2022-12-22T04:10:56.974404Z",
     "shell.execute_reply": "2022-12-22T04:10:56.973348Z"
    },
    "papermill": {
     "duration": 0.021151,
     "end_time": "2022-12-22T04:10:56.977861",
     "exception": false,
     "start_time": "2022-12-22T04:10:56.956710",
     "status": "completed"
    },
    "tags": []
   },
   "outputs": [
    {
     "name": "stdout",
     "output_type": "stream",
     "text": [
      "padded n_gram sequences for first example look like this:\n",
      "\n"
     ]
    },
    {
     "data": {
      "text/plain": [
       "array([[  0,   0,   0,   0,   0,   0,   0, 649, 115],\n",
       "       [  0,   0,   0,   0,   0,   0, 649, 115,  90],\n",
       "       [  0,   0,   0,   0,   0, 649, 115,  90,  73],\n",
       "       [  0,   0,   0,   0, 649, 115,  90,  73, 650],\n",
       "       [  0,   0,   0, 649, 115,  90,  73, 650, 651],\n",
       "       [  0,   0, 649, 115,  90,  73, 650, 651,  63],\n",
       "       [  0, 649, 115,  90,  73, 650, 651,  63,  27],\n",
       "       [649, 115,  90,  73, 650, 651,  63,  27, 208]], dtype=int32)"
      ]
     },
     "execution_count": 9,
     "metadata": {},
     "output_type": "execute_result"
    }
   ],
   "source": [
    "print(\"padded n_gram sequences for first example look like this:\\n\")\n",
    "first_padded_seq = pad_seqs(first_example_sequence, len(first_example_sequence))\n",
    "first_padded_seq"
   ]
  },
  {
   "cell_type": "code",
   "execution_count": 10,
   "id": "2dbb1722",
   "metadata": {
    "execution": {
     "iopub.execute_input": "2022-12-22T04:10:56.994423Z",
     "iopub.status.busy": "2022-12-22T04:10:56.993494Z",
     "iopub.status.idle": "2022-12-22T04:10:57.013077Z",
     "shell.execute_reply": "2022-12-22T04:10:57.011394Z"
    },
    "papermill": {
     "duration": 0.03077,
     "end_time": "2022-12-22T04:10:57.015776",
     "exception": false,
     "start_time": "2022-12-22T04:10:56.985006",
     "status": "completed"
    },
    "tags": []
   },
   "outputs": [
    {
     "name": "stdout",
     "output_type": "stream",
     "text": [
      "padded corpus has shape: (4554, 19)\n"
     ]
    }
   ],
   "source": [
    "# Pad the whole corpus\n",
    "input_sequences = pad_seqs(input_sequences, max_sequence_len)\n",
    "\n",
    "print(f\"padded corpus has shape: {input_sequences.shape}\")"
   ]
  },
  {
   "cell_type": "markdown",
   "id": "0d2a55b6",
   "metadata": {
    "papermill": {
     "duration": 0.006934,
     "end_time": "2022-12-22T04:10:57.029982",
     "exception": false,
     "start_time": "2022-12-22T04:10:57.023048",
     "status": "completed"
    },
    "tags": []
   },
   "source": [
    "**Split padded sequences into features and labels**"
   ]
  },
  {
   "cell_type": "code",
   "execution_count": 11,
   "id": "1e809d5f",
   "metadata": {
    "execution": {
     "iopub.execute_input": "2022-12-22T04:10:57.046363Z",
     "iopub.status.busy": "2022-12-22T04:10:57.045941Z",
     "iopub.status.idle": "2022-12-22T04:10:57.051711Z",
     "shell.execute_reply": "2022-12-22T04:10:57.050547Z"
    },
    "papermill": {
     "duration": 0.016944,
     "end_time": "2022-12-22T04:10:57.054092",
     "exception": false,
     "start_time": "2022-12-22T04:10:57.037148",
     "status": "completed"
    },
    "tags": []
   },
   "outputs": [],
   "source": [
    "# generates features and labels from n-grams\n",
    "def features_and_labels(input_sequences, total_words):\n",
    "\n",
    "    features = input_sequences[:,:-1]\n",
    "    labels = input_sequences[:,-1]\n",
    "    one_hot_labels = to_categorical(labels, num_classes=total_words)\n",
    "\n",
    "    return features, one_hot_labels"
   ]
  },
  {
   "cell_type": "code",
   "execution_count": 12,
   "id": "c50ae4e6",
   "metadata": {
    "execution": {
     "iopub.execute_input": "2022-12-22T04:10:57.070433Z",
     "iopub.status.busy": "2022-12-22T04:10:57.070024Z",
     "iopub.status.idle": "2022-12-22T04:10:57.079508Z",
     "shell.execute_reply": "2022-12-22T04:10:57.078249Z"
    },
    "papermill": {
     "duration": 0.020697,
     "end_time": "2022-12-22T04:10:57.082100",
     "exception": false,
     "start_time": "2022-12-22T04:10:57.061403",
     "status": "completed"
    },
    "tags": []
   },
   "outputs": [
    {
     "name": "stdout",
     "output_type": "stream",
     "text": [
      "labels have shape: (8, 2357)\n",
      "\n",
      "features look like this:\n",
      "\n"
     ]
    },
    {
     "data": {
      "text/plain": [
       "array([[  0,   0,   0,   0,   0,   0,   0, 649],\n",
       "       [  0,   0,   0,   0,   0,   0, 649, 115],\n",
       "       [  0,   0,   0,   0,   0, 649, 115,  90],\n",
       "       [  0,   0,   0,   0, 649, 115,  90,  73],\n",
       "       [  0,   0,   0, 649, 115,  90,  73, 650],\n",
       "       [  0,   0, 649, 115,  90,  73, 650, 651],\n",
       "       [  0, 649, 115,  90,  73, 650, 651,  63],\n",
       "       [649, 115,  90,  73, 650, 651,  63,  27]], dtype=int32)"
      ]
     },
     "execution_count": 12,
     "metadata": {},
     "output_type": "execute_result"
    }
   ],
   "source": [
    "# Test padded n_grams_seq of the first example\n",
    "first_features, first_labels = features_and_labels(first_padded_seq, total_words)\n",
    "\n",
    "print(f\"labels have shape: {first_labels.shape}\")\n",
    "print(\"\\nfeatures look like this:\\n\")\n",
    "first_features"
   ]
  },
  {
   "cell_type": "code",
   "execution_count": 13,
   "id": "faa92fde",
   "metadata": {
    "execution": {
     "iopub.execute_input": "2022-12-22T04:10:57.099051Z",
     "iopub.status.busy": "2022-12-22T04:10:57.098212Z",
     "iopub.status.idle": "2022-12-22T04:10:57.118640Z",
     "shell.execute_reply": "2022-12-22T04:10:57.117265Z"
    },
    "papermill": {
     "duration": 0.031561,
     "end_time": "2022-12-22T04:10:57.121139",
     "exception": false,
     "start_time": "2022-12-22T04:10:57.089578",
     "status": "completed"
    },
    "tags": []
   },
   "outputs": [
    {
     "name": "stdout",
     "output_type": "stream",
     "text": [
      "features have shape: (4554, 18)\n",
      "labels have shape: (4554, 2357)\n"
     ]
    }
   ],
   "source": [
    "# split the whole corpus into features and labels\n",
    "features, labels = features_and_labels(input_sequences, total_words)\n",
    "\n",
    "print(f\"features have shape: {features.shape}\")\n",
    "print(f\"labels have shape: {labels.shape}\")"
   ]
  },
  {
   "cell_type": "markdown",
   "id": "0804f205",
   "metadata": {
    "papermill": {
     "duration": 0.007332,
     "end_time": "2022-12-22T04:10:57.135983",
     "exception": false,
     "start_time": "2022-12-22T04:10:57.128651",
     "status": "completed"
    },
    "tags": []
   },
   "source": [
    "# **Model Building & Training**"
   ]
  },
  {
   "cell_type": "code",
   "execution_count": 14,
   "id": "c838e089",
   "metadata": {
    "execution": {
     "iopub.execute_input": "2022-12-22T04:10:57.152669Z",
     "iopub.status.busy": "2022-12-22T04:10:57.152288Z",
     "iopub.status.idle": "2022-12-22T04:10:57.159004Z",
     "shell.execute_reply": "2022-12-22T04:10:57.157902Z"
    },
    "papermill": {
     "duration": 0.017601,
     "end_time": "2022-12-22T04:10:57.161210",
     "exception": false,
     "start_time": "2022-12-22T04:10:57.143609",
     "status": "completed"
    },
    "tags": []
   },
   "outputs": [],
   "source": [
    "# create a text generator model\n",
    "def create_model(total_words, max_sequence_len):\n",
    "    model = Sequential()\n",
    "    model.add(Embedding(total_words, 100, input_length=max_sequence_len-1))\n",
    "    model.add(Bidirectional(LSTM(150)))\n",
    "    model.add(Dense(total_words, activation=\"softmax\"))\n",
    "\n",
    "    # Compile the model\n",
    "    model.compile(loss=\"categorical_crossentropy\",\n",
    "                  optimizer=\"nadam\",\n",
    "                  metrics=['accuracy'])\n",
    "\n",
    "    return model"
   ]
  },
  {
   "cell_type": "code",
   "execution_count": 15,
   "id": "86db71a5",
   "metadata": {
    "execution": {
     "iopub.execute_input": "2022-12-22T04:10:57.178345Z",
     "iopub.status.busy": "2022-12-22T04:10:57.177799Z",
     "iopub.status.idle": "2022-12-22T04:16:29.016724Z",
     "shell.execute_reply": "2022-12-22T04:16:29.015886Z"
    },
    "papermill": {
     "duration": 331.850096,
     "end_time": "2022-12-22T04:16:29.018761",
     "exception": false,
     "start_time": "2022-12-22T04:10:57.168665",
     "status": "completed"
    },
    "tags": []
   },
   "outputs": [
    {
     "name": "stderr",
     "output_type": "stream",
     "text": [
      "2022-12-22 04:10:57.213525: I tensorflow/core/common_runtime/process_util.cc:146] Creating new thread pool with default inter op setting: 2. Tune using inter_op_parallelism_threads for best performance.\n",
      "2022-12-22 04:10:58.116420: I tensorflow/compiler/mlir/mlir_graph_optimization_pass.cc:185] None of the MLIR Optimization Passes are enabled (registered 2)\n"
     ]
    },
    {
     "name": "stdout",
     "output_type": "stream",
     "text": [
      "Epoch 1/50\n",
      "143/143 [==============================] - 11s 46ms/step - loss: 7.3327 - accuracy: 0.0349\n",
      "Epoch 2/50\n",
      "143/143 [==============================] - 7s 46ms/step - loss: 6.8339 - accuracy: 0.0378\n",
      "Epoch 3/50\n",
      "143/143 [==============================] - 7s 50ms/step - loss: 6.6800 - accuracy: 0.0389\n",
      "Epoch 4/50\n",
      "143/143 [==============================] - 6s 45ms/step - loss: 6.5154 - accuracy: 0.0457\n",
      "Epoch 5/50\n",
      "143/143 [==============================] - 6s 45ms/step - loss: 6.2962 - accuracy: 0.0529\n",
      "Epoch 6/50\n",
      "143/143 [==============================] - 6s 45ms/step - loss: 6.0298 - accuracy: 0.0648\n",
      "Epoch 7/50\n",
      "143/143 [==============================] - 6s 45ms/step - loss: 5.7130 - accuracy: 0.0720\n",
      "Epoch 8/50\n",
      "143/143 [==============================] - 7s 50ms/step - loss: 5.3782 - accuracy: 0.0810\n",
      "Epoch 9/50\n",
      "143/143 [==============================] - 6s 45ms/step - loss: 5.0400 - accuracy: 0.0964\n",
      "Epoch 10/50\n",
      "143/143 [==============================] - 6s 44ms/step - loss: 4.6972 - accuracy: 0.1124\n",
      "Epoch 11/50\n",
      "143/143 [==============================] - 6s 45ms/step - loss: 4.3640 - accuracy: 0.1394\n",
      "Epoch 12/50\n",
      "143/143 [==============================] - 6s 45ms/step - loss: 4.0385 - accuracy: 0.1776\n",
      "Epoch 13/50\n",
      "143/143 [==============================] - 7s 50ms/step - loss: 3.7225 - accuracy: 0.2266\n",
      "Epoch 14/50\n",
      "143/143 [==============================] - 6s 45ms/step - loss: 3.3982 - accuracy: 0.2850\n",
      "Epoch 15/50\n",
      "143/143 [==============================] - 6s 44ms/step - loss: 3.1033 - accuracy: 0.3395\n",
      "Epoch 16/50\n",
      "143/143 [==============================] - 6s 44ms/step - loss: 2.8153 - accuracy: 0.3935\n",
      "Epoch 17/50\n",
      "143/143 [==============================] - 6s 44ms/step - loss: 2.5463 - accuracy: 0.4464\n",
      "Epoch 18/50\n",
      "143/143 [==============================] - 7s 50ms/step - loss: 2.3051 - accuracy: 0.5094\n",
      "Epoch 19/50\n",
      "143/143 [==============================] - 6s 45ms/step - loss: 2.0865 - accuracy: 0.5542\n",
      "Epoch 20/50\n",
      "143/143 [==============================] - 6s 44ms/step - loss: 1.8808 - accuracy: 0.5957\n",
      "Epoch 21/50\n",
      "143/143 [==============================] - 6s 44ms/step - loss: 1.6941 - accuracy: 0.6434\n",
      "Epoch 22/50\n",
      "143/143 [==============================] - 7s 51ms/step - loss: 1.5239 - accuracy: 0.6785\n",
      "Epoch 23/50\n",
      "143/143 [==============================] - 6s 44ms/step - loss: 1.3883 - accuracy: 0.7095\n",
      "Epoch 24/50\n",
      "143/143 [==============================] - 7s 46ms/step - loss: 1.2656 - accuracy: 0.7363\n",
      "Epoch 25/50\n",
      "143/143 [==============================] - 6s 45ms/step - loss: 1.1515 - accuracy: 0.7655\n",
      "Epoch 26/50\n",
      "143/143 [==============================] - 6s 44ms/step - loss: 1.0520 - accuracy: 0.7885\n",
      "Epoch 27/50\n",
      "143/143 [==============================] - 7s 50ms/step - loss: 0.9653 - accuracy: 0.8065\n",
      "Epoch 28/50\n",
      "143/143 [==============================] - 6s 44ms/step - loss: 0.8859 - accuracy: 0.8235\n",
      "Epoch 29/50\n",
      "143/143 [==============================] - 6s 44ms/step - loss: 0.8224 - accuracy: 0.8377\n",
      "Epoch 30/50\n",
      "143/143 [==============================] - 6s 44ms/step - loss: 0.7708 - accuracy: 0.8461\n",
      "Epoch 31/50\n",
      "143/143 [==============================] - 6s 45ms/step - loss: 0.7120 - accuracy: 0.8610\n",
      "Epoch 32/50\n",
      "143/143 [==============================] - 7s 49ms/step - loss: 0.6630 - accuracy: 0.8700\n",
      "Epoch 33/50\n",
      "143/143 [==============================] - 6s 44ms/step - loss: 0.6204 - accuracy: 0.8768\n",
      "Epoch 34/50\n",
      "143/143 [==============================] - 6s 44ms/step - loss: 0.5858 - accuracy: 0.8834\n",
      "Epoch 35/50\n",
      "143/143 [==============================] - 6s 44ms/step - loss: 0.5643 - accuracy: 0.8801\n",
      "Epoch 36/50\n",
      "143/143 [==============================] - 6s 44ms/step - loss: 0.5312 - accuracy: 0.8911\n",
      "Epoch 37/50\n",
      "143/143 [==============================] - 7s 50ms/step - loss: 0.5028 - accuracy: 0.8942\n",
      "Epoch 38/50\n",
      "143/143 [==============================] - 6s 44ms/step - loss: 0.4891 - accuracy: 0.8953\n",
      "Epoch 39/50\n",
      "143/143 [==============================] - 6s 44ms/step - loss: 0.4668 - accuracy: 0.8970\n",
      "Epoch 40/50\n",
      "143/143 [==============================] - 6s 45ms/step - loss: 0.4512 - accuracy: 0.8975\n",
      "Epoch 41/50\n",
      "143/143 [==============================] - 6s 45ms/step - loss: 0.4317 - accuracy: 0.9001\n",
      "Epoch 42/50\n",
      "143/143 [==============================] - 7s 51ms/step - loss: 0.4280 - accuracy: 0.8992\n",
      "Epoch 43/50\n",
      "143/143 [==============================] - 6s 45ms/step - loss: 0.4238 - accuracy: 0.8992\n",
      "Epoch 44/50\n",
      "143/143 [==============================] - 6s 45ms/step - loss: 0.4087 - accuracy: 0.9001\n",
      "Epoch 45/50\n",
      "143/143 [==============================] - 6s 45ms/step - loss: 0.4268 - accuracy: 0.8942\n",
      "Epoch 46/50\n",
      "143/143 [==============================] - 7s 51ms/step - loss: 0.4174 - accuracy: 0.8990\n",
      "Epoch 47/50\n",
      "143/143 [==============================] - 6s 43ms/step - loss: 0.3947 - accuracy: 0.9007\n",
      "Epoch 48/50\n",
      "143/143 [==============================] - 6s 45ms/step - loss: 0.3899 - accuracy: 0.9001\n",
      "Epoch 49/50\n",
      "143/143 [==============================] - 6s 44ms/step - loss: 0.3779 - accuracy: 0.9034\n",
      "Epoch 50/50\n",
      "143/143 [==============================] - 6s 44ms/step - loss: 0.3788 - accuracy: 0.9005\n"
     ]
    }
   ],
   "source": [
    "# create an untrained model\n",
    "model = create_model(total_words, max_sequence_len)\n",
    "\n",
    "# train the model\n",
    "history = model.fit(features, labels, epochs=50, verbose=1)"
   ]
  },
  {
   "cell_type": "code",
   "execution_count": 16,
   "id": "b5eb1a51",
   "metadata": {
    "execution": {
     "iopub.execute_input": "2022-12-22T04:16:29.490394Z",
     "iopub.status.busy": "2022-12-22T04:16:29.489994Z",
     "iopub.status.idle": "2022-12-22T04:16:29.861843Z",
     "shell.execute_reply": "2022-12-22T04:16:29.860803Z"
    },
    "papermill": {
     "duration": 0.610141,
     "end_time": "2022-12-22T04:16:29.864338",
     "exception": false,
     "start_time": "2022-12-22T04:16:29.254197",
     "status": "completed"
    },
    "tags": []
   },
   "outputs": [
    {
     "data": {
      "image/png": "[encoded data removed]",
      "text/plain": [
       "<Figure size 432x288 with 1 Axes>"
      ]
     },
     "metadata": {
      "needs_background": "light"
     },
     "output_type": "display_data"
    },
    {
     "data": {
      "image/png": "[encoded data removed]",
      "text/plain": [
       "<Figure size 432x288 with 1 Axes>"
      ]
     },
     "metadata": {
      "needs_background": "light"
     },
     "output_type": "display_data"
    }
   ],
   "source": [
    "# plot the training result\n",
    "acc = history.history['accuracy']\n",
    "loss = history.history['loss']\n",
    "\n",
    "epochs = range(len(acc))\n",
    "\n",
    "plt.plot(epochs, acc, 'b', label='Training accuracy')\n",
    "plt.title('Training accuracy')\n",
    "\n",
    "plt.figure()\n",
    "\n",
    "plt.plot(epochs, loss, 'b', label='Training Loss')\n",
    "plt.title('Training loss')\n",
    "plt.legend()\n",
    "\n",
    "plt.show()"
   ]
  },
  {
   "cell_type": "markdown",
   "id": "dd7c40ca",
   "metadata": {
    "papermill": {
     "duration": 0.235529,
     "end_time": "2022-12-22T04:16:30.332859",
     "exception": false,
     "start_time": "2022-12-22T04:16:30.097330",
     "status": "completed"
    },
    "tags": []
   },
   "source": [
    "# **Testing**"
   ]
  },
  {
   "cell_type": "code",
   "execution_count": 17,
   "id": "d9817a4b",
   "metadata": {
    "execution": {
     "iopub.execute_input": "2022-12-22T04:16:30.804923Z",
     "iopub.status.busy": "2022-12-22T04:16:30.804526Z",
     "iopub.status.idle": "2022-12-22T04:16:30.812197Z",
     "shell.execute_reply": "2022-12-22T04:16:30.811011Z"
    },
    "papermill": {
     "duration": 0.245381,
     "end_time": "2022-12-22T04:16:30.814356",
     "exception": false,
     "start_time": "2022-12-22T04:16:30.568975",
     "status": "completed"
    },
    "tags": []
   },
   "outputs": [],
   "source": [
    "# generate some text using the trained model\n",
    "def generate_text(seed_text, next_words, model, max_sequence_len):\n",
    "    for _ in range(next_words):\n",
    "        # Convert the text into sequences\n",
    "        token_list = tokenizer.texts_to_sequences([seed_text])[0]\n",
    "        # Pad the sequences\n",
    "        token_list = pad_sequences([token_list], maxlen=max_sequence_len-1, padding='pre')\n",
    "        # Get the probabilities of predicting a word\n",
    "        predicted = model.predict(token_list, verbose=0)\n",
    "        # Choose the next word based on the maximum probability\n",
    "        predicted = np.argmax(predicted, axis=-1).item()\n",
    "        # Get the actual word from the word index\n",
    "        output_word = tokenizer.index_word[predicted]\n",
    "        # Append to the current text\n",
    "        seed_text += \" \" + output_word\n",
    "    return seed_text.title()"
   ]
  },
  {
   "cell_type": "code",
   "execution_count": 18,
   "id": "f49368ae",
   "metadata": {
    "execution": {
     "iopub.execute_input": "2022-12-22T04:16:31.350011Z",
     "iopub.status.busy": "2022-12-22T04:16:31.349406Z",
     "iopub.status.idle": "2022-12-22T04:16:33.070576Z",
     "shell.execute_reply": "2022-12-22T04:16:33.069267Z"
    },
    "papermill": {
     "duration": 1.95773,
     "end_time": "2022-12-22T04:16:33.073144",
     "exception": false,
     "start_time": "2022-12-22T04:16:31.115414",
     "status": "completed"
    },
    "tags": []
   },
   "outputs": [
    {
     "name": "stdout",
     "output_type": "stream",
     "text": [
      "United States Spends On Risks As\n",
      "China Wants To Attract More\n",
      "Donald Trump Will Numb You You\n",
      "Global Economy From Your Readers Led\n",
      "Deep Learning Are It Rising\n"
     ]
    }
   ],
   "source": [
    "print (generate_text(\"united states\", 4, model, max_sequence_len))\n",
    "print (generate_text(\"china\", 4, model, max_sequence_len))\n",
    "print (generate_text(\"donald trump\", 4, model, max_sequence_len))\n",
    "print (generate_text(\"global economy\", 4, model, max_sequence_len))\n",
    "print (generate_text(\"deep learning\", 3, model, max_sequence_len))"
   ]
  }
 ],
 "metadata": {
  "kernelspec": {
   "display_name": "Python 3",
   "language": "python",
   "name": "python3"
  },
  "language_info": {
   "codemirror_mode": {
    "name": "ipython",
    "version": 3
   },
   "file_extension": ".py",
   "mimetype": "text/x-python",
   "name": "python",
   "nbconvert_exporter": "python",
   "pygments_lexer": "ipython3",
   "version": "3.7.12"
  },
  "papermill": {
   "default_parameters": {},
   "duration": 354.410993,
   "end_time": "2022-12-22T04:16:36.267959",
   "environment_variables": {},
   "exception": null,
   "input_path": "__notebook__.ipynb",
   "output_path": "__notebook__.ipynb",
   "parameters": {},
   "start_time": "2022-12-22T04:10:41.856966",
   "version": "2.3.4"
  }
 },
 "nbformat": 4,
 "nbformat_minor": 5
}
