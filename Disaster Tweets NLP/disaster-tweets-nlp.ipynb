{
 "cells": [
  {
   "cell_type": "markdown",
   "id": "f7974740",
   "metadata": {
    "papermill": {
     "duration": 0.01094,
     "end_time": "2023-02-14T03:03:29.470027",
     "exception": false,
     "start_time": "2023-02-14T03:03:29.459087",
     "status": "completed"
    },
    "tags": []
   },
   "source": [
    "# **Twitter Disaster NLP**\n",
    "\n",
    "In this notebook, we build a NLP classification model using bidirectional LSTM that predicts which Tweets are about real disasters and which one’s aren’t.\n",
    "\n",
    "Workflow:\n",
    "1. Tokenize the tweets and convert them into sequences.\n",
    "2. Apply GLOVE embeddings to convert the sequences into tensors.\n",
    "3. Build a bidirectional lstm model.\n",
    "4. Make prediction on the test data"
   ]
  },
  {
   "cell_type": "code",
   "execution_count": 1,
   "id": "7a405e87",
   "metadata": {
    "execution": {
     "iopub.execute_input": "2023-02-14T03:03:29.493223Z",
     "iopub.status.busy": "2023-02-14T03:03:29.492413Z",
     "iopub.status.idle": "2023-02-14T03:03:36.705600Z",
     "shell.execute_reply": "2023-02-14T03:03:36.704565Z"
    },
    "papermill": {
     "duration": 7.228697,
     "end_time": "2023-02-14T03:03:36.708335",
     "exception": false,
     "start_time": "2023-02-14T03:03:29.479638",
     "status": "completed"
    },
    "tags": []
   },
   "outputs": [],
   "source": [
    "import os\n",
    "import csv\n",
    "import random\n",
    "import zipfile\n",
    "\n",
    "import numpy as np\n",
    "import tensorflow as tf\n",
    "import matplotlib.pyplot as plt\n",
    "import pandas as pd\n",
    "\n",
    "from scipy.stats import linregress\n",
    "from tensorflow.keras.preprocessing.text import Tokenizer\n",
    "from tensorflow.keras.preprocessing.sequence import pad_sequences\n",
    "from sklearn.preprocessing import LabelEncoder\n",
    "from imblearn.over_sampling import RandomOverSampler"
   ]
  },
  {
   "cell_type": "markdown",
   "id": "9a391a02",
   "metadata": {
    "papermill": {
     "duration": 0.009561,
     "end_time": "2023-02-14T03:03:36.728422",
     "exception": false,
     "start_time": "2023-02-14T03:03:36.718861",
     "status": "completed"
    },
    "tags": []
   },
   "source": [
    "# **Data Review**"
   ]
  },
  {
   "cell_type": "code",
   "execution_count": 2,
   "id": "dd3236e8",
   "metadata": {
    "execution": {
     "iopub.execute_input": "2023-02-14T03:03:36.749375Z",
     "iopub.status.busy": "2023-02-14T03:03:36.748443Z",
     "iopub.status.idle": "2023-02-14T03:03:36.793542Z",
     "shell.execute_reply": "2023-02-14T03:03:36.792658Z"
    },
    "papermill": {
     "duration": 0.058019,
     "end_time": "2023-02-14T03:03:36.795929",
     "exception": false,
     "start_time": "2023-02-14T03:03:36.737910",
     "status": "completed"
    },
    "tags": []
   },
   "outputs": [],
   "source": [
    "# reading data file\n",
    "TRAINING_DIR = \"/kaggle/input/nlp-getting-started/train.csv\"\n",
    "\n",
    "training_data = pd.read_csv(TRAINING_DIR)"
   ]
  },
  {
   "cell_type": "code",
   "execution_count": 3,
   "id": "84de5fbd",
   "metadata": {
    "execution": {
     "iopub.execute_input": "2023-02-14T03:03:36.817597Z",
     "iopub.status.busy": "2023-02-14T03:03:36.816882Z",
     "iopub.status.idle": "2023-02-14T03:03:36.834744Z",
     "shell.execute_reply": "2023-02-14T03:03:36.833814Z"
    },
    "papermill": {
     "duration": 0.030617,
     "end_time": "2023-02-14T03:03:36.836855",
     "exception": false,
     "start_time": "2023-02-14T03:03:36.806238",
     "status": "completed"
    },
    "tags": []
   },
   "outputs": [
    {
     "data": {
      "text/html": [
       "<div>\n",
       "<style scoped>\n",
       "    .dataframe tbody tr th:only-of-type {\n",
       "        vertical-align: middle;\n",
       "    }\n",
       "\n",
       "    .dataframe tbody tr th {\n",
       "        vertical-align: top;\n",
       "    }\n",
       "\n",
       "    .dataframe thead th {\n",
       "        text-align: right;\n",
       "    }\n",
       "</style>\n",
       "<table border=\"1\" class=\"dataframe\">\n",
       "  <thead>\n",
       "    <tr style=\"text-align: right;\">\n",
       "      <th></th>\n",
       "      <th>id</th>\n",
       "      <th>keyword</th>\n",
       "      <th>location</th>\n",
       "      <th>text</th>\n",
       "      <th>target</th>\n",
       "    </tr>\n",
       "  </thead>\n",
       "  <tbody>\n",
       "    <tr>\n",
       "      <th>0</th>\n",
       "      <td>1</td>\n",
       "      <td>NaN</td>\n",
       "      <td>NaN</td>\n",
       "      <td>Our Deeds are the Reason of this #earthquake M...</td>\n",
       "      <td>1</td>\n",
       "    </tr>\n",
       "    <tr>\n",
       "      <th>1</th>\n",
       "      <td>4</td>\n",
       "      <td>NaN</td>\n",
       "      <td>NaN</td>\n",
       "      <td>Forest fire near La Ronge Sask. Canada</td>\n",
       "      <td>1</td>\n",
       "    </tr>\n",
       "    <tr>\n",
       "      <th>2</th>\n",
       "      <td>5</td>\n",
       "      <td>NaN</td>\n",
       "      <td>NaN</td>\n",
       "      <td>All residents asked to 'shelter in place' are ...</td>\n",
       "      <td>1</td>\n",
       "    </tr>\n",
       "    <tr>\n",
       "      <th>3</th>\n",
       "      <td>6</td>\n",
       "      <td>NaN</td>\n",
       "      <td>NaN</td>\n",
       "      <td>13,000 people receive #wildfires evacuation or...</td>\n",
       "      <td>1</td>\n",
       "    </tr>\n",
       "    <tr>\n",
       "      <th>4</th>\n",
       "      <td>7</td>\n",
       "      <td>NaN</td>\n",
       "      <td>NaN</td>\n",
       "      <td>Just got sent this photo from Ruby #Alaska as ...</td>\n",
       "      <td>1</td>\n",
       "    </tr>\n",
       "  </tbody>\n",
       "</table>\n",
       "</div>"
      ],
      "text/plain": [
       "   id keyword location                                               text  \\\n",
       "0   1     NaN      NaN  Our Deeds are the Reason of this #earthquake M...   \n",
       "1   4     NaN      NaN             Forest fire near La Ronge Sask. Canada   \n",
       "2   5     NaN      NaN  All residents asked to 'shelter in place' are ...   \n",
       "3   6     NaN      NaN  13,000 people receive #wildfires evacuation or...   \n",
       "4   7     NaN      NaN  Just got sent this photo from Ruby #Alaska as ...   \n",
       "\n",
       "   target  \n",
       "0       1  \n",
       "1       1  \n",
       "2       1  \n",
       "3       1  \n",
       "4       1  "
      ]
     },
     "execution_count": 3,
     "metadata": {},
     "output_type": "execute_result"
    }
   ],
   "source": [
    "#Visualised data\n",
    "training_data.head()"
   ]
  },
  {
   "cell_type": "code",
   "execution_count": 4,
   "id": "01f70f5a",
   "metadata": {
    "execution": {
     "iopub.execute_input": "2023-02-14T03:03:36.858305Z",
     "iopub.status.busy": "2023-02-14T03:03:36.857315Z",
     "iopub.status.idle": "2023-02-14T03:03:36.882472Z",
     "shell.execute_reply": "2023-02-14T03:03:36.880565Z"
    },
    "papermill": {
     "duration": 0.038101,
     "end_time": "2023-02-14T03:03:36.884581",
     "exception": false,
     "start_time": "2023-02-14T03:03:36.846480",
     "status": "completed"
    },
    "tags": []
   },
   "outputs": [
    {
     "name": "stdout",
     "output_type": "stream",
     "text": [
      "<class 'pandas.core.frame.DataFrame'>\n",
      "RangeIndex: 7613 entries, 0 to 7612\n",
      "Data columns (total 5 columns):\n",
      " #   Column    Non-Null Count  Dtype \n",
      "---  ------    --------------  ----- \n",
      " 0   id        7613 non-null   int64 \n",
      " 1   keyword   7552 non-null   object\n",
      " 2   location  5080 non-null   object\n",
      " 3   text      7613 non-null   object\n",
      " 4   target    7613 non-null   int64 \n",
      "dtypes: int64(2), object(3)\n",
      "memory usage: 297.5+ KB\n"
     ]
    }
   ],
   "source": [
    "training_data.info()"
   ]
  },
  {
   "cell_type": "code",
   "execution_count": 5,
   "id": "a62bcf11",
   "metadata": {
    "execution": {
     "iopub.execute_input": "2023-02-14T03:03:36.906456Z",
     "iopub.status.busy": "2023-02-14T03:03:36.905714Z",
     "iopub.status.idle": "2023-02-14T03:03:36.915936Z",
     "shell.execute_reply": "2023-02-14T03:03:36.913648Z"
    },
    "papermill": {
     "duration": 0.023427,
     "end_time": "2023-02-14T03:03:36.918123",
     "exception": false,
     "start_time": "2023-02-14T03:03:36.894696",
     "status": "completed"
    },
    "tags": []
   },
   "outputs": [
    {
     "data": {
      "text/plain": [
       "id             0\n",
       "keyword       61\n",
       "location    2533\n",
       "text           0\n",
       "target         0\n",
       "dtype: int64"
      ]
     },
     "execution_count": 5,
     "metadata": {},
     "output_type": "execute_result"
    }
   ],
   "source": [
    "# check blank data\n",
    "training_data.isnull().sum()"
   ]
  },
  {
   "cell_type": "code",
   "execution_count": 6,
   "id": "81fe0cb7",
   "metadata": {
    "execution": {
     "iopub.execute_input": "2023-02-14T03:03:36.940014Z",
     "iopub.status.busy": "2023-02-14T03:03:36.939212Z",
     "iopub.status.idle": "2023-02-14T03:03:37.165061Z",
     "shell.execute_reply": "2023-02-14T03:03:37.164379Z"
    },
    "papermill": {
     "duration": 0.23873,
     "end_time": "2023-02-14T03:03:37.166923",
     "exception": false,
     "start_time": "2023-02-14T03:03:36.928193",
     "status": "completed"
    },
    "tags": []
   },
   "outputs": [
    {
     "data": {
      "text/plain": [
       "<AxesSubplot:title={'center':'Count of labels'}>"
      ]
     },
     "execution_count": 6,
     "metadata": {},
     "output_type": "execute_result"
    },
    {
     "data": {
      "image/png": "[encoded data removed]",
      "text/plain": [
       "<Figure size 432x288 with 1 Axes>"
      ]
     },
     "metadata": {
      "needs_background": "light"
     },
     "output_type": "display_data"
    }
   ],
   "source": [
    "training_data[\"target\"].value_counts().plot(kind='bar', title=\"Count of labels\")"
   ]
  },
  {
   "cell_type": "code",
   "execution_count": 7,
   "id": "0095970f",
   "metadata": {
    "execution": {
     "iopub.execute_input": "2023-02-14T03:03:37.189581Z",
     "iopub.status.busy": "2023-02-14T03:03:37.189305Z",
     "iopub.status.idle": "2023-02-14T03:03:37.485648Z",
     "shell.execute_reply": "2023-02-14T03:03:37.484775Z"
    },
    "papermill": {
     "duration": 0.309972,
     "end_time": "2023-02-14T03:03:37.487841",
     "exception": false,
     "start_time": "2023-02-14T03:03:37.177869",
     "status": "completed"
    },
    "tags": []
   },
   "outputs": [
    {
     "data": {
      "text/plain": [
       "<AxesSubplot:title={'center':'Histogram of text length'}, ylabel='Frequency'>"
      ]
     },
     "execution_count": 7,
     "metadata": {},
     "output_type": "execute_result"
    },
    {
     "data": {
      "image/png": "[encoded data removed]",
      "text/plain": [
       "<Figure size 432x288 with 1 Axes>"
      ]
     },
     "metadata": {
      "needs_background": "light"
     },
     "output_type": "display_data"
    }
   ],
   "source": [
    "training_data[\"text\"].apply(len).plot(kind='hist', bins=50, title=\"Histogram of text length\")"
   ]
  },
  {
   "cell_type": "markdown",
   "id": "882311c6",
   "metadata": {
    "papermill": {
     "duration": 0.010245,
     "end_time": "2023-02-14T03:03:37.508749",
     "exception": false,
     "start_time": "2023-02-14T03:03:37.498504",
     "status": "completed"
    },
    "tags": []
   },
   "source": [
    "# **Data Processing**"
   ]
  },
  {
   "cell_type": "code",
   "execution_count": 8,
   "id": "bbc8d540",
   "metadata": {
    "execution": {
     "iopub.execute_input": "2023-02-14T03:03:37.531296Z",
     "iopub.status.busy": "2023-02-14T03:03:37.530964Z",
     "iopub.status.idle": "2023-02-14T03:03:37.535809Z",
     "shell.execute_reply": "2023-02-14T03:03:37.534890Z"
    },
    "papermill": {
     "duration": 0.018301,
     "end_time": "2023-02-14T03:03:37.537788",
     "exception": false,
     "start_time": "2023-02-14T03:03:37.519487",
     "status": "completed"
    },
    "tags": []
   },
   "outputs": [],
   "source": [
    "EMBEDDING_DIM = 100\n",
    "MAXLEN = 160\n",
    "TRUNCATING = 'post'\n",
    "PADDING = 'post'\n",
    "OOV_TOKEN = \"<OOV>\"\n",
    "MAX_EXAMPLES = 8684\n",
    "TRAINING_SPLIT = 0.9\n",
    "NUM_CLASSES = 2"
   ]
  },
  {
   "cell_type": "code",
   "execution_count": 9,
   "id": "1bc4b1e1",
   "metadata": {
    "execution": {
     "iopub.execute_input": "2023-02-14T03:03:37.560395Z",
     "iopub.status.busy": "2023-02-14T03:03:37.560128Z",
     "iopub.status.idle": "2023-02-14T03:03:38.583404Z",
     "shell.execute_reply": "2023-02-14T03:03:38.582213Z"
    },
    "papermill": {
     "duration": 1.037597,
     "end_time": "2023-02-14T03:03:38.586135",
     "exception": false,
     "start_time": "2023-02-14T03:03:37.548538",
     "status": "completed"
    },
    "tags": []
   },
   "outputs": [
    {
     "name": "stderr",
     "output_type": "stream",
     "text": [
      "[nltk_data] Downloading package wordnet to /usr/share/nltk_data...\n",
      "[nltk_data]   Package wordnet is already up-to-date!\n",
      "[nltk_data] Downloading package omw-1.4 to /usr/share/nltk_data...\n"
     ]
    }
   ],
   "source": [
    "import nltk\n",
    "import re, string\n",
    "\n",
    "from bs4 import BeautifulSoup\n",
    "from nltk.stem import WordNetLemmatizer\n",
    "\n",
    "nltk.download('wordnet')\n",
    "nltk.download('omw-1.4')\n",
    "\n",
    "#define preprocessing functions\n",
    "\n",
    "def remove_stopwords(sentence):\n",
    "    \"\"\"\n",
    "    Removes a list of stopwords\n",
    "    \n",
    "    Args:\n",
    "        sentence (string): sentence to remove the stopwords from\n",
    "    \n",
    "    Returns:\n",
    "        sentence (string): lowercase sentence without the stopwords\n",
    "    \"\"\"\n",
    "    # List of stopwords\n",
    "    stopwords = [\"a\", \"about\", \"above\", \"after\", \"again\", \"against\", \"all\", \"am\", \"an\", \"and\", \"any\", \"are\", \"as\", \"at\", \"be\", \"because\", \"been\", \"before\", \"being\", \"below\", \"between\", \"both\", \"but\", \"by\", \"could\", \"did\", \"do\", \"does\", \"doing\", \"down\", \"during\", \"each\", \"few\", \"for\", \"from\", \"further\", \"had\", \"has\", \"have\", \"having\", \"he\", \"he'd\", \"he'll\", \"he's\", \"her\", \"here\", \"here's\", \"hers\", \"herself\", \"him\", \"himself\", \"his\", \"how\", \"how's\", \"i\", \"i'd\", \"i'll\", \"i'm\", \"i've\", \"if\", \"in\", \"into\", \"is\", \"it\", \"it's\", \"its\", \"itself\", \"let's\", \"me\", \"more\", \"most\", \"my\", \"myself\", \"nor\", \"of\", \"on\", \"once\", \"only\", \"or\", \"other\", \"ought\", \"our\", \"ours\", \"ourselves\", \"out\", \"over\", \"own\", \"same\", \"she\", \"she'd\", \"she'll\", \"she's\", \"should\", \"so\", \"some\", \"such\", \"than\", \"that\", \"that's\", \"the\", \"their\", \"theirs\", \"them\", \"themselves\", \"then\", \"there\", \"there's\", \"these\", \"they\", \"they'd\", \"they'll\", \"they're\", \"they've\", \"this\", \"those\", \"through\", \"to\", \"too\", \"under\", \"until\", \"up\", \"very\", \"was\", \"we\", \"we'd\", \"we'll\", \"we're\", \"we've\", \"were\", \"what\", \"what's\", \"when\", \"when's\", \"where\", \"where's\", \"which\", \"while\", \"who\", \"who's\", \"whom\", \"why\", \"why's\", \"with\", \"would\", \"you\", \"you'd\", \"you'll\", \"you're\", \"you've\", \"your\", \"yours\", \"yourself\", \"yourselves\" ]\n",
    "    \n",
    "    # Sentence converted to lowercase-only\n",
    "    sentence = sentence.lower()\n",
    "\n",
    "    words = sentence.split()\n",
    "    no_words = [w for w in words if w not in stopwords]\n",
    "    sentence = \" \".join(no_words)\n",
    "\n",
    "    return sentence\n",
    "\n",
    "#Removing the html strips\n",
    "def strip_html(text):\n",
    "    soup = BeautifulSoup(text, \"html.parser\")\n",
    "    return soup.get_text()\n",
    "\n",
    "#Removing the numbers\n",
    "def remove_numbers(text):\n",
    "    text = re.sub(r'\\d+', '', text)\n",
    "    return text\n",
    "\n",
    "#Replace dots with spaces\n",
    "def sub_dot_with_space(text):\n",
    "    text = re.sub(\"[.]\", \" \", text)\n",
    "    return text\n",
    "\n",
    "#Removing the punctuations\n",
    "def remove_punctuations(text):\n",
    "    text=re.sub('[%s]' % re.escape(string.punctuation), '' , text)\n",
    "    return text\n",
    "\n",
    "#Apply Lemmatization\n",
    "def lemmatize(sentence):\n",
    "    lemmatizer = WordNetLemmatizer()\n",
    "    words = sentence.split()\n",
    "    sentence = \" \".join([lemmatizer.lemmatize(word) for word in words])\n",
    "    return sentence\n",
    "\n",
    "#Removing the noisy text\n",
    "def pre_processing(text):\n",
    "    text = strip_html(text)\n",
    "    text = remove_numbers(text)\n",
    "    text = sub_dot_with_space(text)\n",
    "    text = remove_punctuations(text)\n",
    "    text = remove_stopwords(text)\n",
    "    text = lemmatize(text)\n",
    "    return text"
   ]
  },
  {
   "cell_type": "markdown",
   "id": "a1198fb7",
   "metadata": {
    "papermill": {
     "duration": 0.010527,
     "end_time": "2023-02-14T03:03:38.607921",
     "exception": false,
     "start_time": "2023-02-14T03:03:38.597394",
     "status": "completed"
    },
    "tags": []
   },
   "source": [
    "**Preprocess train data**"
   ]
  },
  {
   "cell_type": "code",
   "execution_count": 10,
   "id": "84f4ac8d",
   "metadata": {
    "execution": {
     "iopub.execute_input": "2023-02-14T03:03:38.631937Z",
     "iopub.status.busy": "2023-02-14T03:03:38.630284Z",
     "iopub.status.idle": "2023-02-14T03:03:38.638096Z",
     "shell.execute_reply": "2023-02-14T03:03:38.637088Z"
    },
    "papermill": {
     "duration": 0.021699,
     "end_time": "2023-02-14T03:03:38.640175",
     "exception": false,
     "start_time": "2023-02-14T03:03:38.618476",
     "status": "completed"
    },
    "tags": []
   },
   "outputs": [],
   "source": [
    "def parse_data_from_df(SENTIMENT, texts_col_name, labels_col_name):\n",
    "    \"\"\"\n",
    "    Extracts sentences and labels from a CSV file\n",
    "    \n",
    "    Args:\n",
    "        filename (string): path to the CSV file\n",
    "    \n",
    "    Returns:\n",
    "        sentences, labels (list of string, list of string): tuple containing lists of sentences and labels\n",
    "    \"\"\"\n",
    "    \n",
    "    df = pd.read_csv(SENTIMENT)\n",
    "\n",
    "    # balance dataset\n",
    "    ros = RandomOverSampler(random_state=42)\n",
    "    x_balance, y_balance = ros.fit_resample(df.drop(labels_col_name, axis=1), df[labels_col_name].values)\n",
    "    df = pd.concat([x_balance, pd.DataFrame(y_balance, columns= [labels_col_name])], axis=1)\n",
    "\n",
    "    sentences = df[texts_col_name].apply(pre_processing).to_list()\n",
    "      \n",
    "    label_encoder = LabelEncoder()\n",
    "    labels = label_encoder.fit_transform(df[labels_col_name])\n",
    "    labels = df[labels_col_name].to_list()\n",
    "        \n",
    "    return sentences, labels"
   ]
  },
  {
   "cell_type": "code",
   "execution_count": 11,
   "id": "13740779",
   "metadata": {
    "execution": {
     "iopub.execute_input": "2023-02-14T03:03:38.663906Z",
     "iopub.status.busy": "2023-02-14T03:03:38.663114Z",
     "iopub.status.idle": "2023-02-14T03:03:41.959935Z",
     "shell.execute_reply": "2023-02-14T03:03:41.958816Z"
    },
    "papermill": {
     "duration": 3.311419,
     "end_time": "2023-02-14T03:03:41.962889",
     "exception": false,
     "start_time": "2023-02-14T03:03:38.651470",
     "status": "completed"
    },
    "tags": []
   },
   "outputs": [
    {
     "name": "stderr",
     "output_type": "stream",
     "text": [
      "/opt/conda/lib/python3.7/site-packages/bs4/__init__.py:439: MarkupResemblesLocatorWarning: The input looks more like a filename than markup. You may want to open this file and pass the filehandle into Beautiful Soup.\n",
      "  MarkupResemblesLocatorWarning\n"
     ]
    },
    {
     "name": "stdout",
     "output_type": "stream",
     "text": [
      "dataset contains 8684 examples\n",
      "\n",
      "Text of first example should look like this:\n",
      "deed reason earthquake may allah forgive u\n",
      "\n",
      "Text of fourth example should look like this:\n",
      "people receive wildfire evacuation order california\n",
      "\n",
      "Labels of first 5 examples should look like this:\n",
      "[1, 1, 1, 1, 1]\n"
     ]
    }
   ],
   "source": [
    "sentences, labels = parse_data_from_df(TRAINING_DIR,\"text\",\"target\")\n",
    "\n",
    "print(f\"dataset contains {len(sentences)} examples\\n\")\n",
    "\n",
    "print(f\"Text of first example should look like this:\\n{sentences[0]}\\n\")\n",
    "print(f\"Text of fourth example should look like this:\\n{sentences[3]}\")\n",
    "\n",
    "print(f\"\\nLabels of first 5 examples should look like this:\\n{labels[:5]}\")"
   ]
  },
  {
   "cell_type": "markdown",
   "id": "974594ed",
   "metadata": {
    "papermill": {
     "duration": 0.0114,
     "end_time": "2023-02-14T03:03:41.986636",
     "exception": false,
     "start_time": "2023-02-14T03:03:41.975236",
     "status": "completed"
    },
    "tags": []
   },
   "source": [
    "**Randomize the data**"
   ]
  },
  {
   "cell_type": "code",
   "execution_count": 12,
   "id": "f8b2cc8b",
   "metadata": {
    "execution": {
     "iopub.execute_input": "2023-02-14T03:03:42.010213Z",
     "iopub.status.busy": "2023-02-14T03:03:42.009912Z",
     "iopub.status.idle": "2023-02-14T03:03:42.027637Z",
     "shell.execute_reply": "2023-02-14T03:03:42.026569Z"
    },
    "papermill": {
     "duration": 0.032385,
     "end_time": "2023-02-14T03:03:42.030348",
     "exception": false,
     "start_time": "2023-02-14T03:03:41.997963",
     "status": "completed"
    },
    "tags": []
   },
   "outputs": [
    {
     "name": "stdout",
     "output_type": "stream",
     "text": [
      "There are 8684 sentences and 8684 labels after random sampling\n",
      "\n"
     ]
    }
   ],
   "source": [
    "# Bundle the two lists into a single one\n",
    "sentences_and_labels = list(zip(sentences, labels))\n",
    "\n",
    "# Perform random sampling\n",
    "random.seed(42)\n",
    "sentences_and_labels = random.sample(sentences_and_labels, MAX_EXAMPLES)\n",
    "\n",
    "# Unpack back into separate lists\n",
    "sentences, labels = zip(*sentences_and_labels)\n",
    "\n",
    "print(f\"There are {len(sentences)} sentences and {len(labels)} labels after random sampling\\n\")"
   ]
  },
  {
   "cell_type": "code",
   "execution_count": 13,
   "id": "7a77c24d",
   "metadata": {
    "execution": {
     "iopub.execute_input": "2023-02-14T03:03:42.054986Z",
     "iopub.status.busy": "2023-02-14T03:03:42.054208Z",
     "iopub.status.idle": "2023-02-14T03:03:42.060067Z",
     "shell.execute_reply": "2023-02-14T03:03:42.059038Z"
    },
    "papermill": {
     "duration": 0.019937,
     "end_time": "2023-02-14T03:03:42.062407",
     "exception": false,
     "start_time": "2023-02-14T03:03:42.042470",
     "status": "completed"
    },
    "tags": []
   },
   "outputs": [],
   "source": [
    "def train_val_split(sentences, labels, training_split):\n",
    "    \"\"\"\n",
    "    Splits the dataset into training and validation sets\n",
    "    \n",
    "    Args:\n",
    "        sentences (list of string): lower-cased sentences without stopwords\n",
    "        labels (list of string): list of labels\n",
    "        training split (float): proportion of the dataset to convert to include in the train set\n",
    "    \n",
    "    Returns:\n",
    "        train_sentences, validation_sentences, train_labels, validation_labels - lists containing the data splits\n",
    "    \"\"\"    \n",
    "    \n",
    "    # Compute the number of sentences that will be used for training (should be an integer)\n",
    "    train_size = int(len(sentences) * training_split)\n",
    "\n",
    "    # Split the sentences and labels into train/validation splits\n",
    "    train_sentences = sentences[:train_size]\n",
    "    train_labels = labels[:train_size]\n",
    "\n",
    "    validation_sentences = sentences[train_size:]\n",
    "    validation_labels = labels[train_size:]\n",
    "    \n",
    "    return train_sentences, validation_sentences, train_labels, validation_labels"
   ]
  },
  {
   "cell_type": "code",
   "execution_count": 14,
   "id": "0fe3ce30",
   "metadata": {
    "execution": {
     "iopub.execute_input": "2023-02-14T03:03:42.085387Z",
     "iopub.status.busy": "2023-02-14T03:03:42.085120Z",
     "iopub.status.idle": "2023-02-14T03:03:42.091109Z",
     "shell.execute_reply": "2023-02-14T03:03:42.090097Z"
    },
    "papermill": {
     "duration": 0.02065,
     "end_time": "2023-02-14T03:03:42.093987",
     "exception": false,
     "start_time": "2023-02-14T03:03:42.073337",
     "status": "completed"
    },
    "tags": []
   },
   "outputs": [
    {
     "name": "stdout",
     "output_type": "stream",
     "text": [
      "There are 7815 sentences for training.\n",
      "\n",
      "There are 7815 labels for training.\n",
      "\n",
      "There are 869 sentences for validation.\n",
      "\n",
      "There are 869 labels for validation.\n"
     ]
    }
   ],
   "source": [
    "train_sentences, val_sentences, train_labels, val_labels = train_val_split(sentences, labels, TRAINING_SPLIT)\n",
    "\n",
    "print(f\"There are {len(train_sentences)} sentences for training.\\n\")\n",
    "print(f\"There are {len(train_labels)} labels for training.\\n\")\n",
    "print(f\"There are {len(val_sentences)} sentences for validation.\\n\")\n",
    "print(f\"There are {len(val_labels)} labels for validation.\")"
   ]
  },
  {
   "cell_type": "markdown",
   "id": "0ea3f52c",
   "metadata": {
    "papermill": {
     "duration": 0.011012,
     "end_time": "2023-02-14T03:03:42.117107",
     "exception": false,
     "start_time": "2023-02-14T03:03:42.106095",
     "status": "completed"
    },
    "tags": []
   },
   "source": [
    "**Tokenized train data**"
   ]
  },
  {
   "cell_type": "code",
   "execution_count": 15,
   "id": "9c8e219a",
   "metadata": {
    "execution": {
     "iopub.execute_input": "2023-02-14T03:03:42.141488Z",
     "iopub.status.busy": "2023-02-14T03:03:42.139994Z",
     "iopub.status.idle": "2023-02-14T03:03:42.146433Z",
     "shell.execute_reply": "2023-02-14T03:03:42.145423Z"
    },
    "papermill": {
     "duration": 0.020377,
     "end_time": "2023-02-14T03:03:42.148499",
     "exception": false,
     "start_time": "2023-02-14T03:03:42.128122",
     "status": "completed"
    },
    "tags": []
   },
   "outputs": [],
   "source": [
    "def fit_tokenizer(train_sentences, oov_token):\n",
    "    \"\"\"\n",
    "    Instantiates the Tokenizer class on the training sentences\n",
    "    \n",
    "    Args:\n",
    "        train_sentences (list of string): lower-cased sentences without stopwords to be used for training\n",
    "        oov_token (string) - symbol for the out-of-vocabulary token\n",
    "    \n",
    "    Returns:\n",
    "        tokenizer (object): an instance of the Tokenizer class containing the word-index dictionary\n",
    "    \"\"\"\n",
    "    \n",
    "    # Instantiate the Tokenizer class, passing in the correct value for oov_token\n",
    "    tokenizer = Tokenizer(oov_token = oov_token)\n",
    "    \n",
    "    # Fit the tokenizer to the training sentences\n",
    "    tokenizer.fit_on_texts(train_sentences)\n",
    "    \n",
    "    return tokenizer"
   ]
  },
  {
   "cell_type": "code",
   "execution_count": 16,
   "id": "34c3f942",
   "metadata": {
    "execution": {
     "iopub.execute_input": "2023-02-14T03:03:42.173269Z",
     "iopub.status.busy": "2023-02-14T03:03:42.171644Z",
     "iopub.status.idle": "2023-02-14T03:03:42.330491Z",
     "shell.execute_reply": "2023-02-14T03:03:42.328934Z"
    },
    "papermill": {
     "duration": 0.173805,
     "end_time": "2023-02-14T03:03:42.333492",
     "exception": false,
     "start_time": "2023-02-14T03:03:42.159687",
     "status": "completed"
    },
    "tags": []
   },
   "outputs": [
    {
     "name": "stdout",
     "output_type": "stream",
     "text": [
      "Vocabulary contains 19013 words\n",
      "\n",
      " token NOT included in vocabulary\n",
      "\n",
      "index of word 'happy' should be 901\n"
     ]
    }
   ],
   "source": [
    "tokenizer = fit_tokenizer(train_sentences, OOV_TOKEN)\n",
    "\n",
    "word_index = tokenizer.word_index\n",
    "VOCAB_SIZE = len(word_index)\n",
    "\n",
    "print(f\"Vocabulary contains {VOCAB_SIZE} words\\n\")\n",
    "print(\" token included in vocabulary\" if \"\" in word_index else \" token NOT included in vocabulary\")\n",
    "print(f\"\\nindex of word 'happy' should be {word_index['happy']}\")"
   ]
  },
  {
   "cell_type": "markdown",
   "id": "ce4cd716",
   "metadata": {
    "papermill": {
     "duration": 0.01132,
     "end_time": "2023-02-14T03:03:42.356148",
     "exception": false,
     "start_time": "2023-02-14T03:03:42.344828",
     "status": "completed"
    },
    "tags": []
   },
   "source": [
    "**Add Padding**"
   ]
  },
  {
   "cell_type": "code",
   "execution_count": 17,
   "id": "e5b32e19",
   "metadata": {
    "execution": {
     "iopub.execute_input": "2023-02-14T03:03:42.379349Z",
     "iopub.status.busy": "2023-02-14T03:03:42.378461Z",
     "iopub.status.idle": "2023-02-14T03:03:42.384541Z",
     "shell.execute_reply": "2023-02-14T03:03:42.383725Z"
    },
    "papermill": {
     "duration": 0.019473,
     "end_time": "2023-02-14T03:03:42.386419",
     "exception": false,
     "start_time": "2023-02-14T03:03:42.366946",
     "status": "completed"
    },
    "tags": []
   },
   "outputs": [],
   "source": [
    "def seq_pad_and_trunc(sentences, tokenizer, padding, truncating, maxlen):\n",
    "    \"\"\"\n",
    "    Generates an array of token sequences and pads them to the same length\n",
    "    \n",
    "    Args:\n",
    "        sentences (list of string): list of sentences to tokenize and pad\n",
    "        tokenizer (object): Tokenizer instance containing the word-index dictionary\n",
    "        padding (string): type of padding to use\n",
    "        truncating (string): type of truncating to use\n",
    "        maxlen (int): maximum length of the token sequence\n",
    "    \n",
    "    Returns:\n",
    "        pad_trunc_sequences (array of int): tokenized sentences padded to the same length\n",
    "    \"\"\"        \n",
    "       \n",
    "    # Convert sentences to sequences\n",
    "    sequences = tokenizer.texts_to_sequences(sentences)\n",
    "    \n",
    "    # Pad the sequences using the correct padding, truncating and maxlen\n",
    "    pad_trunc_sequences = pad_sequences(sequences, maxlen=maxlen, padding=padding, truncating=truncating)\n",
    "\n",
    "    return pad_trunc_sequences"
   ]
  },
  {
   "cell_type": "code",
   "execution_count": 18,
   "id": "5d55dd4d",
   "metadata": {
    "execution": {
     "iopub.execute_input": "2023-02-14T03:03:42.409767Z",
     "iopub.status.busy": "2023-02-14T03:03:42.409016Z",
     "iopub.status.idle": "2023-02-14T03:03:42.555533Z",
     "shell.execute_reply": "2023-02-14T03:03:42.554128Z"
    },
    "papermill": {
     "duration": 0.160977,
     "end_time": "2023-02-14T03:03:42.558156",
     "exception": false,
     "start_time": "2023-02-14T03:03:42.397179",
     "status": "completed"
    },
    "tags": []
   },
   "outputs": [
    {
     "name": "stdout",
     "output_type": "stream",
     "text": [
      "Padded and truncated training sequences have shape: (7815, 160)\n",
      "\n",
      "Padded and truncated validation sequences have shape: (869, 160)\n"
     ]
    }
   ],
   "source": [
    "train_pad_trunc_seq = seq_pad_and_trunc(train_sentences, tokenizer, PADDING, TRUNCATING, MAXLEN)\n",
    "val_pad_trunc_seq = seq_pad_and_trunc(val_sentences, tokenizer, PADDING, TRUNCATING, MAXLEN)\n",
    "\n",
    "print(f\"Padded and truncated training sequences have shape: {train_pad_trunc_seq.shape}\\n\")\n",
    "print(f\"Padded and truncated validation sequences have shape: {val_pad_trunc_seq.shape}\")"
   ]
  },
  {
   "cell_type": "code",
   "execution_count": 19,
   "id": "eb331ee4",
   "metadata": {
    "execution": {
     "iopub.execute_input": "2023-02-14T03:03:42.582395Z",
     "iopub.status.busy": "2023-02-14T03:03:42.582089Z",
     "iopub.status.idle": "2023-02-14T03:03:42.591029Z",
     "shell.execute_reply": "2023-02-14T03:03:42.589879Z"
    },
    "papermill": {
     "duration": 0.023834,
     "end_time": "2023-02-14T03:03:42.593866",
     "exception": false,
     "start_time": "2023-02-14T03:03:42.570032",
     "status": "completed"
    },
    "tags": []
   },
   "outputs": [
    {
     "name": "stdout",
     "output_type": "stream",
     "text": [
      "training labels have shape: (7815, 2)\n",
      "\n",
      "validation labels have shape: (869, 2)\n"
     ]
    }
   ],
   "source": [
    "train_labels = np.array(tf.keras.utils.to_categorical(train_labels, num_classes=NUM_CLASSES, dtype='float32'))\n",
    "val_labels = np.array(tf.keras.utils.to_categorical(val_labels, num_classes=NUM_CLASSES, dtype='float32'))\n",
    "\n",
    "print(f\"training labels have shape: {train_labels.shape}\\n\")\n",
    "print(f\"validation labels have shape: {val_labels.shape}\")"
   ]
  },
  {
   "cell_type": "code",
   "execution_count": 20,
   "id": "2c225bef",
   "metadata": {
    "execution": {
     "iopub.execute_input": "2023-02-14T03:03:42.617563Z",
     "iopub.status.busy": "2023-02-14T03:03:42.616793Z",
     "iopub.status.idle": "2023-02-14T03:05:18.943184Z",
     "shell.execute_reply": "2023-02-14T03:05:18.941962Z"
    },
    "papermill": {
     "duration": 96.341191,
     "end_time": "2023-02-14T03:05:18.946260",
     "exception": false,
     "start_time": "2023-02-14T03:03:42.605069",
     "status": "completed"
    },
    "tags": []
   },
   "outputs": [
    {
     "name": "stdout",
     "output_type": "stream",
     "text": [
      "--2023-02-14 03:03:43--  https://huggingface.co/stanfordnlp/glove/resolve/main/glove.6B.zip\r\n",
      "Resolving huggingface.co (huggingface.co)... 54.235.118.239, 3.231.67.228, 2600:1f18:147f:e850:e203:c458:10cd:fc3c, ...\r\n",
      "Connecting to huggingface.co (huggingface.co)|54.235.118.239|:443... connected.\r\n",
      "HTTP request sent, awaiting response... 302 Found\r\n",
      "Location: https://cdn-lfs.huggingface.co/stanfordnlp/glove/6471382cdd837544bf3ac72497a38715e845897d265b2b424b4761832009c837?response-content-disposition=attachment%3B+filename*%3DUTF-8%27%27glove.6B.zip%3B+filename%3D%22glove.6B.zip%22%3B&Expires=1676603024&Policy=eyJTdGF0ZW1lbnQiOlt7IlJlc291cmNlIjoiaHR0cHM6Ly9jZG4tbGZzLmh1Z2dpbmdmYWNlLmNvL3N0YW5mb3JkbmxwL2dsb3ZlLzY0NzEzODJjZGQ4Mzc1NDRiZjNhYzcyNDk3YTM4NzE1ZTg0NTg5N2QyNjViMmI0MjRiNDc2MTgzMjAwOWM4Mzc%7EcmVzcG9uc2UtY29udGVudC1kaXNwb3NpdGlvbj0qIiwiQ29uZGl0aW9uIjp7IkRhdGVMZXNzVGhhbiI6eyJBV1M6RXBvY2hUaW1lIjoxNjc2NjAzMDI0fX19XX0_&Signature=jOBJyQ7h9hSsjQR9Us9ELAUSUAO9RxRPVm%7ElronlVRXRp3dVqlzXQMO7H6DUQLgtmgaXzINCuAjVXLLr5eyeIrmcyM2Qjdfar9CVxwjXmxhqr29icQihPrOT6iiUfXUsgf7L0Dfq4iWmPeE3Ux01r7mViWLcLXMX47sAG-7YufL%7E22fotsG7aBkMSkkDP4-q-DItD0i5hSlC00DaReLFj%7EC-J-r84npEtVgNxoTvHuQpHrVOSZUJ-1L59%7E6rGvju8OMV-zmAZsbO-r%7EblzRLq3uC1g-qgYk-6abXUDlWSjC87k1v8NK978EJjccl2cqrgS4BIiTaOUOcKqB2fDcUrA__&Key-Pair-Id=KVTP0A1DKRTAX [following]\r\n",
      "--2023-02-14 03:03:43--  https://cdn-lfs.huggingface.co/stanfordnlp/glove/6471382cdd837544bf3ac72497a38715e845897d265b2b424b4761832009c837?response-content-disposition=attachment%3B+filename*%3DUTF-8%27%27glove.6B.zip%3B+filename%3D%22glove.6B.zip%22%3B&Expires=1676603024&Policy=eyJTdGF0ZW1lbnQiOlt7IlJlc291cmNlIjoiaHR0cHM6Ly9jZG4tbGZzLmh1Z2dpbmdmYWNlLmNvL3N0YW5mb3JkbmxwL2dsb3ZlLzY0NzEzODJjZGQ4Mzc1NDRiZjNhYzcyNDk3YTM4NzE1ZTg0NTg5N2QyNjViMmI0MjRiNDc2MTgzMjAwOWM4Mzc%7EcmVzcG9uc2UtY29udGVudC1kaXNwb3NpdGlvbj0qIiwiQ29uZGl0aW9uIjp7IkRhdGVMZXNzVGhhbiI6eyJBV1M6RXBvY2hUaW1lIjoxNjc2NjAzMDI0fX19XX0_&Signature=jOBJyQ7h9hSsjQR9Us9ELAUSUAO9RxRPVm%7ElronlVRXRp3dVqlzXQMO7H6DUQLgtmgaXzINCuAjVXLLr5eyeIrmcyM2Qjdfar9CVxwjXmxhqr29icQihPrOT6iiUfXUsgf7L0Dfq4iWmPeE3Ux01r7mViWLcLXMX47sAG-7YufL%7E22fotsG7aBkMSkkDP4-q-DItD0i5hSlC00DaReLFj%7EC-J-r84npEtVgNxoTvHuQpHrVOSZUJ-1L59%7E6rGvju8OMV-zmAZsbO-r%7EblzRLq3uC1g-qgYk-6abXUDlWSjC87k1v8NK978EJjccl2cqrgS4BIiTaOUOcKqB2fDcUrA__&Key-Pair-Id=KVTP0A1DKRTAX\r\n",
      "Resolving cdn-lfs.huggingface.co (cdn-lfs.huggingface.co)... 108.156.60.37, 108.156.60.112, 108.156.60.44, ...\r\n",
      "Connecting to cdn-lfs.huggingface.co (cdn-lfs.huggingface.co)|108.156.60.37|:443... connected.\r\n",
      "HTTP request sent, awaiting response... 200 OK\r\n",
      "Length: 862182753 (822M) [application/zip]\r\n",
      "Saving to: ‘glove.6B.zip’\r\n",
      "\r\n",
      "glove.6B.zip        100%[===================>] 822.24M  12.9MB/s    in 95s     \r\n",
      "\r\n",
      "2023-02-14 03:05:18 (8.69 MB/s) - ‘glove.6B.zip’ saved [862182753/862182753]\r\n",
      "\r\n"
     ]
    }
   ],
   "source": [
    "#download glove data for embedding\n",
    "!wget https://huggingface.co/stanfordnlp/glove/resolve/main/glove.6B.zip"
   ]
  },
  {
   "cell_type": "code",
   "execution_count": 21,
   "id": "23eb3926",
   "metadata": {
    "execution": {
     "iopub.execute_input": "2023-02-14T03:05:19.049636Z",
     "iopub.status.busy": "2023-02-14T03:05:19.049194Z",
     "iopub.status.idle": "2023-02-14T03:05:36.295721Z",
     "shell.execute_reply": "2023-02-14T03:05:36.294667Z"
    },
    "papermill": {
     "duration": 17.287253,
     "end_time": "2023-02-14T03:05:36.298470",
     "exception": false,
     "start_time": "2023-02-14T03:05:19.011217",
     "status": "completed"
    },
    "tags": []
   },
   "outputs": [],
   "source": [
    "#unzip glove data\n",
    "with zipfile.ZipFile(\"/kaggle/working/glove.6B.zip\",\"r\") as zip_ref:\n",
    "    zip_ref.extractall(\"/kaggle/working/data/\")"
   ]
  },
  {
   "cell_type": "code",
   "execution_count": 22,
   "id": "abfac509",
   "metadata": {
    "execution": {
     "iopub.execute_input": "2023-02-14T03:05:36.372328Z",
     "iopub.status.busy": "2023-02-14T03:05:36.372004Z",
     "iopub.status.idle": "2023-02-14T03:05:36.381469Z",
     "shell.execute_reply": "2023-02-14T03:05:36.380486Z"
    },
    "papermill": {
     "duration": 0.048352,
     "end_time": "2023-02-14T03:05:36.383595",
     "exception": false,
     "start_time": "2023-02-14T03:05:36.335243",
     "status": "completed"
    },
    "tags": []
   },
   "outputs": [
    {
     "data": {
      "text/plain": [
       "['glove.6B.200d.txt',\n",
       " 'glove.6B.300d.txt',\n",
       " 'glove.6B.100d.txt',\n",
       " 'glove.6B.50d.txt']"
      ]
     },
     "execution_count": 22,
     "metadata": {},
     "output_type": "execute_result"
    }
   ],
   "source": [
    "os.listdir(\"/kaggle/working/data/\")"
   ]
  },
  {
   "cell_type": "code",
   "execution_count": 23,
   "id": "a2b522af",
   "metadata": {
    "execution": {
     "iopub.execute_input": "2023-02-14T03:05:36.454879Z",
     "iopub.status.busy": "2023-02-14T03:05:36.454573Z",
     "iopub.status.idle": "2023-02-14T03:05:45.071381Z",
     "shell.execute_reply": "2023-02-14T03:05:45.070320Z"
    },
    "papermill": {
     "duration": 8.65491,
     "end_time": "2023-02-14T03:05:45.074082",
     "exception": false,
     "start_time": "2023-02-14T03:05:36.419172",
     "status": "completed"
    },
    "tags": []
   },
   "outputs": [],
   "source": [
    "# Define path to file containing the embeddings\n",
    "GLOVE_FILE = '/kaggle/working/data/glove.6B.100d.txt'\n",
    "\n",
    "# Initialize an empty embeddings index dictionary\n",
    "GLOVE_EMBEDDINGS = {}\n",
    "\n",
    "# Read file and fill GLOVE_EMBEDDINGS with its contents\n",
    "with open(GLOVE_FILE) as f:\n",
    "    for line in f:\n",
    "        values = line.split()\n",
    "        word = values[0]\n",
    "        coefs = np.asarray(values[1:], dtype='float32')\n",
    "        GLOVE_EMBEDDINGS[word] = coefs"
   ]
  },
  {
   "cell_type": "code",
   "execution_count": 24,
   "id": "33d3b549",
   "metadata": {
    "execution": {
     "iopub.execute_input": "2023-02-14T03:05:45.148564Z",
     "iopub.status.busy": "2023-02-14T03:05:45.147547Z",
     "iopub.status.idle": "2023-02-14T03:05:45.155614Z",
     "shell.execute_reply": "2023-02-14T03:05:45.154433Z"
    },
    "papermill": {
     "duration": 0.047434,
     "end_time": "2023-02-14T03:05:45.157871",
     "exception": false,
     "start_time": "2023-02-14T03:05:45.110437",
     "status": "completed"
    },
    "tags": []
   },
   "outputs": [
    {
     "name": "stdout",
     "output_type": "stream",
     "text": [
      "Vector representation of word dog looks like this:\n",
      "\n",
      "[ 0.30817    0.30938    0.52803   -0.92543   -0.73671    0.63475\n",
      "  0.44197    0.10262   -0.09142   -0.56607   -0.5327     0.2013\n",
      "  0.7704    -0.13983    0.13727    1.1128     0.89301   -0.17869\n",
      " -0.0019722  0.57289    0.59479    0.50428   -0.28991   -1.3491\n",
      "  0.42756    1.2748    -1.1613    -0.41084    0.042804   0.54866\n",
      "  0.18897    0.3759     0.58035    0.66975    0.81156    0.93864\n",
      " -0.51005   -0.070079   0.82819   -0.35346    0.21086   -0.24412\n",
      " -0.16554   -0.78358   -0.48482    0.38968   -0.86356   -0.016391\n",
      "  0.31984   -0.49246   -0.069363   0.018869  -0.098286   1.3126\n",
      " -0.12116   -1.2399    -0.091429   0.35294    0.64645    0.089642\n",
      "  0.70294    1.1244     0.38639    0.52084    0.98787    0.79952\n",
      " -0.34625    0.14095    0.80167    0.20987   -0.86007   -0.15308\n",
      "  0.074523   0.40816    0.019208   0.51587   -0.34428   -0.24525\n",
      " -0.77984    0.27425    0.22418    0.20164    0.017431  -0.014697\n",
      " -1.0235    -0.39695   -0.0056188  0.30569    0.31748    0.021404\n",
      "  0.11837   -0.11319    0.42456    0.53405   -0.16717   -0.27185\n",
      " -0.6255     0.12883    0.62529   -0.52086  ]\n"
     ]
    }
   ],
   "source": [
    "# check if embeddings are implemented\n",
    "test_word = 'dog'\n",
    "\n",
    "test_vector = GLOVE_EMBEDDINGS[test_word]\n",
    "\n",
    "print(f\"Vector representation of word {test_word} looks like this:\\n\\n{test_vector}\")\n"
   ]
  },
  {
   "cell_type": "code",
   "execution_count": 25,
   "id": "ee2c53a2",
   "metadata": {
    "execution": {
     "iopub.execute_input": "2023-02-14T03:05:45.232584Z",
     "iopub.status.busy": "2023-02-14T03:05:45.231598Z",
     "iopub.status.idle": "2023-02-14T03:05:45.269941Z",
     "shell.execute_reply": "2023-02-14T03:05:45.268953Z"
    },
    "papermill": {
     "duration": 0.076602,
     "end_time": "2023-02-14T03:05:45.272030",
     "exception": false,
     "start_time": "2023-02-14T03:05:45.195428",
     "status": "completed"
    },
    "tags": []
   },
   "outputs": [],
   "source": [
    "EMBEDDING_DIM = 100\n",
    "\n",
    "# Initialize an empty numpy array with the appropriate size\n",
    "EMBEDDINGS_MATRIX = np.zeros((VOCAB_SIZE+1, EMBEDDING_DIM))\n",
    "\n",
    "# Iterate all of the words in the vocabulary and if the vector representation for \n",
    "# each word exists within GloVe's representations, save it in the EMBEDDINGS_MATRIX array\n",
    "for word, i in word_index.items():\n",
    "    embedding_vector = GLOVE_EMBEDDINGS.get(word)\n",
    "    if embedding_vector is not None:\n",
    "        EMBEDDINGS_MATRIX[i] = embedding_vector"
   ]
  },
  {
   "cell_type": "markdown",
   "id": "06329d27",
   "metadata": {
    "papermill": {
     "duration": 0.035412,
     "end_time": "2023-02-14T03:05:45.342715",
     "exception": false,
     "start_time": "2023-02-14T03:05:45.307303",
     "status": "completed"
    },
    "tags": []
   },
   "source": [
    "# **Model Building & Training**"
   ]
  },
  {
   "cell_type": "code",
   "execution_count": 26,
   "id": "d7f21bc5",
   "metadata": {
    "execution": {
     "iopub.execute_input": "2023-02-14T03:05:45.415276Z",
     "iopub.status.busy": "2023-02-14T03:05:45.414972Z",
     "iopub.status.idle": "2023-02-14T03:05:45.423606Z",
     "shell.execute_reply": "2023-02-14T03:05:45.422538Z"
    },
    "papermill": {
     "duration": 0.046586,
     "end_time": "2023-02-14T03:05:45.425426",
     "exception": false,
     "start_time": "2023-02-14T03:05:45.378840",
     "status": "completed"
    },
    "tags": []
   },
   "outputs": [],
   "source": [
    "def create_model(vocab_size, embedding_dim, maxlen, embeddings_matrix):\n",
    "    \"\"\"\n",
    "    \n",
    "    Args:\n",
    "        vocab_size (int): size of the vocabulary for the Embedding layer input\n",
    "        embedding_dim (int): dimensionality of the Embedding layer output\n",
    "        maxlen (int): length of the input sequences\n",
    "        embeddings_matrix (array): predefined weights of the embeddings\n",
    "    \n",
    "    Returns:\n",
    "        model (tf.keras Model): classifier model\n",
    "    \"\"\"\n",
    "    \n",
    "    model = tf.keras.Sequential([ \n",
    "        tf.keras.layers.Embedding(vocab_size+1, embedding_dim, input_length=maxlen, weights=[embeddings_matrix], trainable=False),\n",
    "        tf.keras.layers.Conv1D(filters = 64, kernel_size=6, activation='relu', kernel_initializer='he_normal'),\n",
    "        tf.keras.layers.MaxPool1D(2),\n",
    "        tf.keras.layers.Conv1D(64, kernel_size=3, activation='relu', kernel_initializer='he_normal'),\n",
    "        tf.keras.layers.MaxPooling1D(2),\n",
    "        tf.keras.layers.Flatten(), \n",
    "        tf.keras.layers.Dropout(0.3),\n",
    "        #tf.keras.layers.Bidirectional(tf.keras.layers.LSTM(64,return_sequences=True)),\n",
    "        #tf.keras.layers.Bidirectional(tf.keras.layers.LSTM(64)),\n",
    "        tf.keras.layers.Dense(256, activation=\"relu\"),\n",
    "        tf.keras.layers.Dropout(0.3),\n",
    "        tf.keras.layers.Dense(2, activation='softmax'),        \n",
    "    ])\n",
    "    \n",
    "    optimizer = tf.keras.optimizers.Adam(beta_1=0.9, beta_2=0.999)\n",
    "    #optimizer = tf.keras.optimizers.SGD(momentum=0.9)\n",
    "    \n",
    "    model.compile(loss='categorical_crossentropy',\n",
    "                  optimizer=optimizer,\n",
    "                  metrics=['accuracy']) \n",
    "\n",
    "    return model"
   ]
  },
  {
   "cell_type": "code",
   "execution_count": 27,
   "id": "596ece81",
   "metadata": {
    "execution": {
     "iopub.execute_input": "2023-02-14T03:05:45.503933Z",
     "iopub.status.busy": "2023-02-14T03:05:45.503071Z",
     "iopub.status.idle": "2023-02-14T03:05:49.740524Z",
     "shell.execute_reply": "2023-02-14T03:05:49.738375Z"
    },
    "papermill": {
     "duration": 4.279087,
     "end_time": "2023-02-14T03:05:49.742999",
     "exception": false,
     "start_time": "2023-02-14T03:05:45.463912",
     "status": "completed"
    },
    "tags": []
   },
   "outputs": [
    {
     "name": "stderr",
     "output_type": "stream",
     "text": [
      "2023-02-14 03:05:45.663286: I tensorflow/stream_executor/cuda/cuda_gpu_executor.cc:937] successful NUMA node read from SysFS had negative value (-1), but there must be at least one NUMA node, so returning NUMA node zero\n",
      "2023-02-14 03:05:45.664261: I tensorflow/stream_executor/cuda/cuda_gpu_executor.cc:937] successful NUMA node read from SysFS had negative value (-1), but there must be at least one NUMA node, so returning NUMA node zero\n",
      "2023-02-14 03:05:45.833078: I tensorflow/stream_executor/cuda/cuda_gpu_executor.cc:937] successful NUMA node read from SysFS had negative value (-1), but there must be at least one NUMA node, so returning NUMA node zero\n",
      "2023-02-14 03:05:45.833952: I tensorflow/stream_executor/cuda/cuda_gpu_executor.cc:937] successful NUMA node read from SysFS had negative value (-1), but there must be at least one NUMA node, so returning NUMA node zero\n",
      "2023-02-14 03:05:45.834761: I tensorflow/stream_executor/cuda/cuda_gpu_executor.cc:937] successful NUMA node read from SysFS had negative value (-1), but there must be at least one NUMA node, so returning NUMA node zero\n",
      "2023-02-14 03:05:45.835527: I tensorflow/stream_executor/cuda/cuda_gpu_executor.cc:937] successful NUMA node read from SysFS had negative value (-1), but there must be at least one NUMA node, so returning NUMA node zero\n",
      "2023-02-14 03:05:45.838020: I tensorflow/core/platform/cpu_feature_guard.cc:142] This TensorFlow binary is optimized with oneAPI Deep Neural Network Library (oneDNN) to use the following CPU instructions in performance-critical operations:  AVX2 AVX512F FMA\n",
      "To enable them in other operations, rebuild TensorFlow with the appropriate compiler flags.\n",
      "2023-02-14 03:05:46.094976: I tensorflow/stream_executor/cuda/cuda_gpu_executor.cc:937] successful NUMA node read from SysFS had negative value (-1), but there must be at least one NUMA node, so returning NUMA node zero\n",
      "2023-02-14 03:05:46.095940: I tensorflow/stream_executor/cuda/cuda_gpu_executor.cc:937] successful NUMA node read from SysFS had negative value (-1), but there must be at least one NUMA node, so returning NUMA node zero\n",
      "2023-02-14 03:05:46.096805: I tensorflow/stream_executor/cuda/cuda_gpu_executor.cc:937] successful NUMA node read from SysFS had negative value (-1), but there must be at least one NUMA node, so returning NUMA node zero\n",
      "2023-02-14 03:05:46.097565: I tensorflow/stream_executor/cuda/cuda_gpu_executor.cc:937] successful NUMA node read from SysFS had negative value (-1), but there must be at least one NUMA node, so returning NUMA node zero\n",
      "2023-02-14 03:05:46.098270: I tensorflow/stream_executor/cuda/cuda_gpu_executor.cc:937] successful NUMA node read from SysFS had negative value (-1), but there must be at least one NUMA node, so returning NUMA node zero\n",
      "2023-02-14 03:05:46.099059: I tensorflow/stream_executor/cuda/cuda_gpu_executor.cc:937] successful NUMA node read from SysFS had negative value (-1), but there must be at least one NUMA node, so returning NUMA node zero\n",
      "2023-02-14 03:05:48.995665: I tensorflow/stream_executor/cuda/cuda_gpu_executor.cc:937] successful NUMA node read from SysFS had negative value (-1), but there must be at least one NUMA node, so returning NUMA node zero\n",
      "2023-02-14 03:05:48.996566: I tensorflow/stream_executor/cuda/cuda_gpu_executor.cc:937] successful NUMA node read from SysFS had negative value (-1), but there must be at least one NUMA node, so returning NUMA node zero\n",
      "2023-02-14 03:05:48.997417: I tensorflow/stream_executor/cuda/cuda_gpu_executor.cc:937] successful NUMA node read from SysFS had negative value (-1), but there must be at least one NUMA node, so returning NUMA node zero\n",
      "2023-02-14 03:05:48.998240: I tensorflow/stream_executor/cuda/cuda_gpu_executor.cc:937] successful NUMA node read from SysFS had negative value (-1), but there must be at least one NUMA node, so returning NUMA node zero\n",
      "2023-02-14 03:05:48.999003: I tensorflow/stream_executor/cuda/cuda_gpu_executor.cc:937] successful NUMA node read from SysFS had negative value (-1), but there must be at least one NUMA node, so returning NUMA node zero\n",
      "2023-02-14 03:05:48.999659: I tensorflow/core/common_runtime/gpu/gpu_device.cc:1510] Created device /job:localhost/replica:0/task:0/device:GPU:0 with 13789 MB memory:  -> device: 0, name: Tesla T4, pci bus id: 0000:00:04.0, compute capability: 7.5\n",
      "2023-02-14 03:05:49.004701: I tensorflow/stream_executor/cuda/cuda_gpu_executor.cc:937] successful NUMA node read from SysFS had negative value (-1), but there must be at least one NUMA node, so returning NUMA node zero\n",
      "2023-02-14 03:05:49.005403: I tensorflow/core/common_runtime/gpu/gpu_device.cc:1510] Created device /job:localhost/replica:0/task:0/device:GPU:1 with 13789 MB memory:  -> device: 1, name: Tesla T4, pci bus id: 0000:00:05.0, compute capability: 7.5\n"
     ]
    },
    {
     "name": "stdout",
     "output_type": "stream",
     "text": [
      "Model: \"sequential\"\n",
      "_________________________________________________________________\n",
      "Layer (type)                 Output Shape              Param #   \n",
      "=================================================================\n",
      "embedding (Embedding)        (None, 160, 100)          1901400   \n",
      "_________________________________________________________________\n",
      "conv1d (Conv1D)              (None, 155, 64)           38464     \n",
      "_________________________________________________________________\n",
      "max_pooling1d (MaxPooling1D) (None, 77, 64)            0         \n",
      "_________________________________________________________________\n",
      "conv1d_1 (Conv1D)            (None, 75, 64)            12352     \n",
      "_________________________________________________________________\n",
      "max_pooling1d_1 (MaxPooling1 (None, 37, 64)            0         \n",
      "_________________________________________________________________\n",
      "flatten (Flatten)            (None, 2368)              0         \n",
      "_________________________________________________________________\n",
      "dropout (Dropout)            (None, 2368)              0         \n",
      "_________________________________________________________________\n",
      "dense (Dense)                (None, 256)               606464    \n",
      "_________________________________________________________________\n",
      "dropout_1 (Dropout)          (None, 256)               0         \n",
      "_________________________________________________________________\n",
      "dense_1 (Dense)              (None, 2)                 514       \n",
      "=================================================================\n",
      "Total params: 2,559,194\n",
      "Trainable params: 657,794\n",
      "Non-trainable params: 1,901,400\n",
      "_________________________________________________________________\n"
     ]
    }
   ],
   "source": [
    "# Create your untrained model\n",
    "model = create_model(VOCAB_SIZE, EMBEDDING_DIM, MAXLEN, EMBEDDINGS_MATRIX)\n",
    "\n",
    "model.summary()"
   ]
  },
  {
   "cell_type": "code",
   "execution_count": 28,
   "id": "df43c7dc",
   "metadata": {
    "execution": {
     "iopub.execute_input": "2023-02-14T03:05:49.826295Z",
     "iopub.status.busy": "2023-02-14T03:05:49.825224Z",
     "iopub.status.idle": "2023-02-14T03:06:15.379565Z",
     "shell.execute_reply": "2023-02-14T03:06:15.377908Z"
    },
    "papermill": {
     "duration": 25.598098,
     "end_time": "2023-02-14T03:06:15.381680",
     "exception": false,
     "start_time": "2023-02-14T03:05:49.783582",
     "status": "completed"
    },
    "tags": []
   },
   "outputs": [
    {
     "name": "stderr",
     "output_type": "stream",
     "text": [
      "2023-02-14 03:05:49.902112: I tensorflow/compiler/mlir/mlir_graph_optimization_pass.cc:185] None of the MLIR Optimization Passes are enabled (registered 2)\n"
     ]
    },
    {
     "name": "stdout",
     "output_type": "stream",
     "text": [
      "Epoch 1/30\n"
     ]
    },
    {
     "name": "stderr",
     "output_type": "stream",
     "text": [
      "2023-02-14 03:05:51.839394: I tensorflow/stream_executor/cuda/cuda_dnn.cc:369] Loaded cuDNN version 8005\n"
     ]
    },
    {
     "name": "stdout",
     "output_type": "stream",
     "text": [
      "245/245 [==============================] - 11s 7ms/step - loss: 0.5145 - accuracy: 0.7529 - val_loss: 0.4622 - val_accuracy: 0.7791\n",
      "\n",
      "Epoch 00001: val_loss improved from inf to 0.46219, saving model to /content/nlp_model_balanced.h5\n",
      "Epoch 2/30\n",
      "245/245 [==============================] - 1s 4ms/step - loss: 0.4211 - accuracy: 0.8166 - val_loss: 0.4312 - val_accuracy: 0.8032\n",
      "\n",
      "Epoch 00002: val_loss improved from 0.46219 to 0.43115, saving model to /content/nlp_model_balanced.h5\n",
      "Epoch 3/30\n",
      "245/245 [==============================] - 1s 5ms/step - loss: 0.3506 - accuracy: 0.8504 - val_loss: 0.4113 - val_accuracy: 0.8021\n",
      "\n",
      "Epoch 00003: val_loss improved from 0.43115 to 0.41131, saving model to /content/nlp_model_balanced.h5\n",
      "Epoch 4/30\n",
      "245/245 [==============================] - 1s 4ms/step - loss: 0.2834 - accuracy: 0.8852 - val_loss: 0.4381 - val_accuracy: 0.8216\n",
      "\n",
      "Epoch 00004: val_loss did not improve from 0.41131\n",
      "Epoch 5/30\n",
      "245/245 [==============================] - 1s 5ms/step - loss: 0.2237 - accuracy: 0.9154 - val_loss: 0.4595 - val_accuracy: 0.8366\n",
      "\n",
      "Epoch 00005: val_loss did not improve from 0.41131\n",
      "Epoch 6/30\n",
      "245/245 [==============================] - 1s 5ms/step - loss: 0.1743 - accuracy: 0.9354 - val_loss: 0.5099 - val_accuracy: 0.8239\n",
      "\n",
      "Epoch 00006: val_loss did not improve from 0.41131\n",
      "Epoch 7/30\n",
      "245/245 [==============================] - 1s 5ms/step - loss: 0.1239 - accuracy: 0.9561 - val_loss: 0.5398 - val_accuracy: 0.8377\n",
      "\n",
      "Epoch 00007: val_loss did not improve from 0.41131\n",
      "Epoch 8/30\n",
      "245/245 [==============================] - 1s 5ms/step - loss: 0.0934 - accuracy: 0.9667 - val_loss: 0.6117 - val_accuracy: 0.8308\n",
      "\n",
      "Epoch 00008: val_loss did not improve from 0.41131\n",
      "Epoch 9/30\n",
      "245/245 [==============================] - 1s 5ms/step - loss: 0.0873 - accuracy: 0.9701 - val_loss: 0.6234 - val_accuracy: 0.8274\n",
      "\n",
      "Epoch 00009: val_loss did not improve from 0.41131\n",
      "Epoch 10/30\n",
      "245/245 [==============================] - 1s 5ms/step - loss: 0.0700 - accuracy: 0.9736 - val_loss: 0.6280 - val_accuracy: 0.8285\n",
      "\n",
      "Epoch 00010: val_loss did not improve from 0.41131\n",
      "Epoch 11/30\n",
      "245/245 [==============================] - 1s 4ms/step - loss: 0.0651 - accuracy: 0.9752 - val_loss: 0.6219 - val_accuracy: 0.8343\n",
      "\n",
      "Epoch 00011: val_loss did not improve from 0.41131\n",
      "Epoch 12/30\n",
      "245/245 [==============================] - 1s 5ms/step - loss: 0.0612 - accuracy: 0.9757 - val_loss: 0.6600 - val_accuracy: 0.8343\n",
      "\n",
      "Epoch 00012: val_loss did not improve from 0.41131\n",
      "Epoch 13/30\n",
      "245/245 [==============================] - 1s 4ms/step - loss: 0.0541 - accuracy: 0.9775 - val_loss: 0.6886 - val_accuracy: 0.8262\n",
      "Restoring model weights from the end of the best epoch.\n",
      "\n",
      "Epoch 00013: val_loss did not improve from 0.41131\n",
      "Epoch 00013: early stopping\n"
     ]
    }
   ],
   "source": [
    "#early stopping\n",
    "early_stopping = tf.keras.callbacks.EarlyStopping(monitor = 'val_loss', \n",
    "                          patience=10,\n",
    "                          verbose=1, \n",
    "                          restore_best_weights=True)\n",
    "\n",
    "# Code Snippet for ModelCheckpoint\n",
    "checkpoint = tf.keras.callbacks.ModelCheckpoint('/content/nlp_model_balanced.h5',    \n",
    "                      monitor='val_loss',    \n",
    "                      save_best_only='True',    \n",
    "                      verbose=1)\n",
    "\n",
    "# Code Snippet for LearningRateScheduler\n",
    "lr_schedule = tf.keras.callbacks.LearningRateScheduler(lambda epoch: 1e-5 * 10 ** (epoch/2), verbose=1)\n",
    "lr_scheduler = tf.keras.callbacks.ReduceLROnPlateau(factor=0.5, patience=3)\n",
    "\n",
    "\n",
    "callbacks = [early_stopping,\n",
    "        lr_scheduler,\n",
    "        checkpoint,\n",
    "             ]\n",
    "\n",
    "# Train the model and save the training history\n",
    "history = model.fit(train_pad_trunc_seq, train_labels, \n",
    "                    epochs=30, \n",
    "                    validation_data=(val_pad_trunc_seq, val_labels),\n",
    "                    callbacks = callbacks\n",
    "                    )"
   ]
  },
  {
   "cell_type": "code",
   "execution_count": 29,
   "id": "bb8cc05e",
   "metadata": {
    "execution": {
     "iopub.execute_input": "2023-02-14T03:06:15.486329Z",
     "iopub.status.busy": "2023-02-14T03:06:15.484692Z",
     "iopub.status.idle": "2023-02-14T03:06:15.829495Z",
     "shell.execute_reply": "2023-02-14T03:06:15.828404Z"
    },
    "papermill": {
     "duration": 0.399393,
     "end_time": "2023-02-14T03:06:15.832435",
     "exception": false,
     "start_time": "2023-02-14T03:06:15.433042",
     "status": "completed"
    },
    "tags": []
   },
   "outputs": [
    {
     "data": {
      "image/png": "[encoded data removed]",
      "text/plain": [
       "<Figure size 432x288 with 1 Axes>"
      ]
     },
     "metadata": {
      "needs_background": "light"
     },
     "output_type": "display_data"
    },
    {
     "data": {
      "image/png": "[encoded data removed]",
      "text/plain": [
       "<Figure size 432x288 with 1 Axes>"
      ]
     },
     "metadata": {
      "needs_background": "light"
     },
     "output_type": "display_data"
    }
   ],
   "source": [
    "# Retrieve a list of list results on training and test data\n",
    "# sets for each training epoch\n",
    "acc=history.history['accuracy']\n",
    "val_acc=history.history['val_accuracy']\n",
    "loss=history.history['loss']\n",
    "val_loss=history.history['val_loss']\n",
    "\n",
    "epochs=range(len(acc)) # Get number of epochs\n",
    "\n",
    "# Plot training and validation accuracy per epoch\n",
    "plt.plot(epochs, acc, 'r', \"Training Accuracy\")\n",
    "plt.plot(epochs, val_acc, 'b', \"Validation Accuracy\")\n",
    "plt.title('Training and validation accuracy')\n",
    "plt.show()\n",
    "\n",
    "# Plot training and validation loss per epoch\n",
    "plt.plot(epochs, loss, 'r', \"Training Loss\")\n",
    "plt.plot(epochs, val_loss, 'b', \"Validation Loss\")\n",
    "plt.show()"
   ]
  },
  {
   "cell_type": "markdown",
   "id": "761599d2",
   "metadata": {
    "papermill": {
     "duration": 0.051049,
     "end_time": "2023-02-14T03:06:15.937807",
     "exception": false,
     "start_time": "2023-02-14T03:06:15.886758",
     "status": "completed"
    },
    "tags": []
   },
   "source": [
    "# **Prediction on Test data**"
   ]
  },
  {
   "cell_type": "markdown",
   "id": "74512bbb",
   "metadata": {
    "papermill": {
     "duration": 0.052118,
     "end_time": "2023-02-14T03:06:16.041496",
     "exception": false,
     "start_time": "2023-02-14T03:06:15.989378",
     "status": "completed"
    },
    "tags": []
   },
   "source": [
    "**Test data processing**"
   ]
  },
  {
   "cell_type": "code",
   "execution_count": 30,
   "id": "8a0667b7",
   "metadata": {
    "execution": {
     "iopub.execute_input": "2023-02-14T03:06:16.150137Z",
     "iopub.status.busy": "2023-02-14T03:06:16.149776Z",
     "iopub.status.idle": "2023-02-14T03:06:16.173199Z",
     "shell.execute_reply": "2023-02-14T03:06:16.172165Z"
    },
    "papermill": {
     "duration": 0.080041,
     "end_time": "2023-02-14T03:06:16.175767",
     "exception": false,
     "start_time": "2023-02-14T03:06:16.095726",
     "status": "completed"
    },
    "tags": []
   },
   "outputs": [],
   "source": [
    "TESTING_DIR = \"/kaggle/input/nlp-getting-started/test.csv\"\n",
    "\n",
    "testing_data = pd.read_csv(TESTING_DIR)"
   ]
  },
  {
   "cell_type": "code",
   "execution_count": 31,
   "id": "d0b04fa1",
   "metadata": {
    "execution": {
     "iopub.execute_input": "2023-02-14T03:06:16.284787Z",
     "iopub.status.busy": "2023-02-14T03:06:16.283965Z",
     "iopub.status.idle": "2023-02-14T03:06:16.891088Z",
     "shell.execute_reply": "2023-02-14T03:06:16.890086Z"
    },
    "papermill": {
     "duration": 0.663813,
     "end_time": "2023-02-14T03:06:16.893607",
     "exception": false,
     "start_time": "2023-02-14T03:06:16.229794",
     "status": "completed"
    },
    "tags": []
   },
   "outputs": [
    {
     "name": "stderr",
     "output_type": "stream",
     "text": [
      "/opt/conda/lib/python3.7/site-packages/bs4/__init__.py:439: MarkupResemblesLocatorWarning: The input looks more like a filename than markup. You may want to open this file and pass the filehandle into Beautiful Soup.\n",
      "  MarkupResemblesLocatorWarning\n"
     ]
    }
   ],
   "source": [
    "test_sentences = testing_data['text'].apply(pre_processing).to_list()"
   ]
  },
  {
   "cell_type": "code",
   "execution_count": 32,
   "id": "0a399bef",
   "metadata": {
    "execution": {
     "iopub.execute_input": "2023-02-14T03:06:17.001608Z",
     "iopub.status.busy": "2023-02-14T03:06:17.000425Z",
     "iopub.status.idle": "2023-02-14T03:06:17.067670Z",
     "shell.execute_reply": "2023-02-14T03:06:17.065990Z"
    },
    "papermill": {
     "duration": 0.124424,
     "end_time": "2023-02-14T03:06:17.070941",
     "exception": false,
     "start_time": "2023-02-14T03:06:16.946517",
     "status": "completed"
    },
    "tags": []
   },
   "outputs": [
    {
     "name": "stdout",
     "output_type": "stream",
     "text": [
      "test_pad_trunc_seq.shape = (3263, 160)\n"
     ]
    }
   ],
   "source": [
    "# convert sentences to sequences\n",
    "test_sequences = tokenizer.texts_to_sequences(test_sentences)\n",
    "\n",
    "# pad the sequences using the correct padding, truncating and maxlen\n",
    "test_pad_trunc_seq = pad_sequences(test_sequences, maxlen=MAXLEN, padding=PADDING)\n",
    "\n",
    "print(f'test_pad_trunc_seq.shape = {test_pad_trunc_seq.shape}')"
   ]
  },
  {
   "cell_type": "markdown",
   "id": "8c625f2f",
   "metadata": {
    "papermill": {
     "duration": 0.05342,
     "end_time": "2023-02-14T03:06:17.181503",
     "exception": false,
     "start_time": "2023-02-14T03:06:17.128083",
     "status": "completed"
    },
    "tags": []
   },
   "source": [
    "**Predict test data**"
   ]
  },
  {
   "cell_type": "code",
   "execution_count": 33,
   "id": "b26ad218",
   "metadata": {
    "execution": {
     "iopub.execute_input": "2023-02-14T03:06:17.286854Z",
     "iopub.status.busy": "2023-02-14T03:06:17.285198Z",
     "iopub.status.idle": "2023-02-14T03:06:17.713804Z",
     "shell.execute_reply": "2023-02-14T03:06:17.712757Z"
    },
    "papermill": {
     "duration": 0.484226,
     "end_time": "2023-02-14T03:06:17.716357",
     "exception": false,
     "start_time": "2023-02-14T03:06:17.232131",
     "status": "completed"
    },
    "tags": []
   },
   "outputs": [],
   "source": [
    "# use trained model to predict on test data \n",
    "testing_labels = model.predict(test_pad_trunc_seq)"
   ]
  },
  {
   "cell_type": "markdown",
   "id": "303871a1",
   "metadata": {
    "papermill": {
     "duration": 0.050109,
     "end_time": "2023-02-14T03:06:17.817248",
     "exception": false,
     "start_time": "2023-02-14T03:06:17.767139",
     "status": "completed"
    },
    "tags": []
   },
   "source": [
    "**View prediction**"
   ]
  },
  {
   "cell_type": "code",
   "execution_count": 34,
   "id": "41b7414b",
   "metadata": {
    "execution": {
     "iopub.execute_input": "2023-02-14T03:06:17.919046Z",
     "iopub.status.busy": "2023-02-14T03:06:17.918693Z",
     "iopub.status.idle": "2023-02-14T03:06:17.925804Z",
     "shell.execute_reply": "2023-02-14T03:06:17.924092Z"
    },
    "papermill": {
     "duration": 0.061748,
     "end_time": "2023-02-14T03:06:17.928928",
     "exception": false,
     "start_time": "2023-02-14T03:06:17.867180",
     "status": "completed"
    },
    "tags": []
   },
   "outputs": [
    {
     "name": "stdout",
     "output_type": "stream",
     "text": [
      "[[0.05325686 0.94674313]\n",
      " [0.08187535 0.9181246 ]\n",
      " [0.21738398 0.7826161 ]\n",
      " ...\n",
      " [0.07308212 0.9269179 ]\n",
      " [0.08972444 0.9102756 ]\n",
      " [0.1398682  0.8601318 ]]\n"
     ]
    }
   ],
   "source": [
    "print(testing_labels)"
   ]
  },
  {
   "cell_type": "code",
   "execution_count": 35,
   "id": "e2cbb2d1",
   "metadata": {
    "execution": {
     "iopub.execute_input": "2023-02-14T03:06:18.033879Z",
     "iopub.status.busy": "2023-02-14T03:06:18.033574Z",
     "iopub.status.idle": "2023-02-14T03:06:18.046091Z",
     "shell.execute_reply": "2023-02-14T03:06:18.045150Z"
    },
    "papermill": {
     "duration": 0.066578,
     "end_time": "2023-02-14T03:06:18.048165",
     "exception": false,
     "start_time": "2023-02-14T03:06:17.981587",
     "status": "completed"
    },
    "tags": []
   },
   "outputs": [],
   "source": [
    "test = pd.read_csv(TESTING_DIR)"
   ]
  },
  {
   "cell_type": "code",
   "execution_count": 36,
   "id": "6619a5ff",
   "metadata": {
    "execution": {
     "iopub.execute_input": "2023-02-14T03:06:18.150761Z",
     "iopub.status.busy": "2023-02-14T03:06:18.149961Z",
     "iopub.status.idle": "2023-02-14T03:06:18.156270Z",
     "shell.execute_reply": "2023-02-14T03:06:18.155074Z"
    },
    "papermill": {
     "duration": 0.060225,
     "end_time": "2023-02-14T03:06:18.158353",
     "exception": false,
     "start_time": "2023-02-14T03:06:18.098128",
     "status": "completed"
    },
    "tags": []
   },
   "outputs": [],
   "source": [
    "#turn categorical results into 0/1\n",
    "test_labels = np.argmax(testing_labels, axis=1)\n",
    "\n",
    "#adding the 'target' column for prediction results\n",
    "test['target'] = test_labels"
   ]
  },
  {
   "cell_type": "code",
   "execution_count": 37,
   "id": "46f0e457",
   "metadata": {
    "execution": {
     "iopub.execute_input": "2023-02-14T03:06:18.260074Z",
     "iopub.status.busy": "2023-02-14T03:06:18.259781Z",
     "iopub.status.idle": "2023-02-14T03:06:18.275578Z",
     "shell.execute_reply": "2023-02-14T03:06:18.274603Z"
    },
    "papermill": {
     "duration": 0.069467,
     "end_time": "2023-02-14T03:06:18.277852",
     "exception": false,
     "start_time": "2023-02-14T03:06:18.208385",
     "status": "completed"
    },
    "tags": []
   },
   "outputs": [
    {
     "data": {
      "text/html": [
       "<div>\n",
       "<style scoped>\n",
       "    .dataframe tbody tr th:only-of-type {\n",
       "        vertical-align: middle;\n",
       "    }\n",
       "\n",
       "    .dataframe tbody tr th {\n",
       "        vertical-align: top;\n",
       "    }\n",
       "\n",
       "    .dataframe thead th {\n",
       "        text-align: right;\n",
       "    }\n",
       "</style>\n",
       "<table border=\"1\" class=\"dataframe\">\n",
       "  <thead>\n",
       "    <tr style=\"text-align: right;\">\n",
       "      <th></th>\n",
       "      <th>id</th>\n",
       "      <th>keyword</th>\n",
       "      <th>location</th>\n",
       "      <th>text</th>\n",
       "      <th>target</th>\n",
       "    </tr>\n",
       "  </thead>\n",
       "  <tbody>\n",
       "    <tr>\n",
       "      <th>0</th>\n",
       "      <td>0</td>\n",
       "      <td>NaN</td>\n",
       "      <td>NaN</td>\n",
       "      <td>Just happened a terrible car crash</td>\n",
       "      <td>1</td>\n",
       "    </tr>\n",
       "    <tr>\n",
       "      <th>1</th>\n",
       "      <td>2</td>\n",
       "      <td>NaN</td>\n",
       "      <td>NaN</td>\n",
       "      <td>Heard about #earthquake is different cities, s...</td>\n",
       "      <td>1</td>\n",
       "    </tr>\n",
       "    <tr>\n",
       "      <th>2</th>\n",
       "      <td>3</td>\n",
       "      <td>NaN</td>\n",
       "      <td>NaN</td>\n",
       "      <td>there is a forest fire at spot pond, geese are...</td>\n",
       "      <td>1</td>\n",
       "    </tr>\n",
       "    <tr>\n",
       "      <th>3</th>\n",
       "      <td>9</td>\n",
       "      <td>NaN</td>\n",
       "      <td>NaN</td>\n",
       "      <td>Apocalypse lighting. #Spokane #wildfires</td>\n",
       "      <td>1</td>\n",
       "    </tr>\n",
       "    <tr>\n",
       "      <th>4</th>\n",
       "      <td>11</td>\n",
       "      <td>NaN</td>\n",
       "      <td>NaN</td>\n",
       "      <td>Typhoon Soudelor kills 28 in China and Taiwan</td>\n",
       "      <td>1</td>\n",
       "    </tr>\n",
       "    <tr>\n",
       "      <th>...</th>\n",
       "      <td>...</td>\n",
       "      <td>...</td>\n",
       "      <td>...</td>\n",
       "      <td>...</td>\n",
       "      <td>...</td>\n",
       "    </tr>\n",
       "    <tr>\n",
       "      <th>3258</th>\n",
       "      <td>10861</td>\n",
       "      <td>NaN</td>\n",
       "      <td>NaN</td>\n",
       "      <td>EARTHQUAKE SAFETY LOS ANGELES ÛÒ SAFETY FASTE...</td>\n",
       "      <td>1</td>\n",
       "    </tr>\n",
       "    <tr>\n",
       "      <th>3259</th>\n",
       "      <td>10865</td>\n",
       "      <td>NaN</td>\n",
       "      <td>NaN</td>\n",
       "      <td>Storm in RI worse than last hurricane. My city...</td>\n",
       "      <td>1</td>\n",
       "    </tr>\n",
       "    <tr>\n",
       "      <th>3260</th>\n",
       "      <td>10868</td>\n",
       "      <td>NaN</td>\n",
       "      <td>NaN</td>\n",
       "      <td>Green Line derailment in Chicago http://t.co/U...</td>\n",
       "      <td>1</td>\n",
       "    </tr>\n",
       "    <tr>\n",
       "      <th>3261</th>\n",
       "      <td>10874</td>\n",
       "      <td>NaN</td>\n",
       "      <td>NaN</td>\n",
       "      <td>MEG issues Hazardous Weather Outlook (HWO) htt...</td>\n",
       "      <td>1</td>\n",
       "    </tr>\n",
       "    <tr>\n",
       "      <th>3262</th>\n",
       "      <td>10875</td>\n",
       "      <td>NaN</td>\n",
       "      <td>NaN</td>\n",
       "      <td>#CityofCalgary has activated its Municipal Eme...</td>\n",
       "      <td>1</td>\n",
       "    </tr>\n",
       "  </tbody>\n",
       "</table>\n",
       "<p>3263 rows × 5 columns</p>\n",
       "</div>"
      ],
      "text/plain": [
       "         id keyword location  \\\n",
       "0         0     NaN      NaN   \n",
       "1         2     NaN      NaN   \n",
       "2         3     NaN      NaN   \n",
       "3         9     NaN      NaN   \n",
       "4        11     NaN      NaN   \n",
       "...     ...     ...      ...   \n",
       "3258  10861     NaN      NaN   \n",
       "3259  10865     NaN      NaN   \n",
       "3260  10868     NaN      NaN   \n",
       "3261  10874     NaN      NaN   \n",
       "3262  10875     NaN      NaN   \n",
       "\n",
       "                                                   text  target  \n",
       "0                    Just happened a terrible car crash       1  \n",
       "1     Heard about #earthquake is different cities, s...       1  \n",
       "2     there is a forest fire at spot pond, geese are...       1  \n",
       "3              Apocalypse lighting. #Spokane #wildfires       1  \n",
       "4         Typhoon Soudelor kills 28 in China and Taiwan       1  \n",
       "...                                                 ...     ...  \n",
       "3258  EARTHQUAKE SAFETY LOS ANGELES ÛÒ SAFETY FASTE...       1  \n",
       "3259  Storm in RI worse than last hurricane. My city...       1  \n",
       "3260  Green Line derailment in Chicago http://t.co/U...       1  \n",
       "3261  MEG issues Hazardous Weather Outlook (HWO) htt...       1  \n",
       "3262  #CityofCalgary has activated its Municipal Eme...       1  \n",
       "\n",
       "[3263 rows x 5 columns]"
      ]
     },
     "execution_count": 37,
     "metadata": {},
     "output_type": "execute_result"
    }
   ],
   "source": [
    "# check overall predictions\n",
    "test"
   ]
  },
  {
   "cell_type": "code",
   "execution_count": 38,
   "id": "1c8d0d3c",
   "metadata": {
    "execution": {
     "iopub.execute_input": "2023-02-14T03:06:18.385955Z",
     "iopub.status.busy": "2023-02-14T03:06:18.385599Z",
     "iopub.status.idle": "2023-02-14T03:06:18.401029Z",
     "shell.execute_reply": "2023-02-14T03:06:18.399960Z"
    },
    "papermill": {
     "duration": 0.073522,
     "end_time": "2023-02-14T03:06:18.403694",
     "exception": false,
     "start_time": "2023-02-14T03:06:18.330172",
     "status": "completed"
    },
    "tags": []
   },
   "outputs": [
    {
     "data": {
      "text/html": [
       "<div>\n",
       "<style scoped>\n",
       "    .dataframe tbody tr th:only-of-type {\n",
       "        vertical-align: middle;\n",
       "    }\n",
       "\n",
       "    .dataframe tbody tr th {\n",
       "        vertical-align: top;\n",
       "    }\n",
       "\n",
       "    .dataframe thead th {\n",
       "        text-align: right;\n",
       "    }\n",
       "</style>\n",
       "<table border=\"1\" class=\"dataframe\">\n",
       "  <thead>\n",
       "    <tr style=\"text-align: right;\">\n",
       "      <th></th>\n",
       "      <th>id</th>\n",
       "      <th>keyword</th>\n",
       "      <th>location</th>\n",
       "      <th>text</th>\n",
       "      <th>target</th>\n",
       "    </tr>\n",
       "  </thead>\n",
       "  <tbody>\n",
       "    <tr>\n",
       "      <th>0</th>\n",
       "      <td>0</td>\n",
       "      <td>NaN</td>\n",
       "      <td>NaN</td>\n",
       "      <td>Just happened a terrible car crash</td>\n",
       "      <td>1</td>\n",
       "    </tr>\n",
       "    <tr>\n",
       "      <th>1</th>\n",
       "      <td>2</td>\n",
       "      <td>NaN</td>\n",
       "      <td>NaN</td>\n",
       "      <td>Heard about #earthquake is different cities, s...</td>\n",
       "      <td>1</td>\n",
       "    </tr>\n",
       "    <tr>\n",
       "      <th>2</th>\n",
       "      <td>3</td>\n",
       "      <td>NaN</td>\n",
       "      <td>NaN</td>\n",
       "      <td>there is a forest fire at spot pond, geese are...</td>\n",
       "      <td>1</td>\n",
       "    </tr>\n",
       "    <tr>\n",
       "      <th>3</th>\n",
       "      <td>9</td>\n",
       "      <td>NaN</td>\n",
       "      <td>NaN</td>\n",
       "      <td>Apocalypse lighting. #Spokane #wildfires</td>\n",
       "      <td>1</td>\n",
       "    </tr>\n",
       "    <tr>\n",
       "      <th>4</th>\n",
       "      <td>11</td>\n",
       "      <td>NaN</td>\n",
       "      <td>NaN</td>\n",
       "      <td>Typhoon Soudelor kills 28 in China and Taiwan</td>\n",
       "      <td>1</td>\n",
       "    </tr>\n",
       "    <tr>\n",
       "      <th>...</th>\n",
       "      <td>...</td>\n",
       "      <td>...</td>\n",
       "      <td>...</td>\n",
       "      <td>...</td>\n",
       "      <td>...</td>\n",
       "    </tr>\n",
       "    <tr>\n",
       "      <th>3258</th>\n",
       "      <td>10861</td>\n",
       "      <td>NaN</td>\n",
       "      <td>NaN</td>\n",
       "      <td>EARTHQUAKE SAFETY LOS ANGELES ÛÒ SAFETY FASTE...</td>\n",
       "      <td>1</td>\n",
       "    </tr>\n",
       "    <tr>\n",
       "      <th>3259</th>\n",
       "      <td>10865</td>\n",
       "      <td>NaN</td>\n",
       "      <td>NaN</td>\n",
       "      <td>Storm in RI worse than last hurricane. My city...</td>\n",
       "      <td>1</td>\n",
       "    </tr>\n",
       "    <tr>\n",
       "      <th>3260</th>\n",
       "      <td>10868</td>\n",
       "      <td>NaN</td>\n",
       "      <td>NaN</td>\n",
       "      <td>Green Line derailment in Chicago http://t.co/U...</td>\n",
       "      <td>1</td>\n",
       "    </tr>\n",
       "    <tr>\n",
       "      <th>3261</th>\n",
       "      <td>10874</td>\n",
       "      <td>NaN</td>\n",
       "      <td>NaN</td>\n",
       "      <td>MEG issues Hazardous Weather Outlook (HWO) htt...</td>\n",
       "      <td>1</td>\n",
       "    </tr>\n",
       "    <tr>\n",
       "      <th>3262</th>\n",
       "      <td>10875</td>\n",
       "      <td>NaN</td>\n",
       "      <td>NaN</td>\n",
       "      <td>#CityofCalgary has activated its Municipal Eme...</td>\n",
       "      <td>1</td>\n",
       "    </tr>\n",
       "  </tbody>\n",
       "</table>\n",
       "<p>1388 rows × 5 columns</p>\n",
       "</div>"
      ],
      "text/plain": [
       "         id keyword location  \\\n",
       "0         0     NaN      NaN   \n",
       "1         2     NaN      NaN   \n",
       "2         3     NaN      NaN   \n",
       "3         9     NaN      NaN   \n",
       "4        11     NaN      NaN   \n",
       "...     ...     ...      ...   \n",
       "3258  10861     NaN      NaN   \n",
       "3259  10865     NaN      NaN   \n",
       "3260  10868     NaN      NaN   \n",
       "3261  10874     NaN      NaN   \n",
       "3262  10875     NaN      NaN   \n",
       "\n",
       "                                                   text  target  \n",
       "0                    Just happened a terrible car crash       1  \n",
       "1     Heard about #earthquake is different cities, s...       1  \n",
       "2     there is a forest fire at spot pond, geese are...       1  \n",
       "3              Apocalypse lighting. #Spokane #wildfires       1  \n",
       "4         Typhoon Soudelor kills 28 in China and Taiwan       1  \n",
       "...                                                 ...     ...  \n",
       "3258  EARTHQUAKE SAFETY LOS ANGELES ÛÒ SAFETY FASTE...       1  \n",
       "3259  Storm in RI worse than last hurricane. My city...       1  \n",
       "3260  Green Line derailment in Chicago http://t.co/U...       1  \n",
       "3261  MEG issues Hazardous Weather Outlook (HWO) htt...       1  \n",
       "3262  #CityofCalgary has activated its Municipal Eme...       1  \n",
       "\n",
       "[1388 rows x 5 columns]"
      ]
     },
     "execution_count": 38,
     "metadata": {},
     "output_type": "execute_result"
    }
   ],
   "source": [
    "# check some disaster tweet predictions\n",
    "test[test.target == 1]"
   ]
  },
  {
   "cell_type": "code",
   "execution_count": 39,
   "id": "2a12e1d0",
   "metadata": {
    "execution": {
     "iopub.execute_input": "2023-02-14T03:06:18.511453Z",
     "iopub.status.busy": "2023-02-14T03:06:18.510521Z",
     "iopub.status.idle": "2023-02-14T03:06:18.525399Z",
     "shell.execute_reply": "2023-02-14T03:06:18.524325Z"
    },
    "papermill": {
     "duration": 0.069194,
     "end_time": "2023-02-14T03:06:18.527729",
     "exception": false,
     "start_time": "2023-02-14T03:06:18.458535",
     "status": "completed"
    },
    "tags": []
   },
   "outputs": [
    {
     "data": {
      "text/html": [
       "<div>\n",
       "<style scoped>\n",
       "    .dataframe tbody tr th:only-of-type {\n",
       "        vertical-align: middle;\n",
       "    }\n",
       "\n",
       "    .dataframe tbody tr th {\n",
       "        vertical-align: top;\n",
       "    }\n",
       "\n",
       "    .dataframe thead th {\n",
       "        text-align: right;\n",
       "    }\n",
       "</style>\n",
       "<table border=\"1\" class=\"dataframe\">\n",
       "  <thead>\n",
       "    <tr style=\"text-align: right;\">\n",
       "      <th></th>\n",
       "      <th>id</th>\n",
       "      <th>keyword</th>\n",
       "      <th>location</th>\n",
       "      <th>text</th>\n",
       "      <th>target</th>\n",
       "    </tr>\n",
       "  </thead>\n",
       "  <tbody>\n",
       "    <tr>\n",
       "      <th>6</th>\n",
       "      <td>21</td>\n",
       "      <td>NaN</td>\n",
       "      <td>NaN</td>\n",
       "      <td>They'd probably still show more life than Arse...</td>\n",
       "      <td>0</td>\n",
       "    </tr>\n",
       "    <tr>\n",
       "      <th>7</th>\n",
       "      <td>22</td>\n",
       "      <td>NaN</td>\n",
       "      <td>NaN</td>\n",
       "      <td>Hey! How are you?</td>\n",
       "      <td>0</td>\n",
       "    </tr>\n",
       "    <tr>\n",
       "      <th>8</th>\n",
       "      <td>27</td>\n",
       "      <td>NaN</td>\n",
       "      <td>NaN</td>\n",
       "      <td>What a nice hat?</td>\n",
       "      <td>0</td>\n",
       "    </tr>\n",
       "    <tr>\n",
       "      <th>9</th>\n",
       "      <td>29</td>\n",
       "      <td>NaN</td>\n",
       "      <td>NaN</td>\n",
       "      <td>Fuck off!</td>\n",
       "      <td>0</td>\n",
       "    </tr>\n",
       "    <tr>\n",
       "      <th>10</th>\n",
       "      <td>30</td>\n",
       "      <td>NaN</td>\n",
       "      <td>NaN</td>\n",
       "      <td>No I don't like cold!</td>\n",
       "      <td>0</td>\n",
       "    </tr>\n",
       "    <tr>\n",
       "      <th>...</th>\n",
       "      <td>...</td>\n",
       "      <td>...</td>\n",
       "      <td>...</td>\n",
       "      <td>...</td>\n",
       "      <td>...</td>\n",
       "    </tr>\n",
       "    <tr>\n",
       "      <th>3247</th>\n",
       "      <td>10806</td>\n",
       "      <td>wrecked</td>\n",
       "      <td>Seattle Washington</td>\n",
       "      <td>RT CNBC '3 words from Disney CEO Bob Iger wrec...</td>\n",
       "      <td>0</td>\n",
       "    </tr>\n",
       "    <tr>\n",
       "      <th>3248</th>\n",
       "      <td>10807</td>\n",
       "      <td>wrecked</td>\n",
       "      <td>Acey mountain islanddåÇTorontoåÈ</td>\n",
       "      <td>Smackdown tyme this should put me in a good mo...</td>\n",
       "      <td>0</td>\n",
       "    </tr>\n",
       "    <tr>\n",
       "      <th>3249</th>\n",
       "      <td>10816</td>\n",
       "      <td>wrecked</td>\n",
       "      <td>los angeles</td>\n",
       "      <td>@thrillhho jsyk I haven't stopped thinking abt...</td>\n",
       "      <td>0</td>\n",
       "    </tr>\n",
       "    <tr>\n",
       "      <th>3250</th>\n",
       "      <td>10820</td>\n",
       "      <td>wrecked</td>\n",
       "      <td>Brussels, Belgium</td>\n",
       "      <td>@stighefootball Begovic has been garbage. He g...</td>\n",
       "      <td>0</td>\n",
       "    </tr>\n",
       "    <tr>\n",
       "      <th>3251</th>\n",
       "      <td>10828</td>\n",
       "      <td>wrecked</td>\n",
       "      <td>NaN</td>\n",
       "      <td>Wrecked today got my hattrick ????</td>\n",
       "      <td>0</td>\n",
       "    </tr>\n",
       "  </tbody>\n",
       "</table>\n",
       "<p>1875 rows × 5 columns</p>\n",
       "</div>"
      ],
      "text/plain": [
       "         id  keyword                          location  \\\n",
       "6        21      NaN                               NaN   \n",
       "7        22      NaN                               NaN   \n",
       "8        27      NaN                               NaN   \n",
       "9        29      NaN                               NaN   \n",
       "10       30      NaN                               NaN   \n",
       "...     ...      ...                               ...   \n",
       "3247  10806  wrecked                Seattle Washington   \n",
       "3248  10807  wrecked  Acey mountain islanddåÇTorontoåÈ   \n",
       "3249  10816  wrecked                       los angeles   \n",
       "3250  10820  wrecked                 Brussels, Belgium   \n",
       "3251  10828  wrecked                               NaN   \n",
       "\n",
       "                                                   text  target  \n",
       "6     They'd probably still show more life than Arse...       0  \n",
       "7                                     Hey! How are you?       0  \n",
       "8                                      What a nice hat?       0  \n",
       "9                                             Fuck off!       0  \n",
       "10                                No I don't like cold!       0  \n",
       "...                                                 ...     ...  \n",
       "3247  RT CNBC '3 words from Disney CEO Bob Iger wrec...       0  \n",
       "3248  Smackdown tyme this should put me in a good mo...       0  \n",
       "3249  @thrillhho jsyk I haven't stopped thinking abt...       0  \n",
       "3250  @stighefootball Begovic has been garbage. He g...       0  \n",
       "3251                 Wrecked today got my hattrick ????       0  \n",
       "\n",
       "[1875 rows x 5 columns]"
      ]
     },
     "execution_count": 39,
     "metadata": {},
     "output_type": "execute_result"
    }
   ],
   "source": [
    "# check some non-disaster tweet predictions\n",
    "test[test.target == 0]"
   ]
  },
  {
   "cell_type": "code",
   "execution_count": 40,
   "id": "0b5c93de",
   "metadata": {
    "execution": {
     "iopub.execute_input": "2023-02-14T03:06:18.634912Z",
     "iopub.status.busy": "2023-02-14T03:06:18.632825Z",
     "iopub.status.idle": "2023-02-14T03:06:18.644769Z",
     "shell.execute_reply": "2023-02-14T03:06:18.643680Z"
    },
    "papermill": {
     "duration": 0.067699,
     "end_time": "2023-02-14T03:06:18.647061",
     "exception": false,
     "start_time": "2023-02-14T03:06:18.579362",
     "status": "completed"
    },
    "tags": []
   },
   "outputs": [
    {
     "data": {
      "text/html": [
       "<div>\n",
       "<style scoped>\n",
       "    .dataframe tbody tr th:only-of-type {\n",
       "        vertical-align: middle;\n",
       "    }\n",
       "\n",
       "    .dataframe tbody tr th {\n",
       "        vertical-align: top;\n",
       "    }\n",
       "\n",
       "    .dataframe thead th {\n",
       "        text-align: right;\n",
       "    }\n",
       "</style>\n",
       "<table border=\"1\" class=\"dataframe\">\n",
       "  <thead>\n",
       "    <tr style=\"text-align: right;\">\n",
       "      <th></th>\n",
       "      <th>id</th>\n",
       "      <th>target</th>\n",
       "    </tr>\n",
       "  </thead>\n",
       "  <tbody>\n",
       "    <tr>\n",
       "      <th>0</th>\n",
       "      <td>0</td>\n",
       "      <td>1</td>\n",
       "    </tr>\n",
       "    <tr>\n",
       "      <th>1</th>\n",
       "      <td>2</td>\n",
       "      <td>1</td>\n",
       "    </tr>\n",
       "    <tr>\n",
       "      <th>2</th>\n",
       "      <td>3</td>\n",
       "      <td>1</td>\n",
       "    </tr>\n",
       "    <tr>\n",
       "      <th>3</th>\n",
       "      <td>9</td>\n",
       "      <td>1</td>\n",
       "    </tr>\n",
       "    <tr>\n",
       "      <th>4</th>\n",
       "      <td>11</td>\n",
       "      <td>1</td>\n",
       "    </tr>\n",
       "    <tr>\n",
       "      <th>...</th>\n",
       "      <td>...</td>\n",
       "      <td>...</td>\n",
       "    </tr>\n",
       "    <tr>\n",
       "      <th>3258</th>\n",
       "      <td>10861</td>\n",
       "      <td>1</td>\n",
       "    </tr>\n",
       "    <tr>\n",
       "      <th>3259</th>\n",
       "      <td>10865</td>\n",
       "      <td>1</td>\n",
       "    </tr>\n",
       "    <tr>\n",
       "      <th>3260</th>\n",
       "      <td>10868</td>\n",
       "      <td>1</td>\n",
       "    </tr>\n",
       "    <tr>\n",
       "      <th>3261</th>\n",
       "      <td>10874</td>\n",
       "      <td>1</td>\n",
       "    </tr>\n",
       "    <tr>\n",
       "      <th>3262</th>\n",
       "      <td>10875</td>\n",
       "      <td>1</td>\n",
       "    </tr>\n",
       "  </tbody>\n",
       "</table>\n",
       "<p>3263 rows × 2 columns</p>\n",
       "</div>"
      ],
      "text/plain": [
       "         id  target\n",
       "0         0       1\n",
       "1         2       1\n",
       "2         3       1\n",
       "3         9       1\n",
       "4        11       1\n",
       "...     ...     ...\n",
       "3258  10861       1\n",
       "3259  10865       1\n",
       "3260  10868       1\n",
       "3261  10874       1\n",
       "3262  10875       1\n",
       "\n",
       "[3263 rows x 2 columns]"
      ]
     },
     "execution_count": 40,
     "metadata": {},
     "output_type": "execute_result"
    }
   ],
   "source": [
    "# generate submission results \n",
    "submission = test[['id','target']]\n",
    "submission"
   ]
  },
  {
   "cell_type": "code",
   "execution_count": 41,
   "id": "8737eb91",
   "metadata": {
    "execution": {
     "iopub.execute_input": "2023-02-14T03:06:18.749046Z",
     "iopub.status.busy": "2023-02-14T03:06:18.748786Z",
     "iopub.status.idle": "2023-02-14T03:06:18.759781Z",
     "shell.execute_reply": "2023-02-14T03:06:18.758892Z"
    },
    "papermill": {
     "duration": 0.06413,
     "end_time": "2023-02-14T03:06:18.761714",
     "exception": false,
     "start_time": "2023-02-14T03:06:18.697584",
     "status": "completed"
    },
    "tags": []
   },
   "outputs": [],
   "source": [
    "submission.to_csv('submission_CNN.csv', index = False)"
   ]
  }
 ],
 "metadata": {
  "kernelspec": {
   "display_name": "Python 3",
   "language": "python",
   "name": "python3"
  },
  "language_info": {
   "codemirror_mode": {
    "name": "ipython",
    "version": 3
   },
   "file_extension": ".py",
   "mimetype": "text/x-python",
   "name": "python",
   "nbconvert_exporter": "python",
   "pygments_lexer": "ipython3",
   "version": "3.7.12"
  },
  "papermill": {
   "default_parameters": {},
   "duration": 181.593626,
   "end_time": "2023-02-14T03:06:22.422514",
   "environment_variables": {},
   "exception": null,
   "input_path": "__notebook__.ipynb",
   "output_path": "__notebook__.ipynb",
   "parameters": {},
   "start_time": "2023-02-14T03:03:20.828888",
   "version": "2.3.4"
  }
 },
 "nbformat": 4,
 "nbformat_minor": 5
}
