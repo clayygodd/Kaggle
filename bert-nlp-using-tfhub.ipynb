{
 "cells": [
  {
   "cell_type": "code",
   "execution_count": 1,
   "id": "07942471",
   "metadata": {
    "execution": {
     "iopub.execute_input": "2023-03-22T07:25:11.218827Z",
     "iopub.status.busy": "2023-03-22T07:25:11.218081Z",
     "iopub.status.idle": "2023-03-22T07:25:52.500998Z",
     "shell.execute_reply": "2023-03-22T07:25:52.499832Z"
    },
    "papermill": {
     "duration": 41.293177,
     "end_time": "2023-03-22T07:25:52.503941",
     "exception": false,
     "start_time": "2023-03-22T07:25:11.210764",
     "status": "completed"
    },
    "tags": []
   },
   "outputs": [
    {
     "name": "stdout",
     "output_type": "stream",
     "text": [
      "\u001b[31mERROR: pip's dependency resolver does not currently take into account all the packages that are installed. This behaviour is the source of the following dependency conflicts.\r\n",
      "cudf 21.12.2 requires cupy-cuda115, which is not installed.\r\n",
      "tfx-bsl 1.12.0 requires google-api-python-client<2,>=1.7.11, but you have google-api-python-client 2.79.0 which is incompatible.\r\n",
      "tfx-bsl 1.12.0 requires pyarrow<7,>=6, but you have pyarrow 5.0.0 which is incompatible.\r\n",
      "tensorflow-transform 1.12.0 requires pyarrow<7,>=6, but you have pyarrow 5.0.0 which is incompatible.\r\n",
      "onnx 1.13.1 requires protobuf<4,>=3.20.2, but you have protobuf 3.19.6 which is incompatible.\r\n",
      "apache-beam 2.44.0 requires dill<0.3.2,>=0.3.1.1, but you have dill 0.3.6 which is incompatible.\u001b[0m\u001b[31m\r\n",
      "\u001b[0m\u001b[33mWARNING: Running pip as the 'root' user can result in broken permissions and conflicting behaviour with the system package manager. It is recommended to use a virtual environment instead: https://pip.pypa.io/warnings/venv\u001b[0m\u001b[33m\r\n",
      "\u001b[0m"
     ]
    }
   ],
   "source": [
    "# install dependency of the preprocessing for BERT inputs\n",
    "!pip install -q -U \"tensorflow-text==2.11.*\""
   ]
  },
  {
   "cell_type": "code",
   "execution_count": 2,
   "id": "95fda8fb",
   "metadata": {
    "execution": {
     "iopub.execute_input": "2023-03-22T07:25:52.515582Z",
     "iopub.status.busy": "2023-03-22T07:25:52.514936Z",
     "iopub.status.idle": "2023-03-22T07:26:39.298788Z",
     "shell.execute_reply": "2023-03-22T07:26:39.297461Z"
    },
    "papermill": {
     "duration": 46.79263,
     "end_time": "2023-03-22T07:26:39.301524",
     "exception": false,
     "start_time": "2023-03-22T07:25:52.508894",
     "status": "completed"
    },
    "tags": []
   },
   "outputs": [
    {
     "name": "stdout",
     "output_type": "stream",
     "text": [
      "\u001b[31mERROR: pip's dependency resolver does not currently take into account all the packages that are installed. This behaviour is the source of the following dependency conflicts.\r\n",
      "dask-cudf 21.12.2 requires cupy-cuda115, which is not installed.\r\n",
      "distributed 2021.11.2 requires dask==2021.11.2, but you have dask 2022.2.0 which is incompatible.\r\n",
      "dask-cudf 21.12.2 requires dask<=2021.11.2,>=2021.11.1, but you have dask 2022.2.0 which is incompatible.\u001b[0m\u001b[31m\r\n",
      "\u001b[0m\u001b[33mWARNING: Running pip as the 'root' user can result in broken permissions and conflicting behaviour with the system package manager. It is recommended to use a virtual environment instead: https://pip.pypa.io/warnings/venv\u001b[0m\u001b[33m\r\n",
      "\u001b[0m"
     ]
    }
   ],
   "source": [
    "# install dependency for AdamW optimizer\n",
    "!pip install -q tf-models-official==2.11.0"
   ]
  },
  {
   "cell_type": "code",
   "execution_count": 3,
   "id": "d8f8f0b8",
   "metadata": {
    "execution": {
     "iopub.execute_input": "2023-03-22T07:26:39.312521Z",
     "iopub.status.busy": "2023-03-22T07:26:39.312170Z",
     "iopub.status.idle": "2023-03-22T07:26:52.843835Z",
     "shell.execute_reply": "2023-03-22T07:26:52.842619Z"
    },
    "papermill": {
     "duration": 13.540286,
     "end_time": "2023-03-22T07:26:52.846509",
     "exception": false,
     "start_time": "2023-03-22T07:26:39.306223",
     "status": "completed"
    },
    "tags": []
   },
   "outputs": [],
   "source": [
    "import os\n",
    "import shutil\n",
    "\n",
    "import tensorflow as tf\n",
    "import tensorflow_hub as hub\n",
    "import tensorflow_text as text\n",
    "\n",
    "from official.nlp import optimization  # to create AdamW optimizer\n",
    "\n",
    "import pandas as pd\n",
    "\n",
    "import matplotlib.pyplot as plt\n",
    "\n",
    "from sklearn.model_selection import train_test_split\n",
    "\n",
    "tf.get_logger().setLevel('ERROR')"
   ]
  },
  {
   "cell_type": "code",
   "execution_count": 4,
   "id": "cd757ff8",
   "metadata": {
    "execution": {
     "iopub.execute_input": "2023-03-22T07:26:52.858205Z",
     "iopub.status.busy": "2023-03-22T07:26:52.857487Z",
     "iopub.status.idle": "2023-03-22T07:26:52.928596Z",
     "shell.execute_reply": "2023-03-22T07:26:52.927530Z"
    },
    "papermill": {
     "duration": 0.079112,
     "end_time": "2023-03-22T07:26:52.930870",
     "exception": false,
     "start_time": "2023-03-22T07:26:52.851758",
     "status": "completed"
    },
    "tags": []
   },
   "outputs": [],
   "source": [
    "TRAIN_DIR = \"/kaggle/input/nlp-getting-started/train.csv\"\n",
    "TEST_DIR = \"/kaggle/input/nlp-getting-started/test.csv\"\n",
    "\n",
    "train = pd.read_csv(TRAIN_DIR)\n",
    "test = pd.read_csv(TEST_DIR)"
   ]
  },
  {
   "cell_type": "code",
   "execution_count": 5,
   "id": "9ad45965",
   "metadata": {
    "execution": {
     "iopub.execute_input": "2023-03-22T07:26:52.942917Z",
     "iopub.status.busy": "2023-03-22T07:26:52.941367Z",
     "iopub.status.idle": "2023-03-22T07:26:52.963922Z",
     "shell.execute_reply": "2023-03-22T07:26:52.962995Z"
    },
    "papermill": {
     "duration": 0.030517,
     "end_time": "2023-03-22T07:26:52.966016",
     "exception": false,
     "start_time": "2023-03-22T07:26:52.935499",
     "status": "completed"
    },
    "tags": []
   },
   "outputs": [
    {
     "data": {
      "text/html": [
       "<div>\n",
       "<style scoped>\n",
       "    .dataframe tbody tr th:only-of-type {\n",
       "        vertical-align: middle;\n",
       "    }\n",
       "\n",
       "    .dataframe tbody tr th {\n",
       "        vertical-align: top;\n",
       "    }\n",
       "\n",
       "    .dataframe thead th {\n",
       "        text-align: right;\n",
       "    }\n",
       "</style>\n",
       "<table border=\"1\" class=\"dataframe\">\n",
       "  <thead>\n",
       "    <tr style=\"text-align: right;\">\n",
       "      <th></th>\n",
       "      <th>id</th>\n",
       "      <th>keyword</th>\n",
       "      <th>location</th>\n",
       "      <th>text</th>\n",
       "      <th>target</th>\n",
       "    </tr>\n",
       "  </thead>\n",
       "  <tbody>\n",
       "    <tr>\n",
       "      <th>0</th>\n",
       "      <td>1</td>\n",
       "      <td>NaN</td>\n",
       "      <td>NaN</td>\n",
       "      <td>Our Deeds are the Reason of this #earthquake M...</td>\n",
       "      <td>1</td>\n",
       "    </tr>\n",
       "    <tr>\n",
       "      <th>1</th>\n",
       "      <td>4</td>\n",
       "      <td>NaN</td>\n",
       "      <td>NaN</td>\n",
       "      <td>Forest fire near La Ronge Sask. Canada</td>\n",
       "      <td>1</td>\n",
       "    </tr>\n",
       "    <tr>\n",
       "      <th>2</th>\n",
       "      <td>5</td>\n",
       "      <td>NaN</td>\n",
       "      <td>NaN</td>\n",
       "      <td>All residents asked to 'shelter in place' are ...</td>\n",
       "      <td>1</td>\n",
       "    </tr>\n",
       "    <tr>\n",
       "      <th>3</th>\n",
       "      <td>6</td>\n",
       "      <td>NaN</td>\n",
       "      <td>NaN</td>\n",
       "      <td>13,000 people receive #wildfires evacuation or...</td>\n",
       "      <td>1</td>\n",
       "    </tr>\n",
       "    <tr>\n",
       "      <th>4</th>\n",
       "      <td>7</td>\n",
       "      <td>NaN</td>\n",
       "      <td>NaN</td>\n",
       "      <td>Just got sent this photo from Ruby #Alaska as ...</td>\n",
       "      <td>1</td>\n",
       "    </tr>\n",
       "  </tbody>\n",
       "</table>\n",
       "</div>"
      ],
      "text/plain": [
       "   id keyword location                                               text  \\\n",
       "0   1     NaN      NaN  Our Deeds are the Reason of this #earthquake M...   \n",
       "1   4     NaN      NaN             Forest fire near La Ronge Sask. Canada   \n",
       "2   5     NaN      NaN  All residents asked to 'shelter in place' are ...   \n",
       "3   6     NaN      NaN  13,000 people receive #wildfires evacuation or...   \n",
       "4   7     NaN      NaN  Just got sent this photo from Ruby #Alaska as ...   \n",
       "\n",
       "   target  \n",
       "0       1  \n",
       "1       1  \n",
       "2       1  \n",
       "3       1  \n",
       "4       1  "
      ]
     },
     "execution_count": 5,
     "metadata": {},
     "output_type": "execute_result"
    }
   ],
   "source": [
    "train.head()"
   ]
  },
  {
   "cell_type": "code",
   "execution_count": 6,
   "id": "3f9dcd79",
   "metadata": {
    "execution": {
     "iopub.execute_input": "2023-03-22T07:26:52.977975Z",
     "iopub.status.busy": "2023-03-22T07:26:52.976409Z",
     "iopub.status.idle": "2023-03-22T07:26:52.995332Z",
     "shell.execute_reply": "2023-03-22T07:26:52.994433Z"
    },
    "papermill": {
     "duration": 0.026544,
     "end_time": "2023-03-22T07:26:52.997421",
     "exception": false,
     "start_time": "2023-03-22T07:26:52.970877",
     "status": "completed"
    },
    "tags": []
   },
   "outputs": [],
   "source": [
    "seed = 42\n",
    "\n",
    "train_shuffle = train.sample(frac=1, random_state=seed)\n",
    "\n",
    "X_train, X_val, y_train, y_val = train_test_split(train_shuffle.text, \n",
    "                                                  train_shuffle.target, \n",
    "                                                  test_size=0.2, \n",
    "                                                  random_state=seed)\n",
    "y_train = tf.keras.utils.to_categorical(y_train, num_classes = 2)\n",
    "y_val = tf.keras.utils.to_categorical(y_val, num_classes = 2)"
   ]
  },
  {
   "cell_type": "code",
   "execution_count": 7,
   "id": "c02f2f20",
   "metadata": {
    "execution": {
     "iopub.execute_input": "2023-03-22T07:26:53.008069Z",
     "iopub.status.busy": "2023-03-22T07:26:53.007745Z",
     "iopub.status.idle": "2023-03-22T07:26:57.952828Z",
     "shell.execute_reply": "2023-03-22T07:26:57.951830Z"
    },
    "papermill": {
     "duration": 4.953406,
     "end_time": "2023-03-22T07:26:57.955573",
     "exception": false,
     "start_time": "2023-03-22T07:26:53.002167",
     "status": "completed"
    },
    "tags": []
   },
   "outputs": [],
   "source": [
    "prefetch_buffer = tf.data.AUTOTUNE\n",
    "batch_size = 32\n",
    "\n",
    "\n",
    "train_ds = tf.data.Dataset.from_tensor_slices((X_train,y_train)).batch(batch_size)\\\n",
    "                                                                .cache()\\\n",
    "                                                                .prefetch(buffer_size=prefetch_buffer)\n",
    "\n",
    "val_ds = tf.data.Dataset.from_tensor_slices((X_val, y_val)).batch(batch_size)\\\n",
    "                                                           .cache()\\\n",
    "                                                           .prefetch(buffer_size=prefetch_buffer)"
   ]
  },
  {
   "cell_type": "code",
   "execution_count": 8,
   "id": "befb33f9",
   "metadata": {
    "execution": {
     "iopub.execute_input": "2023-03-22T07:26:57.967584Z",
     "iopub.status.busy": "2023-03-22T07:26:57.967280Z",
     "iopub.status.idle": "2023-03-22T07:27:05.709584Z",
     "shell.execute_reply": "2023-03-22T07:27:05.708386Z"
    },
    "papermill": {
     "duration": 7.751792,
     "end_time": "2023-03-22T07:27:05.712593",
     "exception": false,
     "start_time": "2023-03-22T07:26:57.960801",
     "status": "completed"
    },
    "tags": []
   },
   "outputs": [],
   "source": [
    "# create bert proprocessor and bert encoder from tfhub\n",
    "tfhub_handle_preprocess = \"https://tfhub.dev/tensorflow/bert_en_uncased_preprocess/3\"\n",
    "tfhub_handle_encoder = \"https://tfhub.dev/tensorflow/small_bert/bert_en_uncased_L-4_H-512_A-8/1\"\n",
    "\n",
    "bert_preprocessor = hub.KerasLayer(tfhub_handle_preprocess, name='preprocessing')\n",
    "bert_encoder = hub.KerasLayer(tfhub_handle_encoder, trainable=True, name='BERT_encoder')"
   ]
  },
  {
   "cell_type": "code",
   "execution_count": 9,
   "id": "3ee01782",
   "metadata": {
    "execution": {
     "iopub.execute_input": "2023-03-22T07:27:05.724232Z",
     "iopub.status.busy": "2023-03-22T07:27:05.723923Z",
     "iopub.status.idle": "2023-03-22T07:27:05.730138Z",
     "shell.execute_reply": "2023-03-22T07:27:05.728849Z"
    },
    "papermill": {
     "duration": 0.014638,
     "end_time": "2023-03-22T07:27:05.732662",
     "exception": false,
     "start_time": "2023-03-22T07:27:05.718024",
     "status": "completed"
    },
    "tags": []
   },
   "outputs": [],
   "source": [
    "# build custom model by linking preprocessor output to encoder and adding a dorpout and a final dense layer\n",
    "def build_classifier_model(preprocessor, encoder):    \n",
    "    text_input = tf.keras.layers.Input(shape=(), dtype=tf.string, name='text')\n",
    "    encoder_inputs = preprocessor(text_input)\n",
    "    outputs = encoder(encoder_inputs)\n",
    "    net = outputs['pooled_output']\n",
    "    net = tf.keras.layers.Dropout(0.1)(net)\n",
    "    net = tf.keras.layers.Dense(2, activation='softmax', name='classifier')(net)\n",
    "    return tf.keras.Model(text_input, net)"
   ]
  },
  {
   "cell_type": "code",
   "execution_count": 10,
   "id": "79a88ff2",
   "metadata": {
    "execution": {
     "iopub.execute_input": "2023-03-22T07:27:05.743207Z",
     "iopub.status.busy": "2023-03-22T07:27:05.742930Z",
     "iopub.status.idle": "2023-03-22T07:27:06.998083Z",
     "shell.execute_reply": "2023-03-22T07:27:06.996839Z"
    },
    "papermill": {
     "duration": 1.26364,
     "end_time": "2023-03-22T07:27:07.000884",
     "exception": false,
     "start_time": "2023-03-22T07:27:05.737244",
     "status": "completed"
    },
    "tags": []
   },
   "outputs": [
    {
     "data": {
      "image/png": "[encoded data removed]",
      "text/plain": [
       "<IPython.core.display.Image object>"
      ]
     },
     "execution_count": 10,
     "metadata": {},
     "output_type": "execute_result"
    }
   ],
   "source": [
    "classifier_model = build_classifier_model(bert_preprocessor, bert_encoder)\n",
    "\n",
    "tf.keras.utils.plot_model(classifier_model)"
   ]
  },
  {
   "cell_type": "code",
   "execution_count": 11,
   "id": "0a60ea2f",
   "metadata": {
    "execution": {
     "iopub.execute_input": "2023-03-22T07:27:07.014231Z",
     "iopub.status.busy": "2023-03-22T07:27:07.012464Z",
     "iopub.status.idle": "2023-03-22T07:27:07.025308Z",
     "shell.execute_reply": "2023-03-22T07:27:07.024404Z"
    },
    "papermill": {
     "duration": 0.021312,
     "end_time": "2023-03-22T07:27:07.027380",
     "exception": false,
     "start_time": "2023-03-22T07:27:07.006068",
     "status": "completed"
    },
    "tags": []
   },
   "outputs": [],
   "source": [
    "epochs = 5\n",
    "steps_per_epoch = tf.data.experimental.cardinality(train_ds).numpy()\n",
    "num_train_steps = steps_per_epoch * epochs\n",
    "num_warmup_steps = int(0.1*num_train_steps)\n",
    "\n",
    "init_lr = 3e-5\n",
    "optimizer = optimization.create_optimizer(init_lr=init_lr,\n",
    "                                          num_train_steps=num_train_steps,\n",
    "                                          num_warmup_steps=num_warmup_steps,\n",
    "                                          optimizer_type='adamw')"
   ]
  },
  {
   "cell_type": "code",
   "execution_count": 12,
   "id": "e8d65494",
   "metadata": {
    "execution": {
     "iopub.execute_input": "2023-03-22T07:27:07.038626Z",
     "iopub.status.busy": "2023-03-22T07:27:07.038316Z",
     "iopub.status.idle": "2023-03-22T07:27:07.062266Z",
     "shell.execute_reply": "2023-03-22T07:27:07.061393Z"
    },
    "papermill": {
     "duration": 0.032064,
     "end_time": "2023-03-22T07:27:07.064557",
     "exception": false,
     "start_time": "2023-03-22T07:27:07.032493",
     "status": "completed"
    },
    "tags": []
   },
   "outputs": [],
   "source": [
    "loss = tf.keras.losses.CategoricalCrossentropy()\n",
    "\n",
    "metrics = tf.keras.metrics.CategoricalAccuracy()\n",
    "\n",
    "classifier_model.compile(optimizer=optimizer,\n",
    "                         loss=loss,\n",
    "                         metrics=metrics)"
   ]
  },
  {
   "cell_type": "code",
   "execution_count": 13,
   "id": "01e7bad0",
   "metadata": {
    "execution": {
     "iopub.execute_input": "2023-03-22T07:27:07.076220Z",
     "iopub.status.busy": "2023-03-22T07:27:07.075613Z",
     "iopub.status.idle": "2023-03-22T07:31:44.232738Z",
     "shell.execute_reply": "2023-03-22T07:31:44.231520Z"
    },
    "papermill": {
     "duration": 277.166245,
     "end_time": "2023-03-22T07:31:44.235705",
     "exception": false,
     "start_time": "2023-03-22T07:27:07.069460",
     "status": "completed"
    },
    "tags": []
   },
   "outputs": [
    {
     "name": "stdout",
     "output_type": "stream",
     "text": [
      "Epoch 1/5\n",
      "191/191 [==============================] - 56s 242ms/step - loss: 0.5545 - categorical_accuracy: 0.7227 - val_loss: 0.4280 - val_categorical_accuracy: 0.8096\n",
      "Epoch 2/5\n",
      "191/191 [==============================] - 46s 239ms/step - loss: 0.3826 - categorical_accuracy: 0.8353 - val_loss: 0.4350 - val_categorical_accuracy: 0.8188\n",
      "Epoch 3/5\n",
      "191/191 [==============================] - 47s 244ms/step - loss: 0.3185 - categorical_accuracy: 0.8672 - val_loss: 0.4810 - val_categorical_accuracy: 0.8175\n",
      "Epoch 4/5\n",
      "191/191 [==============================] - 46s 244ms/step - loss: 0.2625 - categorical_accuracy: 0.8946 - val_loss: 0.4873 - val_categorical_accuracy: 0.8201\n",
      "Epoch 5/5\n",
      "191/191 [==============================] - 47s 245ms/step - loss: 0.2292 - categorical_accuracy: 0.9122 - val_loss: 0.5118 - val_categorical_accuracy: 0.8221\n"
     ]
    }
   ],
   "source": [
    "history = classifier_model.fit(x=train_ds,\n",
    "                               validation_data=val_ds,\n",
    "                               epochs=epochs)"
   ]
  },
  {
   "cell_type": "code",
   "execution_count": 14,
   "id": "85f6c963",
   "metadata": {
    "execution": {
     "iopub.execute_input": "2023-03-22T07:31:44.349436Z",
     "iopub.status.busy": "2023-03-22T07:31:44.348686Z",
     "iopub.status.idle": "2023-03-22T07:31:44.364717Z",
     "shell.execute_reply": "2023-03-22T07:31:44.363813Z"
    },
    "papermill": {
     "duration": 0.07447,
     "end_time": "2023-03-22T07:31:44.366939",
     "exception": false,
     "start_time": "2023-03-22T07:31:44.292469",
     "status": "completed"
    },
    "tags": []
   },
   "outputs": [],
   "source": [
    "test_ds = tf.data.Dataset.from_tensor_slices((test.text)).batch(batch_size)\\\n",
    "                                                         .cache()\\\n",
    "                                                         .prefetch(buffer_size=prefetch_buffer)"
   ]
  },
  {
   "cell_type": "code",
   "execution_count": 15,
   "id": "cad42daa",
   "metadata": {
    "execution": {
     "iopub.execute_input": "2023-03-22T07:31:44.478415Z",
     "iopub.status.busy": "2023-03-22T07:31:44.477759Z",
     "iopub.status.idle": "2023-03-22T07:31:55.542440Z",
     "shell.execute_reply": "2023-03-22T07:31:55.540478Z"
    },
    "papermill": {
     "duration": 11.124122,
     "end_time": "2023-03-22T07:31:55.545730",
     "exception": false,
     "start_time": "2023-03-22T07:31:44.421608",
     "status": "completed"
    },
    "tags": []
   },
   "outputs": [
    {
     "name": "stdout",
     "output_type": "stream",
     "text": [
      "102/102 [==============================] - 11s 104ms/step\n",
      "[[0.5471179  0.45288217]\n",
      " [0.01155794 0.988442  ]\n",
      " [0.01222073 0.9877793 ]\n",
      " ...\n",
      " [0.01511258 0.9848874 ]\n",
      " [0.02069002 0.97931004]\n",
      " [0.10687242 0.89312756]]\n"
     ]
    }
   ],
   "source": [
    "testing_labels = classifier_model.predict(test_ds)\n",
    "print(testing_labels)"
   ]
  },
  {
   "cell_type": "code",
   "execution_count": 16,
   "id": "68d3758a",
   "metadata": {
    "execution": {
     "iopub.execute_input": "2023-03-22T07:31:55.670623Z",
     "iopub.status.busy": "2023-03-22T07:31:55.670256Z",
     "iopub.status.idle": "2023-03-22T07:31:55.691660Z",
     "shell.execute_reply": "2023-03-22T07:31:55.690623Z"
    },
    "papermill": {
     "duration": 0.084902,
     "end_time": "2023-03-22T07:31:55.694015",
     "exception": false,
     "start_time": "2023-03-22T07:31:55.609113",
     "status": "completed"
    },
    "tags": []
   },
   "outputs": [],
   "source": [
    "import numpy as np\n",
    "\n",
    "test = pd.read_csv(TEST_DIR)\n",
    "\n",
    "#turn categorical results into 0/1\n",
    "test_labels = np.argmax(testing_labels, axis=1)\n",
    "\n",
    "#adding the 'target' column for prediction results\n",
    "test['target'] = test_labels"
   ]
  },
  {
   "cell_type": "code",
   "execution_count": 17,
   "id": "40a99387",
   "metadata": {
    "execution": {
     "iopub.execute_input": "2023-03-22T07:31:55.817683Z",
     "iopub.status.busy": "2023-03-22T07:31:55.817374Z",
     "iopub.status.idle": "2023-03-22T07:31:55.833995Z",
     "shell.execute_reply": "2023-03-22T07:31:55.832793Z"
    },
    "papermill": {
     "duration": 0.080504,
     "end_time": "2023-03-22T07:31:55.836709",
     "exception": false,
     "start_time": "2023-03-22T07:31:55.756205",
     "status": "completed"
    },
    "tags": []
   },
   "outputs": [
    {
     "data": {
      "text/html": [
       "<div>\n",
       "<style scoped>\n",
       "    .dataframe tbody tr th:only-of-type {\n",
       "        vertical-align: middle;\n",
       "    }\n",
       "\n",
       "    .dataframe tbody tr th {\n",
       "        vertical-align: top;\n",
       "    }\n",
       "\n",
       "    .dataframe thead th {\n",
       "        text-align: right;\n",
       "    }\n",
       "</style>\n",
       "<table border=\"1\" class=\"dataframe\">\n",
       "  <thead>\n",
       "    <tr style=\"text-align: right;\">\n",
       "      <th></th>\n",
       "      <th>id</th>\n",
       "      <th>keyword</th>\n",
       "      <th>location</th>\n",
       "      <th>text</th>\n",
       "      <th>target</th>\n",
       "    </tr>\n",
       "  </thead>\n",
       "  <tbody>\n",
       "    <tr>\n",
       "      <th>1</th>\n",
       "      <td>2</td>\n",
       "      <td>NaN</td>\n",
       "      <td>NaN</td>\n",
       "      <td>Heard about #earthquake is different cities, s...</td>\n",
       "      <td>1</td>\n",
       "    </tr>\n",
       "    <tr>\n",
       "      <th>2</th>\n",
       "      <td>3</td>\n",
       "      <td>NaN</td>\n",
       "      <td>NaN</td>\n",
       "      <td>there is a forest fire at spot pond, geese are...</td>\n",
       "      <td>1</td>\n",
       "    </tr>\n",
       "    <tr>\n",
       "      <th>3</th>\n",
       "      <td>9</td>\n",
       "      <td>NaN</td>\n",
       "      <td>NaN</td>\n",
       "      <td>Apocalypse lighting. #Spokane #wildfires</td>\n",
       "      <td>1</td>\n",
       "    </tr>\n",
       "    <tr>\n",
       "      <th>4</th>\n",
       "      <td>11</td>\n",
       "      <td>NaN</td>\n",
       "      <td>NaN</td>\n",
       "      <td>Typhoon Soudelor kills 28 in China and Taiwan</td>\n",
       "      <td>1</td>\n",
       "    </tr>\n",
       "    <tr>\n",
       "      <th>15</th>\n",
       "      <td>46</td>\n",
       "      <td>ablaze</td>\n",
       "      <td>London</td>\n",
       "      <td>Birmingham Wholesale Market is ablaze BBC News...</td>\n",
       "      <td>1</td>\n",
       "    </tr>\n",
       "    <tr>\n",
       "      <th>...</th>\n",
       "      <td>...</td>\n",
       "      <td>...</td>\n",
       "      <td>...</td>\n",
       "      <td>...</td>\n",
       "      <td>...</td>\n",
       "    </tr>\n",
       "    <tr>\n",
       "      <th>3258</th>\n",
       "      <td>10861</td>\n",
       "      <td>NaN</td>\n",
       "      <td>NaN</td>\n",
       "      <td>EARTHQUAKE SAFETY LOS ANGELES ÛÒ SAFETY FASTE...</td>\n",
       "      <td>1</td>\n",
       "    </tr>\n",
       "    <tr>\n",
       "      <th>3259</th>\n",
       "      <td>10865</td>\n",
       "      <td>NaN</td>\n",
       "      <td>NaN</td>\n",
       "      <td>Storm in RI worse than last hurricane. My city...</td>\n",
       "      <td>1</td>\n",
       "    </tr>\n",
       "    <tr>\n",
       "      <th>3260</th>\n",
       "      <td>10868</td>\n",
       "      <td>NaN</td>\n",
       "      <td>NaN</td>\n",
       "      <td>Green Line derailment in Chicago http://t.co/U...</td>\n",
       "      <td>1</td>\n",
       "    </tr>\n",
       "    <tr>\n",
       "      <th>3261</th>\n",
       "      <td>10874</td>\n",
       "      <td>NaN</td>\n",
       "      <td>NaN</td>\n",
       "      <td>MEG issues Hazardous Weather Outlook (HWO) htt...</td>\n",
       "      <td>1</td>\n",
       "    </tr>\n",
       "    <tr>\n",
       "      <th>3262</th>\n",
       "      <td>10875</td>\n",
       "      <td>NaN</td>\n",
       "      <td>NaN</td>\n",
       "      <td>#CityofCalgary has activated its Municipal Eme...</td>\n",
       "      <td>1</td>\n",
       "    </tr>\n",
       "  </tbody>\n",
       "</table>\n",
       "<p>1371 rows × 5 columns</p>\n",
       "</div>"
      ],
      "text/plain": [
       "         id keyword location  \\\n",
       "1         2     NaN      NaN   \n",
       "2         3     NaN      NaN   \n",
       "3         9     NaN      NaN   \n",
       "4        11     NaN      NaN   \n",
       "15       46  ablaze   London   \n",
       "...     ...     ...      ...   \n",
       "3258  10861     NaN      NaN   \n",
       "3259  10865     NaN      NaN   \n",
       "3260  10868     NaN      NaN   \n",
       "3261  10874     NaN      NaN   \n",
       "3262  10875     NaN      NaN   \n",
       "\n",
       "                                                   text  target  \n",
       "1     Heard about #earthquake is different cities, s...       1  \n",
       "2     there is a forest fire at spot pond, geese are...       1  \n",
       "3              Apocalypse lighting. #Spokane #wildfires       1  \n",
       "4         Typhoon Soudelor kills 28 in China and Taiwan       1  \n",
       "15    Birmingham Wholesale Market is ablaze BBC News...       1  \n",
       "...                                                 ...     ...  \n",
       "3258  EARTHQUAKE SAFETY LOS ANGELES ÛÒ SAFETY FASTE...       1  \n",
       "3259  Storm in RI worse than last hurricane. My city...       1  \n",
       "3260  Green Line derailment in Chicago http://t.co/U...       1  \n",
       "3261  MEG issues Hazardous Weather Outlook (HWO) htt...       1  \n",
       "3262  #CityofCalgary has activated its Municipal Eme...       1  \n",
       "\n",
       "[1371 rows x 5 columns]"
      ]
     },
     "execution_count": 17,
     "metadata": {},
     "output_type": "execute_result"
    }
   ],
   "source": [
    "# check some disaster tweet predictions\n",
    "test[test.target == 1]"
   ]
  },
  {
   "cell_type": "code",
   "execution_count": 18,
   "id": "6ec0ba3d",
   "metadata": {
    "execution": {
     "iopub.execute_input": "2023-03-22T07:31:55.960884Z",
     "iopub.status.busy": "2023-03-22T07:31:55.960497Z",
     "iopub.status.idle": "2023-03-22T07:31:55.976347Z",
     "shell.execute_reply": "2023-03-22T07:31:55.975246Z"
    },
    "papermill": {
     "duration": 0.080473,
     "end_time": "2023-03-22T07:31:55.979142",
     "exception": false,
     "start_time": "2023-03-22T07:31:55.898669",
     "status": "completed"
    },
    "tags": []
   },
   "outputs": [
    {
     "data": {
      "text/html": [
       "<div>\n",
       "<style scoped>\n",
       "    .dataframe tbody tr th:only-of-type {\n",
       "        vertical-align: middle;\n",
       "    }\n",
       "\n",
       "    .dataframe tbody tr th {\n",
       "        vertical-align: top;\n",
       "    }\n",
       "\n",
       "    .dataframe thead th {\n",
       "        text-align: right;\n",
       "    }\n",
       "</style>\n",
       "<table border=\"1\" class=\"dataframe\">\n",
       "  <thead>\n",
       "    <tr style=\"text-align: right;\">\n",
       "      <th></th>\n",
       "      <th>id</th>\n",
       "      <th>keyword</th>\n",
       "      <th>location</th>\n",
       "      <th>text</th>\n",
       "      <th>target</th>\n",
       "    </tr>\n",
       "  </thead>\n",
       "  <tbody>\n",
       "    <tr>\n",
       "      <th>0</th>\n",
       "      <td>0</td>\n",
       "      <td>NaN</td>\n",
       "      <td>NaN</td>\n",
       "      <td>Just happened a terrible car crash</td>\n",
       "      <td>0</td>\n",
       "    </tr>\n",
       "    <tr>\n",
       "      <th>5</th>\n",
       "      <td>12</td>\n",
       "      <td>NaN</td>\n",
       "      <td>NaN</td>\n",
       "      <td>We're shaking...It's an earthquake</td>\n",
       "      <td>0</td>\n",
       "    </tr>\n",
       "    <tr>\n",
       "      <th>6</th>\n",
       "      <td>21</td>\n",
       "      <td>NaN</td>\n",
       "      <td>NaN</td>\n",
       "      <td>They'd probably still show more life than Arse...</td>\n",
       "      <td>0</td>\n",
       "    </tr>\n",
       "    <tr>\n",
       "      <th>7</th>\n",
       "      <td>22</td>\n",
       "      <td>NaN</td>\n",
       "      <td>NaN</td>\n",
       "      <td>Hey! How are you?</td>\n",
       "      <td>0</td>\n",
       "    </tr>\n",
       "    <tr>\n",
       "      <th>8</th>\n",
       "      <td>27</td>\n",
       "      <td>NaN</td>\n",
       "      <td>NaN</td>\n",
       "      <td>What a nice hat?</td>\n",
       "      <td>0</td>\n",
       "    </tr>\n",
       "    <tr>\n",
       "      <th>...</th>\n",
       "      <td>...</td>\n",
       "      <td>...</td>\n",
       "      <td>...</td>\n",
       "      <td>...</td>\n",
       "      <td>...</td>\n",
       "    </tr>\n",
       "    <tr>\n",
       "      <th>3247</th>\n",
       "      <td>10806</td>\n",
       "      <td>wrecked</td>\n",
       "      <td>Seattle Washington</td>\n",
       "      <td>RT CNBC '3 words from Disney CEO Bob Iger wrec...</td>\n",
       "      <td>0</td>\n",
       "    </tr>\n",
       "    <tr>\n",
       "      <th>3248</th>\n",
       "      <td>10807</td>\n",
       "      <td>wrecked</td>\n",
       "      <td>Acey mountain islanddåÇTorontoåÈ</td>\n",
       "      <td>Smackdown tyme this should put me in a good mo...</td>\n",
       "      <td>0</td>\n",
       "    </tr>\n",
       "    <tr>\n",
       "      <th>3249</th>\n",
       "      <td>10816</td>\n",
       "      <td>wrecked</td>\n",
       "      <td>los angeles</td>\n",
       "      <td>@thrillhho jsyk I haven't stopped thinking abt...</td>\n",
       "      <td>0</td>\n",
       "    </tr>\n",
       "    <tr>\n",
       "      <th>3250</th>\n",
       "      <td>10820</td>\n",
       "      <td>wrecked</td>\n",
       "      <td>Brussels, Belgium</td>\n",
       "      <td>@stighefootball Begovic has been garbage. He g...</td>\n",
       "      <td>0</td>\n",
       "    </tr>\n",
       "    <tr>\n",
       "      <th>3251</th>\n",
       "      <td>10828</td>\n",
       "      <td>wrecked</td>\n",
       "      <td>NaN</td>\n",
       "      <td>Wrecked today got my hattrick ????</td>\n",
       "      <td>0</td>\n",
       "    </tr>\n",
       "  </tbody>\n",
       "</table>\n",
       "<p>1892 rows × 5 columns</p>\n",
       "</div>"
      ],
      "text/plain": [
       "         id  keyword                          location  \\\n",
       "0         0      NaN                               NaN   \n",
       "5        12      NaN                               NaN   \n",
       "6        21      NaN                               NaN   \n",
       "7        22      NaN                               NaN   \n",
       "8        27      NaN                               NaN   \n",
       "...     ...      ...                               ...   \n",
       "3247  10806  wrecked                Seattle Washington   \n",
       "3248  10807  wrecked  Acey mountain islanddåÇTorontoåÈ   \n",
       "3249  10816  wrecked                       los angeles   \n",
       "3250  10820  wrecked                 Brussels, Belgium   \n",
       "3251  10828  wrecked                               NaN   \n",
       "\n",
       "                                                   text  target  \n",
       "0                    Just happened a terrible car crash       0  \n",
       "5                    We're shaking...It's an earthquake       0  \n",
       "6     They'd probably still show more life than Arse...       0  \n",
       "7                                     Hey! How are you?       0  \n",
       "8                                      What a nice hat?       0  \n",
       "...                                                 ...     ...  \n",
       "3247  RT CNBC '3 words from Disney CEO Bob Iger wrec...       0  \n",
       "3248  Smackdown tyme this should put me in a good mo...       0  \n",
       "3249  @thrillhho jsyk I haven't stopped thinking abt...       0  \n",
       "3250  @stighefootball Begovic has been garbage. He g...       0  \n",
       "3251                 Wrecked today got my hattrick ????       0  \n",
       "\n",
       "[1892 rows x 5 columns]"
      ]
     },
     "execution_count": 18,
     "metadata": {},
     "output_type": "execute_result"
    }
   ],
   "source": [
    "# check some non-disaster tweet predictions\n",
    "test[test.target == 0]"
   ]
  },
  {
   "cell_type": "code",
   "execution_count": 19,
   "id": "25680411",
   "metadata": {
    "execution": {
     "iopub.execute_input": "2023-03-22T07:31:56.102608Z",
     "iopub.status.busy": "2023-03-22T07:31:56.102267Z",
     "iopub.status.idle": "2023-03-22T07:31:56.116781Z",
     "shell.execute_reply": "2023-03-22T07:31:56.115692Z"
    },
    "papermill": {
     "duration": 0.079159,
     "end_time": "2023-03-22T07:31:56.119097",
     "exception": false,
     "start_time": "2023-03-22T07:31:56.039938",
     "status": "completed"
    },
    "tags": []
   },
   "outputs": [
    {
     "data": {
      "text/html": [
       "<div>\n",
       "<style scoped>\n",
       "    .dataframe tbody tr th:only-of-type {\n",
       "        vertical-align: middle;\n",
       "    }\n",
       "\n",
       "    .dataframe tbody tr th {\n",
       "        vertical-align: top;\n",
       "    }\n",
       "\n",
       "    .dataframe thead th {\n",
       "        text-align: right;\n",
       "    }\n",
       "</style>\n",
       "<table border=\"1\" class=\"dataframe\">\n",
       "  <thead>\n",
       "    <tr style=\"text-align: right;\">\n",
       "      <th></th>\n",
       "      <th>id</th>\n",
       "      <th>target</th>\n",
       "    </tr>\n",
       "  </thead>\n",
       "  <tbody>\n",
       "    <tr>\n",
       "      <th>0</th>\n",
       "      <td>0</td>\n",
       "      <td>0</td>\n",
       "    </tr>\n",
       "    <tr>\n",
       "      <th>1</th>\n",
       "      <td>2</td>\n",
       "      <td>1</td>\n",
       "    </tr>\n",
       "    <tr>\n",
       "      <th>2</th>\n",
       "      <td>3</td>\n",
       "      <td>1</td>\n",
       "    </tr>\n",
       "    <tr>\n",
       "      <th>3</th>\n",
       "      <td>9</td>\n",
       "      <td>1</td>\n",
       "    </tr>\n",
       "    <tr>\n",
       "      <th>4</th>\n",
       "      <td>11</td>\n",
       "      <td>1</td>\n",
       "    </tr>\n",
       "    <tr>\n",
       "      <th>...</th>\n",
       "      <td>...</td>\n",
       "      <td>...</td>\n",
       "    </tr>\n",
       "    <tr>\n",
       "      <th>3258</th>\n",
       "      <td>10861</td>\n",
       "      <td>1</td>\n",
       "    </tr>\n",
       "    <tr>\n",
       "      <th>3259</th>\n",
       "      <td>10865</td>\n",
       "      <td>1</td>\n",
       "    </tr>\n",
       "    <tr>\n",
       "      <th>3260</th>\n",
       "      <td>10868</td>\n",
       "      <td>1</td>\n",
       "    </tr>\n",
       "    <tr>\n",
       "      <th>3261</th>\n",
       "      <td>10874</td>\n",
       "      <td>1</td>\n",
       "    </tr>\n",
       "    <tr>\n",
       "      <th>3262</th>\n",
       "      <td>10875</td>\n",
       "      <td>1</td>\n",
       "    </tr>\n",
       "  </tbody>\n",
       "</table>\n",
       "<p>3263 rows × 2 columns</p>\n",
       "</div>"
      ],
      "text/plain": [
       "         id  target\n",
       "0         0       0\n",
       "1         2       1\n",
       "2         3       1\n",
       "3         9       1\n",
       "4        11       1\n",
       "...     ...     ...\n",
       "3258  10861       1\n",
       "3259  10865       1\n",
       "3260  10868       1\n",
       "3261  10874       1\n",
       "3262  10875       1\n",
       "\n",
       "[3263 rows x 2 columns]"
      ]
     },
     "execution_count": 19,
     "metadata": {},
     "output_type": "execute_result"
    }
   ],
   "source": [
    "# generate submission results \n",
    "submission = test[['id','target']]\n",
    "submission"
   ]
  },
  {
   "cell_type": "code",
   "execution_count": 20,
   "id": "d4aec18e",
   "metadata": {
    "execution": {
     "iopub.execute_input": "2023-03-22T07:31:56.242344Z",
     "iopub.status.busy": "2023-03-22T07:31:56.242055Z",
     "iopub.status.idle": "2023-03-22T07:31:56.253166Z",
     "shell.execute_reply": "2023-03-22T07:31:56.252264Z"
    },
    "papermill": {
     "duration": 0.075711,
     "end_time": "2023-03-22T07:31:56.255604",
     "exception": false,
     "start_time": "2023-03-22T07:31:56.179893",
     "status": "completed"
    },
    "tags": []
   },
   "outputs": [],
   "source": [
    "submission.to_csv('submission.csv', index = False)"
   ]
  }
 ],
 "metadata": {
  "kernelspec": {
   "display_name": "Python 3",
   "language": "python",
   "name": "python3"
  },
  "language_info": {
   "codemirror_mode": {
    "name": "ipython",
    "version": 3
   },
   "file_extension": ".py",
   "mimetype": "text/x-python",
   "name": "python",
   "nbconvert_exporter": "python",
   "pygments_lexer": "ipython3",
   "version": "3.7.12"
  },
  "papermill": {
   "default_parameters": {},
   "duration": 421.034635,
   "end_time": "2023-03-22T07:31:59.248082",
   "environment_variables": {},
   "exception": null,
   "input_path": "__notebook__.ipynb",
   "output_path": "__notebook__.ipynb",
   "parameters": {},
   "start_time": "2023-03-22T07:24:58.213447",
   "version": "2.4.0"
  }
 },
 "nbformat": 4,
 "nbformat_minor": 5
}
