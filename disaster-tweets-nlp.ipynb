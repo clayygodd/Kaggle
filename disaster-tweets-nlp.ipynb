{
 "cells": [
  {
   "cell_type": "markdown",
   "id": "54e230fe",
   "metadata": {
    "papermill": {
     "duration": 0.011634,
     "end_time": "2022-12-21T07:50:17.520086",
     "exception": false,
     "start_time": "2022-12-21T07:50:17.508452",
     "status": "completed"
    },
    "tags": []
   },
   "source": [
    "# **Twitter Disaster NLP**\n",
    "\n",
    "In this notebook, we build a NLP classification model using bidirectional LSTM that predicts which Tweets are about real disasters and which one’s aren’t.\n",
    "\n",
    "Workflow:\n",
    "1. Tokenize the tweets and convert them into sequences.\n",
    "2. Apply GLOVE embeddings to convert the sequences into tensors.\n",
    "3. Build a bidirectional lstm model.\n",
    "4. Make prediction on the test data"
   ]
  },
  {
   "cell_type": "code",
   "execution_count": 1,
   "id": "484cf7c4",
   "metadata": {
    "execution": {
     "iopub.execute_input": "2022-12-21T07:50:17.542253Z",
     "iopub.status.busy": "2022-12-21T07:50:17.541733Z",
     "iopub.status.idle": "2022-12-21T07:50:27.391075Z",
     "shell.execute_reply": "2022-12-21T07:50:27.389539Z"
    },
    "papermill": {
     "duration": 9.864696,
     "end_time": "2022-12-21T07:50:27.394883",
     "exception": false,
     "start_time": "2022-12-21T07:50:17.530187",
     "status": "completed"
    },
    "tags": []
   },
   "outputs": [],
   "source": [
    "import os\n",
    "import csv\n",
    "import zipfile\n",
    "import random\n",
    "import nltk\n",
    "import pandas as pd\n",
    "import numpy as np\n",
    "import matplotlib.pyplot as plt\n",
    "import tensorflow as tf\n",
    "\n",
    "from tensorflow.keras.preprocessing.text import Tokenizer\n",
    "from tensorflow.keras.preprocessing.sequence import pad_sequences\n",
    "from nltk.tokenize import TweetTokenizer, NLTKWordTokenizer\n",
    "from nltk.stem import WordNetLemmatizer"
   ]
  },
  {
   "cell_type": "markdown",
   "id": "9d00d931",
   "metadata": {
    "papermill": {
     "duration": 0.011381,
     "end_time": "2022-12-21T07:50:27.416697",
     "exception": false,
     "start_time": "2022-12-21T07:50:27.405316",
     "status": "completed"
    },
    "tags": []
   },
   "source": [
    "# **Data Review**"
   ]
  },
  {
   "cell_type": "code",
   "execution_count": 2,
   "id": "dc869413",
   "metadata": {
    "execution": {
     "iopub.execute_input": "2022-12-21T07:50:27.439568Z",
     "iopub.status.busy": "2022-12-21T07:50:27.438569Z",
     "iopub.status.idle": "2022-12-21T07:50:27.502295Z",
     "shell.execute_reply": "2022-12-21T07:50:27.500540Z"
    },
    "papermill": {
     "duration": 0.078396,
     "end_time": "2022-12-21T07:50:27.505482",
     "exception": false,
     "start_time": "2022-12-21T07:50:27.427086",
     "status": "completed"
    },
    "tags": []
   },
   "outputs": [],
   "source": [
    "# reading data file\n",
    "TRAINING_DIR = \"/kaggle/input/nlp-getting-started/train.csv\"\n",
    "\n",
    "training_data = pd.read_csv(TRAINING_DIR)"
   ]
  },
  {
   "cell_type": "code",
   "execution_count": 3,
   "id": "f92409bc",
   "metadata": {
    "execution": {
     "iopub.execute_input": "2022-12-21T07:50:27.529773Z",
     "iopub.status.busy": "2022-12-21T07:50:27.529192Z",
     "iopub.status.idle": "2022-12-21T07:50:27.555100Z",
     "shell.execute_reply": "2022-12-21T07:50:27.553792Z"
    },
    "papermill": {
     "duration": 0.041226,
     "end_time": "2022-12-21T07:50:27.558142",
     "exception": false,
     "start_time": "2022-12-21T07:50:27.516916",
     "status": "completed"
    },
    "tags": []
   },
   "outputs": [
    {
     "data": {
      "text/html": [
       "<div>\n",
       "<style scoped>\n",
       "    .dataframe tbody tr th:only-of-type {\n",
       "        vertical-align: middle;\n",
       "    }\n",
       "\n",
       "    .dataframe tbody tr th {\n",
       "        vertical-align: top;\n",
       "    }\n",
       "\n",
       "    .dataframe thead th {\n",
       "        text-align: right;\n",
       "    }\n",
       "</style>\n",
       "<table border=\"1\" class=\"dataframe\">\n",
       "  <thead>\n",
       "    <tr style=\"text-align: right;\">\n",
       "      <th></th>\n",
       "      <th>id</th>\n",
       "      <th>keyword</th>\n",
       "      <th>location</th>\n",
       "      <th>text</th>\n",
       "      <th>target</th>\n",
       "    </tr>\n",
       "  </thead>\n",
       "  <tbody>\n",
       "    <tr>\n",
       "      <th>0</th>\n",
       "      <td>1</td>\n",
       "      <td>NaN</td>\n",
       "      <td>NaN</td>\n",
       "      <td>Our Deeds are the Reason of this #earthquake M...</td>\n",
       "      <td>1</td>\n",
       "    </tr>\n",
       "    <tr>\n",
       "      <th>1</th>\n",
       "      <td>4</td>\n",
       "      <td>NaN</td>\n",
       "      <td>NaN</td>\n",
       "      <td>Forest fire near La Ronge Sask. Canada</td>\n",
       "      <td>1</td>\n",
       "    </tr>\n",
       "    <tr>\n",
       "      <th>2</th>\n",
       "      <td>5</td>\n",
       "      <td>NaN</td>\n",
       "      <td>NaN</td>\n",
       "      <td>All residents asked to 'shelter in place' are ...</td>\n",
       "      <td>1</td>\n",
       "    </tr>\n",
       "    <tr>\n",
       "      <th>3</th>\n",
       "      <td>6</td>\n",
       "      <td>NaN</td>\n",
       "      <td>NaN</td>\n",
       "      <td>13,000 people receive #wildfires evacuation or...</td>\n",
       "      <td>1</td>\n",
       "    </tr>\n",
       "    <tr>\n",
       "      <th>4</th>\n",
       "      <td>7</td>\n",
       "      <td>NaN</td>\n",
       "      <td>NaN</td>\n",
       "      <td>Just got sent this photo from Ruby #Alaska as ...</td>\n",
       "      <td>1</td>\n",
       "    </tr>\n",
       "  </tbody>\n",
       "</table>\n",
       "</div>"
      ],
      "text/plain": [
       "   id keyword location                                               text  \\\n",
       "0   1     NaN      NaN  Our Deeds are the Reason of this #earthquake M...   \n",
       "1   4     NaN      NaN             Forest fire near La Ronge Sask. Canada   \n",
       "2   5     NaN      NaN  All residents asked to 'shelter in place' are ...   \n",
       "3   6     NaN      NaN  13,000 people receive #wildfires evacuation or...   \n",
       "4   7     NaN      NaN  Just got sent this photo from Ruby #Alaska as ...   \n",
       "\n",
       "   target  \n",
       "0       1  \n",
       "1       1  \n",
       "2       1  \n",
       "3       1  \n",
       "4       1  "
      ]
     },
     "execution_count": 3,
     "metadata": {},
     "output_type": "execute_result"
    }
   ],
   "source": [
    "#Visualised data\n",
    "training_data.head()"
   ]
  },
  {
   "cell_type": "code",
   "execution_count": 4,
   "id": "20cc2b14",
   "metadata": {
    "execution": {
     "iopub.execute_input": "2022-12-21T07:50:27.581082Z",
     "iopub.status.busy": "2022-12-21T07:50:27.580228Z",
     "iopub.status.idle": "2022-12-21T07:50:27.616082Z",
     "shell.execute_reply": "2022-12-21T07:50:27.614444Z"
    },
    "papermill": {
     "duration": 0.050214,
     "end_time": "2022-12-21T07:50:27.618884",
     "exception": false,
     "start_time": "2022-12-21T07:50:27.568670",
     "status": "completed"
    },
    "tags": []
   },
   "outputs": [
    {
     "name": "stdout",
     "output_type": "stream",
     "text": [
      "<class 'pandas.core.frame.DataFrame'>\n",
      "RangeIndex: 7613 entries, 0 to 7612\n",
      "Data columns (total 5 columns):\n",
      " #   Column    Non-Null Count  Dtype \n",
      "---  ------    --------------  ----- \n",
      " 0   id        7613 non-null   int64 \n",
      " 1   keyword   7552 non-null   object\n",
      " 2   location  5080 non-null   object\n",
      " 3   text      7613 non-null   object\n",
      " 4   target    7613 non-null   int64 \n",
      "dtypes: int64(2), object(3)\n",
      "memory usage: 297.5+ KB\n"
     ]
    }
   ],
   "source": [
    "training_data.info()"
   ]
  },
  {
   "cell_type": "code",
   "execution_count": 5,
   "id": "df4ec253",
   "metadata": {
    "execution": {
     "iopub.execute_input": "2022-12-21T07:50:27.642191Z",
     "iopub.status.busy": "2022-12-21T07:50:27.641773Z",
     "iopub.status.idle": "2022-12-21T07:50:27.653235Z",
     "shell.execute_reply": "2022-12-21T07:50:27.651936Z"
    },
    "papermill": {
     "duration": 0.026996,
     "end_time": "2022-12-21T07:50:27.656018",
     "exception": false,
     "start_time": "2022-12-21T07:50:27.629022",
     "status": "completed"
    },
    "tags": []
   },
   "outputs": [
    {
     "data": {
      "text/plain": [
       "id             0\n",
       "keyword       61\n",
       "location    2533\n",
       "text           0\n",
       "target         0\n",
       "dtype: int64"
      ]
     },
     "execution_count": 5,
     "metadata": {},
     "output_type": "execute_result"
    }
   ],
   "source": [
    "# check blank data\n",
    "training_data.isnull().sum()"
   ]
  },
  {
   "cell_type": "markdown",
   "id": "cf15dedb",
   "metadata": {
    "papermill": {
     "duration": 0.011306,
     "end_time": "2022-12-21T07:50:27.677820",
     "exception": false,
     "start_time": "2022-12-21T07:50:27.666514",
     "status": "completed"
    },
    "tags": []
   },
   "source": [
    "# **Data Processing**"
   ]
  },
  {
   "cell_type": "code",
   "execution_count": 6,
   "id": "47488b8a",
   "metadata": {
    "execution": {
     "iopub.execute_input": "2022-12-21T07:50:27.701692Z",
     "iopub.status.busy": "2022-12-21T07:50:27.701200Z",
     "iopub.status.idle": "2022-12-21T07:50:28.003892Z",
     "shell.execute_reply": "2022-12-21T07:50:28.003001Z"
    },
    "papermill": {
     "duration": 0.317381,
     "end_time": "2022-12-21T07:50:28.006742",
     "exception": false,
     "start_time": "2022-12-21T07:50:27.689361",
     "status": "completed"
    },
    "tags": []
   },
   "outputs": [
    {
     "name": "stderr",
     "output_type": "stream",
     "text": [
      "[nltk_data] Downloading package omw-1.4 to /usr/share/nltk_data...\n"
     ]
    },
    {
     "data": {
      "text/plain": [
       "True"
      ]
     },
     "execution_count": 6,
     "metadata": {},
     "output_type": "execute_result"
    }
   ],
   "source": [
    "nltk.download('omw-1.4')"
   ]
  },
  {
   "cell_type": "markdown",
   "id": "d8bcf02a",
   "metadata": {
    "papermill": {
     "duration": 0.010666,
     "end_time": "2022-12-21T07:50:28.027976",
     "exception": false,
     "start_time": "2022-12-21T07:50:28.017310",
     "status": "completed"
    },
    "tags": []
   },
   "source": [
    "**Preprocess train data**"
   ]
  },
  {
   "cell_type": "code",
   "execution_count": 7,
   "id": "4b560e3d",
   "metadata": {
    "execution": {
     "iopub.execute_input": "2022-12-21T07:50:28.051048Z",
     "iopub.status.busy": "2022-12-21T07:50:28.050332Z",
     "iopub.status.idle": "2022-12-21T07:50:31.358226Z",
     "shell.execute_reply": "2022-12-21T07:50:31.356838Z"
    },
    "papermill": {
     "duration": 3.322866,
     "end_time": "2022-12-21T07:50:31.361363",
     "exception": false,
     "start_time": "2022-12-21T07:50:28.038497",
     "status": "completed"
    },
    "tags": []
   },
   "outputs": [],
   "source": [
    "# use tweet tonkenizer first\n",
    "tk =TweetTokenizer()\n",
    "texts = training_data.text.apply(tk.tokenize)\n",
    "\n",
    "# lemmatize and lower the texts\n",
    "lemmer = WordNetLemmatizer()\n",
    "texts2 = [[lemmer.lemmatize(w).lower() for w in sentence] for sentence in texts]\n",
    "train_sentences = [' '.join(txt) for txt in texts2]"
   ]
  },
  {
   "cell_type": "markdown",
   "id": "84518543",
   "metadata": {
    "papermill": {
     "duration": 0.010418,
     "end_time": "2022-12-21T07:50:31.386609",
     "exception": false,
     "start_time": "2022-12-21T07:50:31.376191",
     "status": "completed"
    },
    "tags": []
   },
   "source": [
    "**Tokenized train data**"
   ]
  },
  {
   "cell_type": "code",
   "execution_count": 8,
   "id": "cbca8d77",
   "metadata": {
    "execution": {
     "iopub.execute_input": "2022-12-21T07:50:31.409684Z",
     "iopub.status.busy": "2022-12-21T07:50:31.408975Z",
     "iopub.status.idle": "2022-12-21T07:50:31.648390Z",
     "shell.execute_reply": "2022-12-21T07:50:31.646829Z"
    },
    "papermill": {
     "duration": 0.255051,
     "end_time": "2022-12-21T07:50:31.652324",
     "exception": false,
     "start_time": "2022-12-21T07:50:31.397273",
     "status": "completed"
    },
    "tags": []
   },
   "outputs": [
    {
     "name": "stdout",
     "output_type": "stream",
     "text": [
      "Vocabulary contains 21347 words\n",
      "\n",
      "<OOV> token included in vocabulary\n"
     ]
    }
   ],
   "source": [
    "OOV_TOKEN = \"<OOV>\"\n",
    "\n",
    "# Instantiate the Tokenizer class, passing in the correct value for oov_token\n",
    "tokenizer = Tokenizer(oov_token = OOV_TOKEN)\n",
    "    \n",
    "# Fit the tokenizer to the training sentences\n",
    "tokenizer.fit_on_texts(train_sentences)\n",
    "\n",
    "word_index = tokenizer.word_index\n",
    "VOCAB_SIZE = len(word_index)\n",
    "\n",
    "print(f\"Vocabulary contains {VOCAB_SIZE} words\\n\")\n",
    "print(\"<OOV> token included in vocabulary\" if \"<OOV>\" in word_index else \"<OOV> token NOT included in vocabulary\")"
   ]
  },
  {
   "cell_type": "markdown",
   "id": "34478960",
   "metadata": {
    "papermill": {
     "duration": 0.010491,
     "end_time": "2022-12-21T07:50:31.674476",
     "exception": false,
     "start_time": "2022-12-21T07:50:31.663985",
     "status": "completed"
    },
    "tags": []
   },
   "source": [
    "**Add Padding**"
   ]
  },
  {
   "cell_type": "code",
   "execution_count": 9,
   "id": "6d020c4d",
   "metadata": {
    "execution": {
     "iopub.execute_input": "2022-12-21T07:50:31.698039Z",
     "iopub.status.busy": "2022-12-21T07:50:31.697383Z",
     "iopub.status.idle": "2022-12-21T07:50:31.888128Z",
     "shell.execute_reply": "2022-12-21T07:50:31.886554Z"
    },
    "papermill": {
     "duration": 0.206025,
     "end_time": "2022-12-21T07:50:31.891413",
     "exception": false,
     "start_time": "2022-12-21T07:50:31.685388",
     "status": "completed"
    },
    "tags": []
   },
   "outputs": [
    {
     "name": "stdout",
     "output_type": "stream",
     "text": [
      "Padded and truncated training sequences have shape: (7613, 38)\n",
      "\n",
      "Maxlen is 38.\n"
     ]
    }
   ],
   "source": [
    "PADDING = 'post'\n",
    "\n",
    "# Convert sentences to sequences\n",
    "train_sequences = tokenizer.texts_to_sequences(train_sentences)\n",
    "\n",
    "MAXLEN = max([len(i) for i in train_sequences])\n",
    "\n",
    "# Pad the sequences using the correct padding, truncating and maxlen\n",
    "train_pad_trunc_seq = pad_sequences(train_sequences, maxlen=MAXLEN, padding=PADDING)\n",
    "\n",
    "print(f\"Padded and truncated training sequences have shape: {train_pad_trunc_seq.shape}\\n\")\n",
    "print(f\"Maxlen is {MAXLEN}.\")"
   ]
  },
  {
   "cell_type": "code",
   "execution_count": 10,
   "id": "e0ea43f8",
   "metadata": {
    "execution": {
     "iopub.execute_input": "2022-12-21T07:50:31.915553Z",
     "iopub.status.busy": "2022-12-21T07:50:31.915169Z",
     "iopub.status.idle": "2022-12-21T07:50:31.922563Z",
     "shell.execute_reply": "2022-12-21T07:50:31.920812Z"
    },
    "papermill": {
     "duration": 0.022729,
     "end_time": "2022-12-21T07:50:31.925673",
     "exception": false,
     "start_time": "2022-12-21T07:50:31.902944",
     "status": "completed"
    },
    "tags": []
   },
   "outputs": [
    {
     "name": "stdout",
     "output_type": "stream",
     "text": [
      "Labels have shape: (7613, 2)\n",
      "\n"
     ]
    }
   ],
   "source": [
    "# create labels\n",
    "NUM_CLASSES = 2\n",
    "\n",
    "cat_labels = tf.keras.utils.to_categorical(training_data.target,num_classes=NUM_CLASSES)\n",
    "\n",
    "print(f\"Labels have shape: {cat_labels.shape}\\n\")"
   ]
  },
  {
   "cell_type": "code",
   "execution_count": 11,
   "id": "1843a147",
   "metadata": {
    "execution": {
     "iopub.execute_input": "2022-12-21T07:50:31.950174Z",
     "iopub.status.busy": "2022-12-21T07:50:31.948639Z",
     "iopub.status.idle": "2022-12-21T07:50:36.770980Z",
     "shell.execute_reply": "2022-12-21T07:50:36.769603Z"
    },
    "papermill": {
     "duration": 4.836993,
     "end_time": "2022-12-21T07:50:36.773823",
     "exception": false,
     "start_time": "2022-12-21T07:50:31.936830",
     "status": "completed"
    },
    "tags": []
   },
   "outputs": [
    {
     "name": "stdout",
     "output_type": "stream",
     "text": [
      "--2022-12-21 07:50:33--  https://huggingface.co/stanfordnlp/glove/resolve/main/glove.6B.zip\r\n",
      "Resolving huggingface.co (huggingface.co)... 18.235.116.140, 34.200.6.138, 54.86.30.45, ...\r\n",
      "Connecting to huggingface.co (huggingface.co)|18.235.116.140|:443... connected.\r\n",
      "HTTP request sent, awaiting response... 302 Found\r\n",
      "Location: https://cdn-lfs.huggingface.co/stanfordnlp/glove/6471382cdd837544bf3ac72497a38715e845897d265b2b424b4761832009c837?response-content-disposition=attachment%3B%20filename%3D%22glove.6B.zip%22&Expires=1671868233&Policy=eyJTdGF0ZW1lbnQiOlt7IlJlc291cmNlIjoiaHR0cHM6Ly9jZG4tbGZzLmh1Z2dpbmdmYWNlLmNvL3N0YW5mb3JkbmxwL2dsb3ZlLzY0NzEzODJjZGQ4Mzc1NDRiZjNhYzcyNDk3YTM4NzE1ZTg0NTg5N2QyNjViMmI0MjRiNDc2MTgzMjAwOWM4Mzc~cmVzcG9uc2UtY29udGVudC1kaXNwb3NpdGlvbj1hdHRhY2htZW50JTNCJTIwZmlsZW5hbWUlM0QlMjJnbG92ZS42Qi56aXAlMjIiLCJDb25kaXRpb24iOnsiRGF0ZUxlc3NUaGFuIjp7IkFXUzpFcG9jaFRpbWUiOjE2NzE4NjgyMzN9fX1dfQ__&Signature=E4QZWXBkC2IEqJA3-lCQrpoSJbUFz6-jN5N4MTZhZ0heb02lKAQRbz6w7BpT3CwkQIzS6NL4gm0o-u-GB~zP9Du9Tdc7bKHYFrTn-Q8NHRrCFpfoW6xeoVVuHgtA33I50~7WWGeFxdfzoEINaWaHaGU4DO1EqSZ61-U18KZUu3~58kjC7JXBCHpVH6bJ8hr-zdYBn-dRd~U5xJ0OTyfOU6sOGxNrRYiCcjrtAGsQHDRTjt2EQ0H5fVWzGsCUIaq90XjiEDL~QDlnnrHNC9kCapZ8zdr7ZCTlIDMAnpQqJQX1dUniPLhVtvmH9o6vQL0-3hQxNHWc8QkBwOIpswiCNA__&Key-Pair-Id=KVTP0A1DKRTAX [following]\r\n",
      "--2022-12-21 07:50:33--  https://cdn-lfs.huggingface.co/stanfordnlp/glove/6471382cdd837544bf3ac72497a38715e845897d265b2b424b4761832009c837?response-content-disposition=attachment%3B%20filename%3D%22glove.6B.zip%22&Expires=1671868233&Policy=eyJTdGF0ZW1lbnQiOlt7IlJlc291cmNlIjoiaHR0cHM6Ly9jZG4tbGZzLmh1Z2dpbmdmYWNlLmNvL3N0YW5mb3JkbmxwL2dsb3ZlLzY0NzEzODJjZGQ4Mzc1NDRiZjNhYzcyNDk3YTM4NzE1ZTg0NTg5N2QyNjViMmI0MjRiNDc2MTgzMjAwOWM4Mzc~cmVzcG9uc2UtY29udGVudC1kaXNwb3NpdGlvbj1hdHRhY2htZW50JTNCJTIwZmlsZW5hbWUlM0QlMjJnbG92ZS42Qi56aXAlMjIiLCJDb25kaXRpb24iOnsiRGF0ZUxlc3NUaGFuIjp7IkFXUzpFcG9jaFRpbWUiOjE2NzE4NjgyMzN9fX1dfQ__&Signature=E4QZWXBkC2IEqJA3-lCQrpoSJbUFz6-jN5N4MTZhZ0heb02lKAQRbz6w7BpT3CwkQIzS6NL4gm0o-u-GB~zP9Du9Tdc7bKHYFrTn-Q8NHRrCFpfoW6xeoVVuHgtA33I50~7WWGeFxdfzoEINaWaHaGU4DO1EqSZ61-U18KZUu3~58kjC7JXBCHpVH6bJ8hr-zdYBn-dRd~U5xJ0OTyfOU6sOGxNrRYiCcjrtAGsQHDRTjt2EQ0H5fVWzGsCUIaq90XjiEDL~QDlnnrHNC9kCapZ8zdr7ZCTlIDMAnpQqJQX1dUniPLhVtvmH9o6vQL0-3hQxNHWc8QkBwOIpswiCNA__&Key-Pair-Id=KVTP0A1DKRTAX\r\n",
      "Resolving cdn-lfs.huggingface.co (cdn-lfs.huggingface.co)... 18.244.202.14, 18.244.202.105, 18.244.202.38, ...\r\n",
      "Connecting to cdn-lfs.huggingface.co (cdn-lfs.huggingface.co)|18.244.202.14|:443... connected.\r\n",
      "HTTP request sent, awaiting response... 200 OK\r\n",
      "Length: 862182753 (822M) [application/zip]\r\n",
      "Saving to: ‘glove.6B.zip’\r\n",
      "\r\n",
      "glove.6B.zip        100%[===================>] 822.24M   244MB/s    in 3.4s    \r\n",
      "\r\n",
      "2022-12-21 07:50:36 (240 MB/s) - ‘glove.6B.zip’ saved [862182753/862182753]\r\n",
      "\r\n"
     ]
    }
   ],
   "source": [
    "#download glove data for embedding\n",
    "!wget https://huggingface.co/stanfordnlp/glove/resolve/main/glove.6B.zip"
   ]
  },
  {
   "cell_type": "code",
   "execution_count": 12,
   "id": "3ee15c4a",
   "metadata": {
    "execution": {
     "iopub.execute_input": "2022-12-21T07:50:36.801185Z",
     "iopub.status.busy": "2022-12-21T07:50:36.800740Z",
     "iopub.status.idle": "2022-12-21T07:50:57.742038Z",
     "shell.execute_reply": "2022-12-21T07:50:57.740584Z"
    },
    "papermill": {
     "duration": 20.958879,
     "end_time": "2022-12-21T07:50:57.745239",
     "exception": false,
     "start_time": "2022-12-21T07:50:36.786360",
     "status": "completed"
    },
    "tags": []
   },
   "outputs": [],
   "source": [
    "#unzip glove data\n",
    "with zipfile.ZipFile(\"/kaggle/working/glove.6B.zip\",\"r\") as zip_ref:\n",
    "    zip_ref.extractall(\"/kaggle/working/data/\")"
   ]
  },
  {
   "cell_type": "code",
   "execution_count": 13,
   "id": "b10feeea",
   "metadata": {
    "execution": {
     "iopub.execute_input": "2022-12-21T07:50:57.772415Z",
     "iopub.status.busy": "2022-12-21T07:50:57.771919Z",
     "iopub.status.idle": "2022-12-21T07:50:57.779544Z",
     "shell.execute_reply": "2022-12-21T07:50:57.778582Z"
    },
    "papermill": {
     "duration": 0.023885,
     "end_time": "2022-12-21T07:50:57.782341",
     "exception": false,
     "start_time": "2022-12-21T07:50:57.758456",
     "status": "completed"
    },
    "tags": []
   },
   "outputs": [
    {
     "data": {
      "text/plain": [
       "['glove.6B.100d.txt',\n",
       " 'glove.6B.300d.txt',\n",
       " 'glove.6B.50d.txt',\n",
       " 'glove.6B.200d.txt']"
      ]
     },
     "execution_count": 13,
     "metadata": {},
     "output_type": "execute_result"
    }
   ],
   "source": [
    "os.listdir(\"/kaggle/working/data/\")"
   ]
  },
  {
   "cell_type": "code",
   "execution_count": 14,
   "id": "da418958",
   "metadata": {
    "execution": {
     "iopub.execute_input": "2022-12-21T07:50:57.809101Z",
     "iopub.status.busy": "2022-12-21T07:50:57.808115Z",
     "iopub.status.idle": "2022-12-21T07:51:06.963356Z",
     "shell.execute_reply": "2022-12-21T07:51:06.962039Z"
    },
    "papermill": {
     "duration": 9.171651,
     "end_time": "2022-12-21T07:51:06.966450",
     "exception": false,
     "start_time": "2022-12-21T07:50:57.794799",
     "status": "completed"
    },
    "tags": []
   },
   "outputs": [],
   "source": [
    "# Define path to file containing the embeddings\n",
    "GLOVE_FILE = '/kaggle/working/data/glove.6B.100d.txt'\n",
    "\n",
    "# Initialize an empty embeddings index dictionary\n",
    "GLOVE_EMBEDDINGS = {}\n",
    "\n",
    "# Read file and fill GLOVE_EMBEDDINGS with its contents\n",
    "with open(GLOVE_FILE) as f:\n",
    "    for line in f:\n",
    "        values = line.split()\n",
    "        word = values[0]\n",
    "        coefs = np.asarray(values[1:], dtype='float32')\n",
    "        GLOVE_EMBEDDINGS[word] = coefs"
   ]
  },
  {
   "cell_type": "code",
   "execution_count": 15,
   "id": "e0375deb",
   "metadata": {
    "execution": {
     "iopub.execute_input": "2022-12-21T07:51:06.993745Z",
     "iopub.status.busy": "2022-12-21T07:51:06.993315Z",
     "iopub.status.idle": "2022-12-21T07:51:07.001759Z",
     "shell.execute_reply": "2022-12-21T07:51:07.000344Z"
    },
    "papermill": {
     "duration": 0.025938,
     "end_time": "2022-12-21T07:51:07.005344",
     "exception": false,
     "start_time": "2022-12-21T07:51:06.979406",
     "status": "completed"
    },
    "tags": []
   },
   "outputs": [
    {
     "name": "stdout",
     "output_type": "stream",
     "text": [
      "Vector representation of word dog looks like this:\n",
      "\n",
      "[ 0.30817    0.30938    0.52803   -0.92543   -0.73671    0.63475\n",
      "  0.44197    0.10262   -0.09142   -0.56607   -0.5327     0.2013\n",
      "  0.7704    -0.13983    0.13727    1.1128     0.89301   -0.17869\n",
      " -0.0019722  0.57289    0.59479    0.50428   -0.28991   -1.3491\n",
      "  0.42756    1.2748    -1.1613    -0.41084    0.042804   0.54866\n",
      "  0.18897    0.3759     0.58035    0.66975    0.81156    0.93864\n",
      " -0.51005   -0.070079   0.82819   -0.35346    0.21086   -0.24412\n",
      " -0.16554   -0.78358   -0.48482    0.38968   -0.86356   -0.016391\n",
      "  0.31984   -0.49246   -0.069363   0.018869  -0.098286   1.3126\n",
      " -0.12116   -1.2399    -0.091429   0.35294    0.64645    0.089642\n",
      "  0.70294    1.1244     0.38639    0.52084    0.98787    0.79952\n",
      " -0.34625    0.14095    0.80167    0.20987   -0.86007   -0.15308\n",
      "  0.074523   0.40816    0.019208   0.51587   -0.34428   -0.24525\n",
      " -0.77984    0.27425    0.22418    0.20164    0.017431  -0.014697\n",
      " -1.0235    -0.39695   -0.0056188  0.30569    0.31748    0.021404\n",
      "  0.11837   -0.11319    0.42456    0.53405   -0.16717   -0.27185\n",
      " -0.6255     0.12883    0.62529   -0.52086  ]\n"
     ]
    }
   ],
   "source": [
    "# check if embeddings are implemented\n",
    "test_word = 'dog'\n",
    "\n",
    "test_vector = GLOVE_EMBEDDINGS[test_word]\n",
    "\n",
    "print(f\"Vector representation of word {test_word} looks like this:\\n\\n{test_vector}\")\n"
   ]
  },
  {
   "cell_type": "code",
   "execution_count": 16,
   "id": "76f5706a",
   "metadata": {
    "execution": {
     "iopub.execute_input": "2022-12-21T07:51:07.031506Z",
     "iopub.status.busy": "2022-12-21T07:51:07.031102Z",
     "iopub.status.idle": "2022-12-21T07:51:07.082646Z",
     "shell.execute_reply": "2022-12-21T07:51:07.081188Z"
    },
    "papermill": {
     "duration": 0.067831,
     "end_time": "2022-12-21T07:51:07.085628",
     "exception": false,
     "start_time": "2022-12-21T07:51:07.017797",
     "status": "completed"
    },
    "tags": []
   },
   "outputs": [],
   "source": [
    "EMBEDDING_DIM = 100\n",
    "\n",
    "# Initialize an empty numpy array with the appropriate size\n",
    "EMBEDDINGS_MATRIX = np.zeros((VOCAB_SIZE+1, EMBEDDING_DIM))\n",
    "\n",
    "# Iterate all of the words in the vocabulary and if the vector representation for \n",
    "# each word exists within GloVe's representations, save it in the EMBEDDINGS_MATRIX array\n",
    "for word, i in word_index.items():\n",
    "    embedding_vector = GLOVE_EMBEDDINGS.get(word)\n",
    "    if embedding_vector is not None:\n",
    "        EMBEDDINGS_MATRIX[i] = embedding_vector"
   ]
  },
  {
   "cell_type": "markdown",
   "id": "9e3bd0d2",
   "metadata": {
    "papermill": {
     "duration": 0.011525,
     "end_time": "2022-12-21T07:51:07.109294",
     "exception": false,
     "start_time": "2022-12-21T07:51:07.097769",
     "status": "completed"
    },
    "tags": []
   },
   "source": [
    "# **Model Building & Training**"
   ]
  },
  {
   "cell_type": "code",
   "execution_count": 17,
   "id": "1e082f2c",
   "metadata": {
    "execution": {
     "iopub.execute_input": "2022-12-21T07:51:07.136390Z",
     "iopub.status.busy": "2022-12-21T07:51:07.135981Z",
     "iopub.status.idle": "2022-12-21T07:51:07.146033Z",
     "shell.execute_reply": "2022-12-21T07:51:07.144970Z"
    },
    "papermill": {
     "duration": 0.0273,
     "end_time": "2022-12-21T07:51:07.148855",
     "exception": false,
     "start_time": "2022-12-21T07:51:07.121555",
     "status": "completed"
    },
    "tags": []
   },
   "outputs": [],
   "source": [
    "def create_model(vocab_size, embedding_dim, maxlen, embeddings_matrix):\n",
    "    \"\"\"\n",
    "    \n",
    "    Args:\n",
    "        vocab_size (int): size of the vocabulary for the Embedding layer input\n",
    "        embedding_dim (int): dimensionality of the Embedding layer output\n",
    "        maxlen (int): length of the input sequences\n",
    "        embeddings_matrix (array): predefined weights of the embeddings\n",
    "    \n",
    "    Returns:\n",
    "        model (tf.keras Model): classifier model\n",
    "    \"\"\"\n",
    "    \n",
    "    model = tf.keras.Sequential([ \n",
    "        tf.keras.layers.Embedding(vocab_size+1, embedding_dim, input_length=maxlen, weights=[embeddings_matrix], trainable=False),\n",
    "        #tf.keras.layers.Conv1D(filters = 512,kernel_size= 3,activation='relu'), \n",
    "        #tf.keras.layers.SpatialDropout1D(0.2),\n",
    "        #tf.keras.layers.MaxPool1D(),\n",
    "        tf.keras.layers.Bidirectional(tf.keras.layers.LSTM(64,return_sequences=True)),\n",
    "        tf.keras.layers.Bidirectional(tf.keras.layers.LSTM(64)),\n",
    "        tf.keras.layers.Dense(256, activation=\"relu\"),\n",
    "        tf.keras.layers.Dense(2, activation='softmax'),        \n",
    "    ])\n",
    "    \n",
    "    optimizer = tf.keras.optimizers.Adam(beta_1=0.9, beta_2=0.999)\n",
    "    #optimizer = tf.keras.optimizers.SGD(momentum=0.9)\n",
    "    \n",
    "    model.compile(loss='categorical_crossentropy',\n",
    "                  optimizer=optimizer,\n",
    "                  metrics=['accuracy']) \n",
    "\n",
    "    return model"
   ]
  },
  {
   "cell_type": "code",
   "execution_count": 18,
   "id": "b6d17aca",
   "metadata": {
    "execution": {
     "iopub.execute_input": "2022-12-21T07:51:07.176080Z",
     "iopub.status.busy": "2022-12-21T07:51:07.175482Z",
     "iopub.status.idle": "2022-12-21T07:51:08.772615Z",
     "shell.execute_reply": "2022-12-21T07:51:08.771021Z"
    },
    "papermill": {
     "duration": 1.614049,
     "end_time": "2022-12-21T07:51:08.775855",
     "exception": false,
     "start_time": "2022-12-21T07:51:07.161806",
     "status": "completed"
    },
    "tags": []
   },
   "outputs": [
    {
     "name": "stderr",
     "output_type": "stream",
     "text": [
      "2022-12-21 07:51:07.232651: I tensorflow/core/common_runtime/process_util.cc:146] Creating new thread pool with default inter op setting: 2. Tune using inter_op_parallelism_threads for best performance.\n"
     ]
    },
    {
     "name": "stdout",
     "output_type": "stream",
     "text": [
      "Model: \"sequential\"\n",
      "_________________________________________________________________\n",
      "Layer (type)                 Output Shape              Param #   \n",
      "=================================================================\n",
      "embedding (Embedding)        (None, 38, 100)           2134800   \n",
      "_________________________________________________________________\n",
      "bidirectional (Bidirectional (None, 38, 128)           84480     \n",
      "_________________________________________________________________\n",
      "bidirectional_1 (Bidirection (None, 128)               98816     \n",
      "_________________________________________________________________\n",
      "dense (Dense)                (None, 256)               33024     \n",
      "_________________________________________________________________\n",
      "dense_1 (Dense)              (None, 2)                 514       \n",
      "=================================================================\n",
      "Total params: 2,351,634\n",
      "Trainable params: 216,834\n",
      "Non-trainable params: 2,134,800\n",
      "_________________________________________________________________\n"
     ]
    }
   ],
   "source": [
    "lr_schedule = tf.keras.callbacks.LearningRateScheduler(lambda epoch: 1e-5 * 5 * 10**(epoch / 20))\n",
    "\n",
    "early_stopping = tf.keras.callbacks.EarlyStopping(patience=3,restore_best_weights=True)\n",
    "\n",
    "# Create untrained model\n",
    "model = create_model(VOCAB_SIZE, EMBEDDING_DIM, MAXLEN, EMBEDDINGS_MATRIX)\n",
    "\n",
    "model.summary()"
   ]
  },
  {
   "cell_type": "code",
   "execution_count": 19,
   "id": "d00364ae",
   "metadata": {
    "execution": {
     "iopub.execute_input": "2022-12-21T07:51:08.803204Z",
     "iopub.status.busy": "2022-12-21T07:51:08.802719Z",
     "iopub.status.idle": "2022-12-21T07:51:59.311027Z",
     "shell.execute_reply": "2022-12-21T07:51:59.309846Z"
    },
    "papermill": {
     "duration": 50.525707,
     "end_time": "2022-12-21T07:51:59.314194",
     "exception": false,
     "start_time": "2022-12-21T07:51:08.788487",
     "status": "completed"
    },
    "tags": []
   },
   "outputs": [
    {
     "name": "stdout",
     "output_type": "stream",
     "text": [
      "Epoch 1/10\n"
     ]
    },
    {
     "name": "stderr",
     "output_type": "stream",
     "text": [
      "2022-12-21 07:51:08.876552: I tensorflow/compiler/mlir/mlir_graph_optimization_pass.cc:185] None of the MLIR Optimization Passes are enabled (registered 2)\n"
     ]
    },
    {
     "name": "stdout",
     "output_type": "stream",
     "text": [
      "48/48 [==============================] - 17s 203ms/step - loss: 0.5183 - accuracy: 0.7509 - val_loss: 0.4444 - val_accuracy: 0.8063\n",
      "Epoch 2/10\n",
      "48/48 [==============================] - 8s 168ms/step - loss: 0.4411 - accuracy: 0.8005 - val_loss: 0.4202 - val_accuracy: 0.8109\n",
      "Epoch 3/10\n",
      "48/48 [==============================] - 8s 168ms/step - loss: 0.4177 - accuracy: 0.8164 - val_loss: 0.4348 - val_accuracy: 0.8109\n",
      "Epoch 4/10\n",
      "48/48 [==============================] - 9s 169ms/step - loss: 0.4015 - accuracy: 0.8241 - val_loss: 0.4352 - val_accuracy: 0.8011\n",
      "Epoch 5/10\n",
      "48/48 [==============================] - 8s 173ms/step - loss: 0.3924 - accuracy: 0.8274 - val_loss: 0.4265 - val_accuracy: 0.8089\n"
     ]
    }
   ],
   "source": [
    "# Train the model and save the training history\n",
    "tf.random.set_seed(1234)\n",
    "history = model.fit(train_pad_trunc_seq, cat_labels, \n",
    "                    epochs=10,  \n",
    "                    batch_size = 128,\n",
    "                    callbacks = [early_stopping],\n",
    "                    validation_split = 0.2)"
   ]
  },
  {
   "cell_type": "code",
   "execution_count": 20,
   "id": "92f83fe4",
   "metadata": {
    "execution": {
     "iopub.execute_input": "2022-12-21T07:51:59.374337Z",
     "iopub.status.busy": "2022-12-21T07:51:59.373296Z",
     "iopub.status.idle": "2022-12-21T07:51:59.796462Z",
     "shell.execute_reply": "2022-12-21T07:51:59.795079Z"
    },
    "papermill": {
     "duration": 0.455908,
     "end_time": "2022-12-21T07:51:59.799269",
     "exception": false,
     "start_time": "2022-12-21T07:51:59.343361",
     "status": "completed"
    },
    "tags": []
   },
   "outputs": [
    {
     "data": {
      "image/png": "[encoded data removed]",
      "text/plain": [
       "<Figure size 432x288 with 1 Axes>"
      ]
     },
     "metadata": {
      "needs_background": "light"
     },
     "output_type": "display_data"
    },
    {
     "data": {
      "image/png": "[encoded data removed]",
      "text/plain": [
       "<Figure size 432x288 with 1 Axes>"
      ]
     },
     "metadata": {
      "needs_background": "light"
     },
     "output_type": "display_data"
    }
   ],
   "source": [
    "# Retrieve a list of list results on training and test data\n",
    "# sets for each training epoch\n",
    "acc=history.history['accuracy']\n",
    "val_acc=history.history['val_accuracy']\n",
    "loss=history.history['loss']\n",
    "val_loss=history.history['val_loss']\n",
    "\n",
    "epochs=range(len(acc)) # Get number of epochs\n",
    "\n",
    "# Plot training and validation accuracy per epoch\n",
    "plt.plot(epochs, acc, 'r', \"Training Accuracy\")\n",
    "plt.plot(epochs, val_acc, 'b', \"Validation Accuracy\")\n",
    "plt.title('Training and validation accuracy')\n",
    "plt.show()\n",
    "\n",
    "# Plot training and validation loss per epoch\n",
    "plt.plot(epochs, loss, 'r', \"Training Loss\")\n",
    "plt.plot(epochs, val_loss, 'b', \"Validation Loss\")\n",
    "plt.show()"
   ]
  },
  {
   "cell_type": "markdown",
   "id": "61b832ee",
   "metadata": {
    "papermill": {
     "duration": 0.027873,
     "end_time": "2022-12-21T07:51:59.855426",
     "exception": false,
     "start_time": "2022-12-21T07:51:59.827553",
     "status": "completed"
    },
    "tags": []
   },
   "source": [
    "# **Prediction on Test data**"
   ]
  },
  {
   "cell_type": "markdown",
   "id": "74bf0c65",
   "metadata": {
    "papermill": {
     "duration": 0.02791,
     "end_time": "2022-12-21T07:51:59.913650",
     "exception": false,
     "start_time": "2022-12-21T07:51:59.885740",
     "status": "completed"
    },
    "tags": []
   },
   "source": [
    "**Test data processing**"
   ]
  },
  {
   "cell_type": "code",
   "execution_count": 21,
   "id": "7009545b",
   "metadata": {
    "execution": {
     "iopub.execute_input": "2022-12-21T07:51:59.975498Z",
     "iopub.status.busy": "2022-12-21T07:51:59.974846Z",
     "iopub.status.idle": "2022-12-21T07:52:00.001063Z",
     "shell.execute_reply": "2022-12-21T07:51:59.999868Z"
    },
    "papermill": {
     "duration": 0.062003,
     "end_time": "2022-12-21T07:52:00.003842",
     "exception": false,
     "start_time": "2022-12-21T07:51:59.941839",
     "status": "completed"
    },
    "tags": []
   },
   "outputs": [],
   "source": [
    "TESTING_DIR = \"/kaggle/input/nlp-getting-started/test.csv\"\n",
    "\n",
    "testing_data = pd.read_csv(TESTING_DIR)"
   ]
  },
  {
   "cell_type": "code",
   "execution_count": 22,
   "id": "a50eb60b",
   "metadata": {
    "execution": {
     "iopub.execute_input": "2022-12-21T07:52:00.062357Z",
     "iopub.status.busy": "2022-12-21T07:52:00.061925Z",
     "iopub.status.idle": "2022-12-21T07:52:00.643437Z",
     "shell.execute_reply": "2022-12-21T07:52:00.642282Z"
    },
    "papermill": {
     "duration": 0.613171,
     "end_time": "2022-12-21T07:52:00.646127",
     "exception": false,
     "start_time": "2022-12-21T07:52:00.032956",
     "status": "completed"
    },
    "tags": []
   },
   "outputs": [],
   "source": [
    "# apply tweet tokenizer first\n",
    "texts = testing_data.text.apply(tk.tokenize)\n",
    "# lemmatize and lower the texts\n",
    "texts2 = [[lemmer.lemmatize(w).lower() for w in sentence] for sentence in texts]\n",
    "test_sentences = [' '.join(txt) for txt in texts2]"
   ]
  },
  {
   "cell_type": "code",
   "execution_count": 23,
   "id": "b39c8c56",
   "metadata": {
    "execution": {
     "iopub.execute_input": "2022-12-21T07:52:00.704608Z",
     "iopub.status.busy": "2022-12-21T07:52:00.703422Z",
     "iopub.status.idle": "2022-12-21T07:52:00.790061Z",
     "shell.execute_reply": "2022-12-21T07:52:00.788775Z"
    },
    "papermill": {
     "duration": 0.118365,
     "end_time": "2022-12-21T07:52:00.792647",
     "exception": false,
     "start_time": "2022-12-21T07:52:00.674282",
     "status": "completed"
    },
    "tags": []
   },
   "outputs": [
    {
     "name": "stdout",
     "output_type": "stream",
     "text": [
      "test_pad_trunc_seq.shape = (3263, 38)\n"
     ]
    }
   ],
   "source": [
    "# convert sentences to sequences\n",
    "test_sequences = tokenizer.texts_to_sequences(test_sentences)\n",
    "\n",
    "# pad the sequences using the correct padding, truncating and maxlen\n",
    "test_pad_trunc_seq = pad_sequences(test_sequences, maxlen=MAXLEN, padding=PADDING)\n",
    "\n",
    "print(f'test_pad_trunc_seq.shape = {test_pad_trunc_seq.shape}')"
   ]
  },
  {
   "cell_type": "markdown",
   "id": "3d9de3f0",
   "metadata": {
    "papermill": {
     "duration": 0.028416,
     "end_time": "2022-12-21T07:52:00.849262",
     "exception": false,
     "start_time": "2022-12-21T07:52:00.820846",
     "status": "completed"
    },
    "tags": []
   },
   "source": [
    "**Predict test data**"
   ]
  },
  {
   "cell_type": "code",
   "execution_count": 24,
   "id": "423d8024",
   "metadata": {
    "execution": {
     "iopub.execute_input": "2022-12-21T07:52:00.908453Z",
     "iopub.status.busy": "2022-12-21T07:52:00.908019Z",
     "iopub.status.idle": "2022-12-21T07:52:05.586729Z",
     "shell.execute_reply": "2022-12-21T07:52:05.585828Z"
    },
    "papermill": {
     "duration": 4.7123,
     "end_time": "2022-12-21T07:52:05.589662",
     "exception": false,
     "start_time": "2022-12-21T07:52:00.877362",
     "status": "completed"
    },
    "tags": []
   },
   "outputs": [],
   "source": [
    "# use trained model to predict on test data \n",
    "testing_labels = model.predict(test_pad_trunc_seq)"
   ]
  },
  {
   "cell_type": "markdown",
   "id": "b16a8b89",
   "metadata": {
    "papermill": {
     "duration": 0.029876,
     "end_time": "2022-12-21T07:52:05.649345",
     "exception": false,
     "start_time": "2022-12-21T07:52:05.619469",
     "status": "completed"
    },
    "tags": []
   },
   "source": [
    "**View prediction**"
   ]
  },
  {
   "cell_type": "code",
   "execution_count": 25,
   "id": "0e0f436d",
   "metadata": {
    "execution": {
     "iopub.execute_input": "2022-12-21T07:52:05.708296Z",
     "iopub.status.busy": "2022-12-21T07:52:05.706919Z",
     "iopub.status.idle": "2022-12-21T07:52:05.713871Z",
     "shell.execute_reply": "2022-12-21T07:52:05.712640Z"
    },
    "papermill": {
     "duration": 0.040048,
     "end_time": "2022-12-21T07:52:05.717462",
     "exception": false,
     "start_time": "2022-12-21T07:52:05.677414",
     "status": "completed"
    },
    "tags": []
   },
   "outputs": [
    {
     "name": "stdout",
     "output_type": "stream",
     "text": [
      "[[0.14090197 0.8590981 ]\n",
      " [0.39156336 0.6084367 ]\n",
      " [0.3095157  0.6904843 ]\n",
      " ...\n",
      " [0.19579841 0.80420166]\n",
      " [0.38406026 0.61593974]\n",
      " [0.6513729  0.3486271 ]]\n"
     ]
    }
   ],
   "source": [
    "print(testing_labels)"
   ]
  },
  {
   "cell_type": "code",
   "execution_count": 26,
   "id": "6d0d9b86",
   "metadata": {
    "execution": {
     "iopub.execute_input": "2022-12-21T07:52:05.777972Z",
     "iopub.status.busy": "2022-12-21T07:52:05.777130Z",
     "iopub.status.idle": "2022-12-21T07:52:05.795762Z",
     "shell.execute_reply": "2022-12-21T07:52:05.794787Z"
    },
    "papermill": {
     "duration": 0.050534,
     "end_time": "2022-12-21T07:52:05.798537",
     "exception": false,
     "start_time": "2022-12-21T07:52:05.748003",
     "status": "completed"
    },
    "tags": []
   },
   "outputs": [],
   "source": [
    "test = pd.read_csv(TESTING_DIR)"
   ]
  },
  {
   "cell_type": "code",
   "execution_count": 27,
   "id": "6d11bde5",
   "metadata": {
    "execution": {
     "iopub.execute_input": "2022-12-21T07:52:05.858191Z",
     "iopub.status.busy": "2022-12-21T07:52:05.857396Z",
     "iopub.status.idle": "2022-12-21T07:52:05.863200Z",
     "shell.execute_reply": "2022-12-21T07:52:05.862337Z"
    },
    "papermill": {
     "duration": 0.038099,
     "end_time": "2022-12-21T07:52:05.865732",
     "exception": false,
     "start_time": "2022-12-21T07:52:05.827633",
     "status": "completed"
    },
    "tags": []
   },
   "outputs": [],
   "source": [
    "#turn categorical results into 0/1\n",
    "test_labels = np.argmax(testing_labels, axis=1)\n",
    "\n",
    "#adding the 'target' column for prediction results\n",
    "test['target'] = test_labels"
   ]
  },
  {
   "cell_type": "code",
   "execution_count": 28,
   "id": "775e92da",
   "metadata": {
    "execution": {
     "iopub.execute_input": "2022-12-21T07:52:05.925756Z",
     "iopub.status.busy": "2022-12-21T07:52:05.925106Z",
     "iopub.status.idle": "2022-12-21T07:52:05.939357Z",
     "shell.execute_reply": "2022-12-21T07:52:05.938369Z"
    },
    "papermill": {
     "duration": 0.047864,
     "end_time": "2022-12-21T07:52:05.942163",
     "exception": false,
     "start_time": "2022-12-21T07:52:05.894299",
     "status": "completed"
    },
    "tags": []
   },
   "outputs": [
    {
     "data": {
      "text/html": [
       "<div>\n",
       "<style scoped>\n",
       "    .dataframe tbody tr th:only-of-type {\n",
       "        vertical-align: middle;\n",
       "    }\n",
       "\n",
       "    .dataframe tbody tr th {\n",
       "        vertical-align: top;\n",
       "    }\n",
       "\n",
       "    .dataframe thead th {\n",
       "        text-align: right;\n",
       "    }\n",
       "</style>\n",
       "<table border=\"1\" class=\"dataframe\">\n",
       "  <thead>\n",
       "    <tr style=\"text-align: right;\">\n",
       "      <th></th>\n",
       "      <th>id</th>\n",
       "      <th>keyword</th>\n",
       "      <th>location</th>\n",
       "      <th>text</th>\n",
       "      <th>target</th>\n",
       "    </tr>\n",
       "  </thead>\n",
       "  <tbody>\n",
       "    <tr>\n",
       "      <th>0</th>\n",
       "      <td>0</td>\n",
       "      <td>NaN</td>\n",
       "      <td>NaN</td>\n",
       "      <td>Just happened a terrible car crash</td>\n",
       "      <td>1</td>\n",
       "    </tr>\n",
       "    <tr>\n",
       "      <th>1</th>\n",
       "      <td>2</td>\n",
       "      <td>NaN</td>\n",
       "      <td>NaN</td>\n",
       "      <td>Heard about #earthquake is different cities, s...</td>\n",
       "      <td>1</td>\n",
       "    </tr>\n",
       "    <tr>\n",
       "      <th>2</th>\n",
       "      <td>3</td>\n",
       "      <td>NaN</td>\n",
       "      <td>NaN</td>\n",
       "      <td>there is a forest fire at spot pond, geese are...</td>\n",
       "      <td>1</td>\n",
       "    </tr>\n",
       "    <tr>\n",
       "      <th>3</th>\n",
       "      <td>9</td>\n",
       "      <td>NaN</td>\n",
       "      <td>NaN</td>\n",
       "      <td>Apocalypse lighting. #Spokane #wildfires</td>\n",
       "      <td>1</td>\n",
       "    </tr>\n",
       "    <tr>\n",
       "      <th>4</th>\n",
       "      <td>11</td>\n",
       "      <td>NaN</td>\n",
       "      <td>NaN</td>\n",
       "      <td>Typhoon Soudelor kills 28 in China and Taiwan</td>\n",
       "      <td>1</td>\n",
       "    </tr>\n",
       "    <tr>\n",
       "      <th>...</th>\n",
       "      <td>...</td>\n",
       "      <td>...</td>\n",
       "      <td>...</td>\n",
       "      <td>...</td>\n",
       "      <td>...</td>\n",
       "    </tr>\n",
       "    <tr>\n",
       "      <th>3258</th>\n",
       "      <td>10861</td>\n",
       "      <td>NaN</td>\n",
       "      <td>NaN</td>\n",
       "      <td>EARTHQUAKE SAFETY LOS ANGELES ÛÒ SAFETY FASTE...</td>\n",
       "      <td>1</td>\n",
       "    </tr>\n",
       "    <tr>\n",
       "      <th>3259</th>\n",
       "      <td>10865</td>\n",
       "      <td>NaN</td>\n",
       "      <td>NaN</td>\n",
       "      <td>Storm in RI worse than last hurricane. My city...</td>\n",
       "      <td>1</td>\n",
       "    </tr>\n",
       "    <tr>\n",
       "      <th>3260</th>\n",
       "      <td>10868</td>\n",
       "      <td>NaN</td>\n",
       "      <td>NaN</td>\n",
       "      <td>Green Line derailment in Chicago http://t.co/U...</td>\n",
       "      <td>1</td>\n",
       "    </tr>\n",
       "    <tr>\n",
       "      <th>3261</th>\n",
       "      <td>10874</td>\n",
       "      <td>NaN</td>\n",
       "      <td>NaN</td>\n",
       "      <td>MEG issues Hazardous Weather Outlook (HWO) htt...</td>\n",
       "      <td>1</td>\n",
       "    </tr>\n",
       "    <tr>\n",
       "      <th>3262</th>\n",
       "      <td>10875</td>\n",
       "      <td>NaN</td>\n",
       "      <td>NaN</td>\n",
       "      <td>#CityofCalgary has activated its Municipal Eme...</td>\n",
       "      <td>0</td>\n",
       "    </tr>\n",
       "  </tbody>\n",
       "</table>\n",
       "<p>3263 rows × 5 columns</p>\n",
       "</div>"
      ],
      "text/plain": [
       "         id keyword location  \\\n",
       "0         0     NaN      NaN   \n",
       "1         2     NaN      NaN   \n",
       "2         3     NaN      NaN   \n",
       "3         9     NaN      NaN   \n",
       "4        11     NaN      NaN   \n",
       "...     ...     ...      ...   \n",
       "3258  10861     NaN      NaN   \n",
       "3259  10865     NaN      NaN   \n",
       "3260  10868     NaN      NaN   \n",
       "3261  10874     NaN      NaN   \n",
       "3262  10875     NaN      NaN   \n",
       "\n",
       "                                                   text  target  \n",
       "0                    Just happened a terrible car crash       1  \n",
       "1     Heard about #earthquake is different cities, s...       1  \n",
       "2     there is a forest fire at spot pond, geese are...       1  \n",
       "3              Apocalypse lighting. #Spokane #wildfires       1  \n",
       "4         Typhoon Soudelor kills 28 in China and Taiwan       1  \n",
       "...                                                 ...     ...  \n",
       "3258  EARTHQUAKE SAFETY LOS ANGELES ÛÒ SAFETY FASTE...       1  \n",
       "3259  Storm in RI worse than last hurricane. My city...       1  \n",
       "3260  Green Line derailment in Chicago http://t.co/U...       1  \n",
       "3261  MEG issues Hazardous Weather Outlook (HWO) htt...       1  \n",
       "3262  #CityofCalgary has activated its Municipal Eme...       0  \n",
       "\n",
       "[3263 rows x 5 columns]"
      ]
     },
     "execution_count": 28,
     "metadata": {},
     "output_type": "execute_result"
    }
   ],
   "source": [
    "# check overall predictions\n",
    "test"
   ]
  },
  {
   "cell_type": "code",
   "execution_count": 29,
   "id": "013457c5",
   "metadata": {
    "execution": {
     "iopub.execute_input": "2022-12-21T07:52:06.000346Z",
     "iopub.status.busy": "2022-12-21T07:52:05.999938Z",
     "iopub.status.idle": "2022-12-21T07:52:06.020072Z",
     "shell.execute_reply": "2022-12-21T07:52:06.018748Z"
    },
    "papermill": {
     "duration": 0.052639,
     "end_time": "2022-12-21T07:52:06.022905",
     "exception": false,
     "start_time": "2022-12-21T07:52:05.970266",
     "status": "completed"
    },
    "tags": []
   },
   "outputs": [
    {
     "data": {
      "text/html": [
       "<div>\n",
       "<style scoped>\n",
       "    .dataframe tbody tr th:only-of-type {\n",
       "        vertical-align: middle;\n",
       "    }\n",
       "\n",
       "    .dataframe tbody tr th {\n",
       "        vertical-align: top;\n",
       "    }\n",
       "\n",
       "    .dataframe thead th {\n",
       "        text-align: right;\n",
       "    }\n",
       "</style>\n",
       "<table border=\"1\" class=\"dataframe\">\n",
       "  <thead>\n",
       "    <tr style=\"text-align: right;\">\n",
       "      <th></th>\n",
       "      <th>id</th>\n",
       "      <th>keyword</th>\n",
       "      <th>location</th>\n",
       "      <th>text</th>\n",
       "      <th>target</th>\n",
       "    </tr>\n",
       "  </thead>\n",
       "  <tbody>\n",
       "    <tr>\n",
       "      <th>0</th>\n",
       "      <td>0</td>\n",
       "      <td>NaN</td>\n",
       "      <td>NaN</td>\n",
       "      <td>Just happened a terrible car crash</td>\n",
       "      <td>1</td>\n",
       "    </tr>\n",
       "    <tr>\n",
       "      <th>1</th>\n",
       "      <td>2</td>\n",
       "      <td>NaN</td>\n",
       "      <td>NaN</td>\n",
       "      <td>Heard about #earthquake is different cities, s...</td>\n",
       "      <td>1</td>\n",
       "    </tr>\n",
       "    <tr>\n",
       "      <th>2</th>\n",
       "      <td>3</td>\n",
       "      <td>NaN</td>\n",
       "      <td>NaN</td>\n",
       "      <td>there is a forest fire at spot pond, geese are...</td>\n",
       "      <td>1</td>\n",
       "    </tr>\n",
       "    <tr>\n",
       "      <th>3</th>\n",
       "      <td>9</td>\n",
       "      <td>NaN</td>\n",
       "      <td>NaN</td>\n",
       "      <td>Apocalypse lighting. #Spokane #wildfires</td>\n",
       "      <td>1</td>\n",
       "    </tr>\n",
       "    <tr>\n",
       "      <th>4</th>\n",
       "      <td>11</td>\n",
       "      <td>NaN</td>\n",
       "      <td>NaN</td>\n",
       "      <td>Typhoon Soudelor kills 28 in China and Taiwan</td>\n",
       "      <td>1</td>\n",
       "    </tr>\n",
       "    <tr>\n",
       "      <th>...</th>\n",
       "      <td>...</td>\n",
       "      <td>...</td>\n",
       "      <td>...</td>\n",
       "      <td>...</td>\n",
       "      <td>...</td>\n",
       "    </tr>\n",
       "    <tr>\n",
       "      <th>3257</th>\n",
       "      <td>10858</td>\n",
       "      <td>NaN</td>\n",
       "      <td>NaN</td>\n",
       "      <td>The death toll in a #IS-suicide car bombing on...</td>\n",
       "      <td>1</td>\n",
       "    </tr>\n",
       "    <tr>\n",
       "      <th>3258</th>\n",
       "      <td>10861</td>\n",
       "      <td>NaN</td>\n",
       "      <td>NaN</td>\n",
       "      <td>EARTHQUAKE SAFETY LOS ANGELES ÛÒ SAFETY FASTE...</td>\n",
       "      <td>1</td>\n",
       "    </tr>\n",
       "    <tr>\n",
       "      <th>3259</th>\n",
       "      <td>10865</td>\n",
       "      <td>NaN</td>\n",
       "      <td>NaN</td>\n",
       "      <td>Storm in RI worse than last hurricane. My city...</td>\n",
       "      <td>1</td>\n",
       "    </tr>\n",
       "    <tr>\n",
       "      <th>3260</th>\n",
       "      <td>10868</td>\n",
       "      <td>NaN</td>\n",
       "      <td>NaN</td>\n",
       "      <td>Green Line derailment in Chicago http://t.co/U...</td>\n",
       "      <td>1</td>\n",
       "    </tr>\n",
       "    <tr>\n",
       "      <th>3261</th>\n",
       "      <td>10874</td>\n",
       "      <td>NaN</td>\n",
       "      <td>NaN</td>\n",
       "      <td>MEG issues Hazardous Weather Outlook (HWO) htt...</td>\n",
       "      <td>1</td>\n",
       "    </tr>\n",
       "  </tbody>\n",
       "</table>\n",
       "<p>1136 rows × 5 columns</p>\n",
       "</div>"
      ],
      "text/plain": [
       "         id keyword location  \\\n",
       "0         0     NaN      NaN   \n",
       "1         2     NaN      NaN   \n",
       "2         3     NaN      NaN   \n",
       "3         9     NaN      NaN   \n",
       "4        11     NaN      NaN   \n",
       "...     ...     ...      ...   \n",
       "3257  10858     NaN      NaN   \n",
       "3258  10861     NaN      NaN   \n",
       "3259  10865     NaN      NaN   \n",
       "3260  10868     NaN      NaN   \n",
       "3261  10874     NaN      NaN   \n",
       "\n",
       "                                                   text  target  \n",
       "0                    Just happened a terrible car crash       1  \n",
       "1     Heard about #earthquake is different cities, s...       1  \n",
       "2     there is a forest fire at spot pond, geese are...       1  \n",
       "3              Apocalypse lighting. #Spokane #wildfires       1  \n",
       "4         Typhoon Soudelor kills 28 in China and Taiwan       1  \n",
       "...                                                 ...     ...  \n",
       "3257  The death toll in a #IS-suicide car bombing on...       1  \n",
       "3258  EARTHQUAKE SAFETY LOS ANGELES ÛÒ SAFETY FASTE...       1  \n",
       "3259  Storm in RI worse than last hurricane. My city...       1  \n",
       "3260  Green Line derailment in Chicago http://t.co/U...       1  \n",
       "3261  MEG issues Hazardous Weather Outlook (HWO) htt...       1  \n",
       "\n",
       "[1136 rows x 5 columns]"
      ]
     },
     "execution_count": 29,
     "metadata": {},
     "output_type": "execute_result"
    }
   ],
   "source": [
    "# check some disaster tweet predictions\n",
    "test[test.target == 1]"
   ]
  },
  {
   "cell_type": "code",
   "execution_count": 30,
   "id": "41fa6cac",
   "metadata": {
    "execution": {
     "iopub.execute_input": "2022-12-21T07:52:06.082890Z",
     "iopub.status.busy": "2022-12-21T07:52:06.082448Z",
     "iopub.status.idle": "2022-12-21T07:52:06.101317Z",
     "shell.execute_reply": "2022-12-21T07:52:06.100146Z"
    },
    "papermill": {
     "duration": 0.051042,
     "end_time": "2022-12-21T07:52:06.103399",
     "exception": false,
     "start_time": "2022-12-21T07:52:06.052357",
     "status": "completed"
    },
    "tags": []
   },
   "outputs": [
    {
     "data": {
      "text/html": [
       "<div>\n",
       "<style scoped>\n",
       "    .dataframe tbody tr th:only-of-type {\n",
       "        vertical-align: middle;\n",
       "    }\n",
       "\n",
       "    .dataframe tbody tr th {\n",
       "        vertical-align: top;\n",
       "    }\n",
       "\n",
       "    .dataframe thead th {\n",
       "        text-align: right;\n",
       "    }\n",
       "</style>\n",
       "<table border=\"1\" class=\"dataframe\">\n",
       "  <thead>\n",
       "    <tr style=\"text-align: right;\">\n",
       "      <th></th>\n",
       "      <th>id</th>\n",
       "      <th>keyword</th>\n",
       "      <th>location</th>\n",
       "      <th>text</th>\n",
       "      <th>target</th>\n",
       "    </tr>\n",
       "  </thead>\n",
       "  <tbody>\n",
       "    <tr>\n",
       "      <th>6</th>\n",
       "      <td>21</td>\n",
       "      <td>NaN</td>\n",
       "      <td>NaN</td>\n",
       "      <td>They'd probably still show more life than Arse...</td>\n",
       "      <td>0</td>\n",
       "    </tr>\n",
       "    <tr>\n",
       "      <th>7</th>\n",
       "      <td>22</td>\n",
       "      <td>NaN</td>\n",
       "      <td>NaN</td>\n",
       "      <td>Hey! How are you?</td>\n",
       "      <td>0</td>\n",
       "    </tr>\n",
       "    <tr>\n",
       "      <th>8</th>\n",
       "      <td>27</td>\n",
       "      <td>NaN</td>\n",
       "      <td>NaN</td>\n",
       "      <td>What a nice hat?</td>\n",
       "      <td>0</td>\n",
       "    </tr>\n",
       "    <tr>\n",
       "      <th>9</th>\n",
       "      <td>29</td>\n",
       "      <td>NaN</td>\n",
       "      <td>NaN</td>\n",
       "      <td>Fuck off!</td>\n",
       "      <td>0</td>\n",
       "    </tr>\n",
       "    <tr>\n",
       "      <th>10</th>\n",
       "      <td>30</td>\n",
       "      <td>NaN</td>\n",
       "      <td>NaN</td>\n",
       "      <td>No I don't like cold!</td>\n",
       "      <td>0</td>\n",
       "    </tr>\n",
       "    <tr>\n",
       "      <th>...</th>\n",
       "      <td>...</td>\n",
       "      <td>...</td>\n",
       "      <td>...</td>\n",
       "      <td>...</td>\n",
       "      <td>...</td>\n",
       "    </tr>\n",
       "    <tr>\n",
       "      <th>3249</th>\n",
       "      <td>10816</td>\n",
       "      <td>wrecked</td>\n",
       "      <td>los angeles</td>\n",
       "      <td>@thrillhho jsyk I haven't stopped thinking abt...</td>\n",
       "      <td>0</td>\n",
       "    </tr>\n",
       "    <tr>\n",
       "      <th>3250</th>\n",
       "      <td>10820</td>\n",
       "      <td>wrecked</td>\n",
       "      <td>Brussels, Belgium</td>\n",
       "      <td>@stighefootball Begovic has been garbage. He g...</td>\n",
       "      <td>0</td>\n",
       "    </tr>\n",
       "    <tr>\n",
       "      <th>3251</th>\n",
       "      <td>10828</td>\n",
       "      <td>wrecked</td>\n",
       "      <td>NaN</td>\n",
       "      <td>Wrecked today got my hattrick ????</td>\n",
       "      <td>0</td>\n",
       "    </tr>\n",
       "    <tr>\n",
       "      <th>3256</th>\n",
       "      <td>10857</td>\n",
       "      <td>NaN</td>\n",
       "      <td>NaN</td>\n",
       "      <td>To conference attendees! The blue line from th...</td>\n",
       "      <td>0</td>\n",
       "    </tr>\n",
       "    <tr>\n",
       "      <th>3262</th>\n",
       "      <td>10875</td>\n",
       "      <td>NaN</td>\n",
       "      <td>NaN</td>\n",
       "      <td>#CityofCalgary has activated its Municipal Eme...</td>\n",
       "      <td>0</td>\n",
       "    </tr>\n",
       "  </tbody>\n",
       "</table>\n",
       "<p>2127 rows × 5 columns</p>\n",
       "</div>"
      ],
      "text/plain": [
       "         id  keyword           location  \\\n",
       "6        21      NaN                NaN   \n",
       "7        22      NaN                NaN   \n",
       "8        27      NaN                NaN   \n",
       "9        29      NaN                NaN   \n",
       "10       30      NaN                NaN   \n",
       "...     ...      ...                ...   \n",
       "3249  10816  wrecked        los angeles   \n",
       "3250  10820  wrecked  Brussels, Belgium   \n",
       "3251  10828  wrecked                NaN   \n",
       "3256  10857      NaN                NaN   \n",
       "3262  10875      NaN                NaN   \n",
       "\n",
       "                                                   text  target  \n",
       "6     They'd probably still show more life than Arse...       0  \n",
       "7                                     Hey! How are you?       0  \n",
       "8                                      What a nice hat?       0  \n",
       "9                                             Fuck off!       0  \n",
       "10                                No I don't like cold!       0  \n",
       "...                                                 ...     ...  \n",
       "3249  @thrillhho jsyk I haven't stopped thinking abt...       0  \n",
       "3250  @stighefootball Begovic has been garbage. He g...       0  \n",
       "3251                 Wrecked today got my hattrick ????       0  \n",
       "3256  To conference attendees! The blue line from th...       0  \n",
       "3262  #CityofCalgary has activated its Municipal Eme...       0  \n",
       "\n",
       "[2127 rows x 5 columns]"
      ]
     },
     "execution_count": 30,
     "metadata": {},
     "output_type": "execute_result"
    }
   ],
   "source": [
    "# check some non-disaster tweet predictions\n",
    "test[test.target == 0]"
   ]
  },
  {
   "cell_type": "code",
   "execution_count": 31,
   "id": "fc994755",
   "metadata": {
    "execution": {
     "iopub.execute_input": "2022-12-21T07:52:06.164834Z",
     "iopub.status.busy": "2022-12-21T07:52:06.164069Z",
     "iopub.status.idle": "2022-12-21T07:52:06.176929Z",
     "shell.execute_reply": "2022-12-21T07:52:06.175787Z"
    },
    "papermill": {
     "duration": 0.046628,
     "end_time": "2022-12-21T07:52:06.179552",
     "exception": false,
     "start_time": "2022-12-21T07:52:06.132924",
     "status": "completed"
    },
    "tags": []
   },
   "outputs": [
    {
     "data": {
      "text/html": [
       "<div>\n",
       "<style scoped>\n",
       "    .dataframe tbody tr th:only-of-type {\n",
       "        vertical-align: middle;\n",
       "    }\n",
       "\n",
       "    .dataframe tbody tr th {\n",
       "        vertical-align: top;\n",
       "    }\n",
       "\n",
       "    .dataframe thead th {\n",
       "        text-align: right;\n",
       "    }\n",
       "</style>\n",
       "<table border=\"1\" class=\"dataframe\">\n",
       "  <thead>\n",
       "    <tr style=\"text-align: right;\">\n",
       "      <th></th>\n",
       "      <th>id</th>\n",
       "      <th>target</th>\n",
       "    </tr>\n",
       "  </thead>\n",
       "  <tbody>\n",
       "    <tr>\n",
       "      <th>0</th>\n",
       "      <td>0</td>\n",
       "      <td>1</td>\n",
       "    </tr>\n",
       "    <tr>\n",
       "      <th>1</th>\n",
       "      <td>2</td>\n",
       "      <td>1</td>\n",
       "    </tr>\n",
       "    <tr>\n",
       "      <th>2</th>\n",
       "      <td>3</td>\n",
       "      <td>1</td>\n",
       "    </tr>\n",
       "    <tr>\n",
       "      <th>3</th>\n",
       "      <td>9</td>\n",
       "      <td>1</td>\n",
       "    </tr>\n",
       "    <tr>\n",
       "      <th>4</th>\n",
       "      <td>11</td>\n",
       "      <td>1</td>\n",
       "    </tr>\n",
       "    <tr>\n",
       "      <th>...</th>\n",
       "      <td>...</td>\n",
       "      <td>...</td>\n",
       "    </tr>\n",
       "    <tr>\n",
       "      <th>3258</th>\n",
       "      <td>10861</td>\n",
       "      <td>1</td>\n",
       "    </tr>\n",
       "    <tr>\n",
       "      <th>3259</th>\n",
       "      <td>10865</td>\n",
       "      <td>1</td>\n",
       "    </tr>\n",
       "    <tr>\n",
       "      <th>3260</th>\n",
       "      <td>10868</td>\n",
       "      <td>1</td>\n",
       "    </tr>\n",
       "    <tr>\n",
       "      <th>3261</th>\n",
       "      <td>10874</td>\n",
       "      <td>1</td>\n",
       "    </tr>\n",
       "    <tr>\n",
       "      <th>3262</th>\n",
       "      <td>10875</td>\n",
       "      <td>0</td>\n",
       "    </tr>\n",
       "  </tbody>\n",
       "</table>\n",
       "<p>3263 rows × 2 columns</p>\n",
       "</div>"
      ],
      "text/plain": [
       "         id  target\n",
       "0         0       1\n",
       "1         2       1\n",
       "2         3       1\n",
       "3         9       1\n",
       "4        11       1\n",
       "...     ...     ...\n",
       "3258  10861       1\n",
       "3259  10865       1\n",
       "3260  10868       1\n",
       "3261  10874       1\n",
       "3262  10875       0\n",
       "\n",
       "[3263 rows x 2 columns]"
      ]
     },
     "execution_count": 31,
     "metadata": {},
     "output_type": "execute_result"
    }
   ],
   "source": [
    "# generate submission results \n",
    "submission = test[['id','target']]\n",
    "submission"
   ]
  },
  {
   "cell_type": "code",
   "execution_count": 32,
   "id": "dadf43bd",
   "metadata": {
    "execution": {
     "iopub.execute_input": "2022-12-21T07:52:06.240753Z",
     "iopub.status.busy": "2022-12-21T07:52:06.240323Z",
     "iopub.status.idle": "2022-12-21T07:52:06.252296Z",
     "shell.execute_reply": "2022-12-21T07:52:06.251218Z"
    },
    "papermill": {
     "duration": 0.045036,
     "end_time": "2022-12-21T07:52:06.254979",
     "exception": false,
     "start_time": "2022-12-21T07:52:06.209943",
     "status": "completed"
    },
    "tags": []
   },
   "outputs": [],
   "source": [
    "submission.to_csv('submission_biLSTM.csv', index = False)"
   ]
  }
 ],
 "metadata": {
  "kernelspec": {
   "display_name": "Python 3",
   "language": "python",
   "name": "python3"
  },
  "language_info": {
   "codemirror_mode": {
    "name": "ipython",
    "version": 3
   },
   "file_extension": ".py",
   "mimetype": "text/x-python",
   "name": "python",
   "nbconvert_exporter": "python",
   "pygments_lexer": "ipython3",
   "version": "3.7.12"
  },
  "papermill": {
   "default_parameters": {},
   "duration": 121.435444,
   "end_time": "2022-12-21T07:52:08.916400",
   "environment_variables": {},
   "exception": null,
   "input_path": "__notebook__.ipynb",
   "output_path": "__notebook__.ipynb",
   "parameters": {},
   "start_time": "2022-12-21T07:50:07.480956",
   "version": "2.3.4"
  }
 },
 "nbformat": 4,
 "nbformat_minor": 5
}
